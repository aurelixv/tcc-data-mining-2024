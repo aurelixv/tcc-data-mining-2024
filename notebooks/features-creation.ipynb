{
 "cells": [
  {
   "cell_type": "markdown",
   "metadata": {},
   "source": [
    "### Importa módulos necessários"
   ]
  },
  {
   "cell_type": "code",
   "execution_count": 49,
   "metadata": {},
   "outputs": [],
   "source": [
    "from pyspark.sql import SparkSession, Row, Window\n",
    "import pyspark.sql.functions as F"
   ]
  },
  {
   "cell_type": "markdown",
   "metadata": {},
   "source": [
    "### Inicia sessão Spark"
   ]
  },
  {
   "cell_type": "code",
   "execution_count": 50,
   "metadata": {},
   "outputs": [],
   "source": [
    "spark = (\n",
    "    SparkSession.builder.master(\"local[*]\")\n",
    "    .appName(\"features-creation\")\n",
    "    .config(\"spark.ui.port\", \"4040\")\n",
    "    .config(\"spark.ui.showConsoleProgress\", \"True\")\n",
    "    .getOrCreate()\n",
    ")"
   ]
  },
  {
   "cell_type": "markdown",
   "metadata": {},
   "source": [
    "### Carrega tabela da camada bronze"
   ]
  },
  {
   "cell_type": "code",
   "execution_count": 51,
   "metadata": {},
   "outputs": [],
   "source": [
    "bronze_path = \"/home/jovyan/data/bronze/salaries.parquet\"\n",
    "df = spark.read.parquet(bronze_path)"
   ]
  },
  {
   "cell_type": "code",
   "execution_count": 52,
   "metadata": {},
   "outputs": [
    {
     "name": "stdout",
     "output_type": "stream",
     "text": [
      "+----------------+---------------+-------------------+------+---------------+-------------+------------------+------------+----------------+------------+---------+\n",
      "|experience_level|employment_type|job_title          |salary|salary_currency|salary_in_usd|employee_residence|remote_ratio|company_location|company_size|work_year|\n",
      "+----------------+---------------+-------------------+------+---------------+-------------+------------------+------------+----------------+------------+---------+\n",
      "|MI              |FT             |Data Manager       |117400|USD            |117400       |US                |0           |US              |M           |2024     |\n",
      "|MI              |FT             |Data Manager       |62620 |USD            |62620        |US                |0           |US              |M           |2024     |\n",
      "|SE              |FT             |Data Manager       |131200|USD            |131200       |US                |100         |US              |M           |2024     |\n",
      "|SE              |FT             |Data Manager       |95300 |USD            |95300        |US                |100         |US              |M           |2024     |\n",
      "|SE              |FT             |Associate          |68800 |USD            |68800        |US                |0           |US              |M           |2024     |\n",
      "|SE              |FT             |Associate          |48000 |USD            |48000        |US                |0           |US              |M           |2024     |\n",
      "|EN              |FT             |Data Engineer      |264200|USD            |264200       |US                |0           |US              |M           |2024     |\n",
      "|EN              |FT             |Data Engineer      |143100|USD            |143100       |US                |0           |US              |M           |2024     |\n",
      "|MI              |FT             |Research Engineer  |208000|USD            |208000       |US                |0           |US              |M           |2024     |\n",
      "|MI              |FT             |Research Engineer  |141340|USD            |141340       |US                |0           |US              |M           |2024     |\n",
      "|SE              |FT             |Software Engineer  |200000|USD            |200000       |US                |0           |US              |M           |2024     |\n",
      "|SE              |FT             |Software Engineer  |136000|USD            |136000       |US                |0           |US              |M           |2024     |\n",
      "|MI              |FT             |Engineering Manager|329600|USD            |329600       |US                |0           |US              |M           |2024     |\n",
      "|MI              |FT             |Engineering Manager|190700|USD            |190700       |US                |0           |US              |M           |2024     |\n",
      "|SE              |FT             |Manager            |360200|USD            |360200       |US                |0           |US              |M           |2024     |\n",
      "|SE              |FT             |Manager            |208300|USD            |208300       |US                |0           |US              |M           |2024     |\n",
      "|MI              |FT             |Engineer           |264200|USD            |264200       |US                |0           |US              |M           |2024     |\n",
      "|MI              |FT             |Engineer           |143100|USD            |143100       |US                |0           |US              |M           |2024     |\n",
      "|SE              |FT             |Software Engineer  |312200|USD            |312200       |US                |0           |US              |M           |2024     |\n",
      "|SE              |FT             |Software Engineer  |175800|USD            |175800       |US                |0           |US              |M           |2024     |\n",
      "+----------------+---------------+-------------------+------+---------------+-------------+------------------+------------+----------------+------------+---------+\n",
      "only showing top 20 rows\n",
      "\n"
     ]
    }
   ],
   "source": [
    "df.show(truncate=False)"
   ]
  },
  {
   "cell_type": "markdown",
   "metadata": {},
   "source": [
    "### Prepara a base de treino e teste com features para modelos de Machine Learning"
   ]
  },
  {
   "cell_type": "code",
   "execution_count": 53,
   "metadata": {},
   "outputs": [],
   "source": [
    "df_id = df.withColumn(\"id\", F.monotonically_increasing_id()).select(\"id\", *df.columns)"
   ]
  },
  {
   "cell_type": "code",
   "execution_count": 54,
   "metadata": {},
   "outputs": [],
   "source": [
    "df_job_focus = df_id.withColumn(\n",
    "    \"job_focus\",\n",
    "    F.when(F.contains(F.col(\"job_title\"), F.lit(\"Engineer\")), \"Engineer\")\n",
    "    .when(F.contains(F.col(\"job_title\"), F.lit(\"Scien\")), \"Scientist\")\n",
    "    .when(F.contains(F.col(\"job_title\"), F.lit(\"Research\")), \"Scientist\")\n",
    "    .when(F.contains(F.col(\"job_title\"), F.lit(\"Analy\")), \"Analyst\")\n",
    "    .when(F.contains(F.col(\"job_title\"), F.lit(\"Architect\")), \"Architect\")\n",
    "    .when(F.contains(F.col(\"job_title\"), F.lit(\"Model\")), \"Architect\")\n",
    "    .when(\n",
    "        F.contains(F.col(\"job_title\"), F.lit(\"Business Intelligence\")),\n",
    "        \"Business Intelligence\",\n",
    "    )\n",
    "    .when(F.contains(F.col(\"job_title\"), F.lit(\"BI\")), \"Business Intelligence\")\n",
    "    .when(F.contains(F.col(\"job_title\"), F.lit(\"Visual\")), \"Business Intelligence\")\n",
    "    .when(F.contains(F.col(\"job_title\"), F.lit(\"Manager\")), \"Manager\")\n",
    "    .when(F.contains(F.col(\"job_title\"), F.lit(\"Devel\")), \"Developer\")\n",
    "    .otherwise(\"Other\"),\n",
    ").withColumn(\n",
    "    \"data_roles\",\n",
    "    F.when(F.contains(F.col(\"job_title\"), F.lit(\"Data\")), F.lit(1))\n",
    "    .when(F.contains(F.col(\"job_title\"), F.lit(\"Analytics\")), F.lit(1))\n",
    "    .when(F.contains(F.col(\"job_title\"), F.lit(\"AI\")), F.lit(1))\n",
    "    .when(F.contains(F.col(\"job_title\"), F.lit(\"Machine Learning\")), F.lit(1))\n",
    "    .when(F.contains(F.col(\"job_title\"), F.lit(\"ML\")), F.lit(1))\n",
    "    .when(\n",
    "        F.contains(F.col(\"job_title\"), F.lit(\"Business Intelligence\")),\n",
    "        F.lit(1),\n",
    "    )\n",
    "    .when(F.contains(F.col(\"job_title\"), F.lit(\"BI\")), F.lit(1))\n",
    "    .when(F.contains(F.col(\"job_title\"), F.lit(\"Deep Learning\")), F.lit(1))\n",
    "    .when(F.contains(F.col(\"job_title\"), F.lit(\"ETL\")), F.lit(1))\n",
    "    .when(F.contains(F.col(\"job_title\"), F.lit(\"NLP\")), F.lit(1))\n",
    "    .when(F.contains(F.col(\"job_title\"), F.lit(\"Artificial Intelligence\")), F.lit(1))\n",
    "    .when(F.contains(F.col(\"job_title\"), F.lit(\"Chatbot\")), F.lit(1))\n",
    "    .when(F.contains(F.col(\"job_title\"), F.lit(\"Decision Scientist\")), F.lit(1))\n",
    "    .otherwise(F.lit(0)),\n",
    ")"
   ]
  },
  {
   "cell_type": "code",
   "execution_count": 55,
   "metadata": {},
   "outputs": [],
   "source": [
    "inflation = spark.createDataFrame(\n",
    "    [\n",
    "        Row(year=2020, rate=0.0123),\n",
    "        Row(year=2021, rate=0.0470),\n",
    "        Row(year=2022, rate=0.0800),\n",
    "        Row(year=2023, rate=0.0412),\n",
    "        Row(year=2024, rate=0.0),\n",
    "    ]\n",
    ")"
   ]
  },
  {
   "cell_type": "code",
   "execution_count": 56,
   "metadata": {},
   "outputs": [],
   "source": [
    "cumulative_inflation = (\n",
    "    inflation.select(\"year\")\n",
    "    .alias(\"a\")\n",
    "    .join(inflation.alias(\"b\"), F.col(\"b.year\") >= F.col(\"a.year\"), how=\"left\")\n",
    "    .select(\"a.year\", \"rate\")\n",
    "    .groupBy(\"year\")\n",
    "    .agg(F.sum(F.col(\"rate\")).alias(\"cumulative_rate\"))\n",
    ")"
   ]
  },
  {
   "cell_type": "code",
   "execution_count": 57,
   "metadata": {},
   "outputs": [],
   "source": [
    "df_update = (\n",
    "    df_job_focus.join(\n",
    "        cumulative_inflation, df.work_year == cumulative_inflation.year, how=\"left\"\n",
    "    )\n",
    "    .withColumn(\n",
    "        \"updated_salary\",\n",
    "        F.round(\n",
    "            F.col(\"salary_in_usd\") + F.col(\"salary_in_usd\") * F.col(\"cumulative_rate\"),\n",
    "            2,\n",
    "        ),\n",
    "    )\n",
    "    .sort(\"work_year\")\n",
    ")"
   ]
  },
  {
   "cell_type": "code",
   "execution_count": 58,
   "metadata": {},
   "outputs": [],
   "source": [
    "z_score = (\n",
    "    df_update.withColumn(\n",
    "        \"mean\", F.mean(\"updated_salary\").over(Window.partitionBy(F.lit(1)))\n",
    "    )\n",
    "    .withColumn(\n",
    "        \"stddev\", F.stddev_pop(\"updated_salary\").over(Window.partitionBy(F.lit(1)))\n",
    "    )\n",
    "    .withColumn(\n",
    "        \"z_score\", F.abs((F.col(\"updated_salary\") - F.col(\"mean\")) / F.col(\"stddev\"))\n",
    "    )\n",
    "    .withColumn(\"limiar\", F.when(F.col(\"z_score\") > 3, 1).otherwise(0))\n",
    "    .filter(F.col(\"limiar\") == 0)\n",
    ")"
   ]
  },
  {
   "cell_type": "code",
   "execution_count": 59,
   "metadata": {},
   "outputs": [],
   "source": [
    "df_job_type = z_score.withColumn(\n",
    "    \"job_type\",\n",
    "    F.when(F.col(\"remote_ratio\") == 0, \"Presencial\")\n",
    "    .when(F.col(\"remote_ratio\") == 50, \"Híbrido\")\n",
    "    .when(F.col(\"remote_ratio\") == 100, \"Remoto\"),\n",
    ")"
   ]
  },
  {
   "cell_type": "code",
   "execution_count": 60,
   "metadata": {},
   "outputs": [],
   "source": [
    "df_usa = df_job_type.withColumn(\n",
    "    \"usa_residence\", F.when(F.col(\"employee_residence\") == \"US\", 1).otherwise(0)\n",
    ").withColumn(\"usa_company\", F.when(F.col(\"company_location\") == \"US\", 1).otherwise(0))"
   ]
  },
  {
   "cell_type": "code",
   "execution_count": 61,
   "metadata": {},
   "outputs": [],
   "source": [
    "df_silver = df_usa.select(\n",
    "    \"id\",\n",
    "    \"experience_level\",\n",
    "    \"employment_type\",\n",
    "    \"company_size\",\n",
    "    \"job_focus\",\n",
    "    \"data_roles\",\n",
    "    \"job_type\",\n",
    "    \"usa_residence\",\n",
    "    \"usa_company\",\n",
    "    \"updated_salary\",\n",
    "    \"work_year\",\n",
    ")"
   ]
  },
  {
   "cell_type": "code",
   "execution_count": 62,
   "metadata": {},
   "outputs": [
    {
     "name": "stdout",
     "output_type": "stream",
     "text": [
      "+-----------+----------------+---------------+------------+---------+----------+----------+-------------+-----------+--------------+---------+\n",
      "|id         |experience_level|employment_type|company_size|job_focus|data_roles|job_type  |usa_residence|usa_company|updated_salary|work_year|\n",
      "+-----------+----------------+---------------+------------+---------+----------+----------+-------------+-----------+--------------+---------+\n",
      "|17179869184|EN              |FT             |S           |Engineer |1         |Presencial|0            |0          |118050.0      |2020     |\n",
      "|17179869185|EN              |CT             |L           |Analyst  |1         |Híbrido   |0            |0          |52830.92      |2020     |\n",
      "|17179869186|SE              |FT             |M           |Scientist|1         |Híbrido   |1            |1          |193602.0      |2020     |\n",
      "|17179869187|EN              |FT             |L           |Analyst  |1         |Presencial|0            |0          |56544.77      |2020     |\n",
      "|17179869188|EX              |FT             |L           |Scientist|1         |Remoto    |1            |1          |354150.0      |2020     |\n",
      "|17179869189|MI              |CT             |M           |Analyst  |1         |Presencial|0            |0          |70830.0       |2020     |\n",
      "|17179869190|EX              |FT             |M           |Analyst  |1         |Presencial|0            |0          |17707.5       |2020     |\n",
      "|17179869191|MI              |FT             |M           |Analyst  |1         |Presencial|1            |1          |112147.5      |2020     |\n",
      "|17179869192|EN              |FT             |M           |Analyst  |1         |Remoto    |0            |0          |26926.02      |2020     |\n",
      "|17179869193|EN              |FT             |S           |Scientist|1         |Presencial|0            |0          |58160.87      |2020     |\n",
      "|17179869194|SE              |FT             |L           |Manager  |1         |Híbrido   |0            |0          |138241.27     |2020     |\n",
      "|17179869195|EN              |FT             |L           |Engineer |1         |Remoto    |0            |0          |64622.93      |2020     |\n",
      "|17179869196|MI              |FT             |S           |Analyst  |1         |Presencial|0            |0          |23610.0       |2020     |\n",
      "|17179869197|MI              |FT             |S           |Engineer |1         |Remoto    |0            |0          |70007.19      |2020     |\n",
      "|17179869198|EN              |FT             |L           |Engineer |1         |Remoto    |1            |1          |82635.0       |2020     |\n",
      "|17179869199|SE              |FT             |L           |Scientist|1         |Remoto    |0            |1          |80779.25      |2020     |\n",
      "|17179869201|MI              |FT             |L           |Analyst  |1         |Híbrido   |0            |0          |55199.0       |2020     |\n",
      "|17179869202|MI              |FT             |L           |Engineer |1         |Híbrido   |0            |0          |87510.47      |2020     |\n",
      "|17179869203|MI              |FT             |L           |Scientist|1         |Remoto    |1            |1          |121591.5      |2020     |\n",
      "|17179869204|EN              |FT             |L           |Engineer |1         |Híbrido   |1            |1          |295125.0      |2020     |\n",
      "+-----------+----------------+---------------+------------+---------+----------+----------+-------------+-----------+--------------+---------+\n",
      "only showing top 20 rows\n",
      "\n"
     ]
    }
   ],
   "source": [
    "df_silver.show(truncate=False)"
   ]
  },
  {
   "cell_type": "code",
   "execution_count": 63,
   "metadata": {},
   "outputs": [
    {
     "data": {
      "text/plain": [
       "64323"
      ]
     },
     "execution_count": 63,
     "metadata": {},
     "output_type": "execute_result"
    }
   ],
   "source": [
    "df_silver.count()"
   ]
  },
  {
   "cell_type": "code",
   "execution_count": 64,
   "metadata": {},
   "outputs": [
    {
     "name": "stdout",
     "output_type": "stream",
     "text": [
      "root\n",
      " |-- id: long (nullable = false)\n",
      " |-- experience_level: string (nullable = true)\n",
      " |-- employment_type: string (nullable = true)\n",
      " |-- company_size: string (nullable = true)\n",
      " |-- job_focus: string (nullable = false)\n",
      " |-- data_roles: integer (nullable = false)\n",
      " |-- job_type: string (nullable = true)\n",
      " |-- usa_residence: integer (nullable = false)\n",
      " |-- usa_company: integer (nullable = false)\n",
      " |-- updated_salary: double (nullable = true)\n",
      " |-- work_year: integer (nullable = true)\n",
      "\n"
     ]
    }
   ],
   "source": [
    "df_silver.printSchema()"
   ]
  },
  {
   "cell_type": "markdown",
   "metadata": {},
   "source": [
    "### Persistindo na camada silver"
   ]
  },
  {
   "cell_type": "code",
   "execution_count": 65,
   "metadata": {},
   "outputs": [],
   "source": [
    "silver_path = \"/home/jovyan/data/silver/features.parquet\"\n",
    "df_silver.write.partitionBy(\"work_year\").mode(\"overwrite\").parquet(silver_path)"
   ]
  },
  {
   "cell_type": "code",
   "execution_count": 66,
   "metadata": {},
   "outputs": [],
   "source": [
    "spark.stop()"
   ]
  }
 ],
 "metadata": {
  "kernelspec": {
   "display_name": "Python 3 (ipykernel)",
   "language": "python",
   "name": "python3"
  },
  "language_info": {
   "codemirror_mode": {
    "name": "ipython",
    "version": 3
   },
   "file_extension": ".py",
   "mimetype": "text/x-python",
   "name": "python",
   "nbconvert_exporter": "python",
   "pygments_lexer": "ipython3",
   "version": "3.11.10"
  }
 },
 "nbformat": 4,
 "nbformat_minor": 2
}
