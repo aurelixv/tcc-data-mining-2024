{
 "cells": [
  {
   "cell_type": "markdown",
   "metadata": {},
   "source": [
    "### Importa módulos necessários"
   ]
  },
  {
   "cell_type": "code",
   "execution_count": null,
   "metadata": {},
   "outputs": [],
   "source": [
    "from pyspark.sql import SparkSession\n",
    "import pyspark.sql.functions as F\n",
    "from pyspark.ml import Pipeline\n",
    "from pyspark.ml.regression import RandomForestRegressor, GBTRegressor\n",
    "from pyspark.ml.feature import StringIndexer, OneHotEncoder, VectorAssembler\n",
    "from pyspark.ml.evaluation import RegressionEvaluator"
   ]
  },
  {
   "cell_type": "markdown",
   "metadata": {},
   "source": [
    "### Inicia sessão Spark"
   ]
  },
  {
   "cell_type": "code",
   "execution_count": 318,
   "metadata": {},
   "outputs": [],
   "source": [
    "spark = (\n",
    "    SparkSession.builder.master(\"local[*]\")\n",
    "    .appName(\"ml-model\")\n",
    "    .config(\"spark.ui.port\", \"4040\")\n",
    "    .config(\"spark.ui.showConsoleProgress\", \"True\")\n",
    "    .getOrCreate()\n",
    ")"
   ]
  },
  {
   "cell_type": "markdown",
   "metadata": {},
   "source": [
    "### Carrega tabela da camada bronze"
   ]
  },
  {
   "cell_type": "code",
   "execution_count": 319,
   "metadata": {},
   "outputs": [],
   "source": [
    "silver_path = \"/home/jovyan/data/silver/features.parquet\"\n",
    "df = spark.read.parquet(silver_path)"
   ]
  },
  {
   "cell_type": "code",
   "execution_count": 320,
   "metadata": {},
   "outputs": [
    {
     "name": "stdout",
     "output_type": "stream",
     "text": [
      "+---+----------------+---------------+------------+---------+----------+----------+-------------+-----------+--------------+---------+\n",
      "|id |experience_level|employment_type|company_size|job_focus|data_roles|job_type  |usa_residence|usa_company|updated_salary|work_year|\n",
      "+---+----------------+---------------+------------+---------+----------+----------+-------------+-----------+--------------+---------+\n",
      "|0  |MI              |FT             |M           |Manager  |1         |Presencial|1            |1          |117400.0      |2024     |\n",
      "|1  |MI              |FT             |M           |Manager  |1         |Presencial|1            |1          |62620.0       |2024     |\n",
      "|2  |SE              |FT             |M           |Manager  |1         |Remoto    |1            |1          |131200.0      |2024     |\n",
      "|3  |SE              |FT             |M           |Manager  |1         |Remoto    |1            |1          |95300.0       |2024     |\n",
      "|4  |SE              |FT             |M           |Other    |0         |Presencial|1            |1          |68800.0       |2024     |\n",
      "|5  |SE              |FT             |M           |Other    |0         |Presencial|1            |1          |48000.0       |2024     |\n",
      "|6  |EN              |FT             |M           |Engineer |1         |Presencial|1            |1          |264200.0      |2024     |\n",
      "|7  |EN              |FT             |M           |Engineer |1         |Presencial|1            |1          |143100.0      |2024     |\n",
      "|8  |MI              |FT             |M           |Engineer |0         |Presencial|1            |1          |208000.0      |2024     |\n",
      "|9  |MI              |FT             |M           |Engineer |0         |Presencial|1            |1          |141340.0      |2024     |\n",
      "|10 |SE              |FT             |M           |Engineer |0         |Presencial|1            |1          |200000.0      |2024     |\n",
      "|11 |SE              |FT             |M           |Engineer |0         |Presencial|1            |1          |136000.0      |2024     |\n",
      "|12 |MI              |FT             |M           |Engineer |0         |Presencial|1            |1          |329600.0      |2024     |\n",
      "|13 |MI              |FT             |M           |Engineer |0         |Presencial|1            |1          |190700.0      |2024     |\n",
      "|14 |SE              |FT             |M           |Manager  |0         |Presencial|1            |1          |360200.0      |2024     |\n",
      "|15 |SE              |FT             |M           |Manager  |0         |Presencial|1            |1          |208300.0      |2024     |\n",
      "|16 |MI              |FT             |M           |Engineer |0         |Presencial|1            |1          |264200.0      |2024     |\n",
      "|17 |MI              |FT             |M           |Engineer |0         |Presencial|1            |1          |143100.0      |2024     |\n",
      "|18 |SE              |FT             |M           |Engineer |0         |Presencial|1            |1          |312200.0      |2024     |\n",
      "|19 |SE              |FT             |M           |Engineer |0         |Presencial|1            |1          |175800.0      |2024     |\n",
      "+---+----------------+---------------+------------+---------+----------+----------+-------------+-----------+--------------+---------+\n",
      "only showing top 20 rows\n",
      "\n"
     ]
    }
   ],
   "source": [
    "df.show(truncate=False)"
   ]
  },
  {
   "cell_type": "markdown",
   "metadata": {},
   "source": [
    "### Pipeline para treino do modelo"
   ]
  },
  {
   "cell_type": "code",
   "execution_count": 321,
   "metadata": {},
   "outputs": [],
   "source": [
    "(df_X, df_Y) = df.randomSplit([0.8, 0.2], seed=42)"
   ]
  },
  {
   "cell_type": "code",
   "execution_count": 322,
   "metadata": {},
   "outputs": [
    {
     "data": {
      "text/plain": [
       "51313"
      ]
     },
     "execution_count": 322,
     "metadata": {},
     "output_type": "execute_result"
    }
   ],
   "source": [
    "df_X.count()"
   ]
  },
  {
   "cell_type": "code",
   "execution_count": 323,
   "metadata": {},
   "outputs": [
    {
     "data": {
      "text/plain": [
       "13010"
      ]
     },
     "execution_count": 323,
     "metadata": {},
     "output_type": "execute_result"
    }
   ],
   "source": [
    "df_Y.count()"
   ]
  },
  {
   "cell_type": "code",
   "execution_count": 324,
   "metadata": {},
   "outputs": [],
   "source": [
    "cat_features = [\n",
    "    \"experience_level\",\n",
    "    \"employment_type\",\n",
    "    \"company_size\",\n",
    "    \"job_focus\",\n",
    "    \"data_roles\",\n",
    "    \"job_type\",\n",
    "    \"usa_residence\",\n",
    "    \"usa_company\",\n",
    "]"
   ]
  },
  {
   "cell_type": "code",
   "execution_count": 325,
   "metadata": {},
   "outputs": [],
   "source": [
    "string_indexer = StringIndexer(\n",
    "    inputCols=cat_features,\n",
    "    outputCols=[f\"{feature}_cat\" for feature in cat_features],\n",
    ")"
   ]
  },
  {
   "cell_type": "code",
   "execution_count": 326,
   "metadata": {},
   "outputs": [],
   "source": [
    "encoder = OneHotEncoder(\n",
    "    inputCols=[f\"{feature}_cat\" for feature in cat_features],\n",
    "    outputCols=[f\"{feature}_vec\" for feature in cat_features],\n",
    ")"
   ]
  },
  {
   "cell_type": "code",
   "execution_count": 327,
   "metadata": {},
   "outputs": [],
   "source": [
    "assembler = VectorAssembler(\n",
    "    inputCols=[f\"{feature}_vec\" for feature in cat_features],\n",
    "    outputCol=\"features\",\n",
    ")"
   ]
  },
  {
   "cell_type": "code",
   "execution_count": 350,
   "metadata": {},
   "outputs": [],
   "source": [
    "rfr = RandomForestRegressor(featuresCol=\"features\", labelCol=\"updated_salary\")"
   ]
  },
  {
   "cell_type": "code",
   "execution_count": 351,
   "metadata": {},
   "outputs": [],
   "source": [
    "gbt = GBTRegressor(featuresCol=\"features\", labelCol=\"updated_salary\")"
   ]
  },
  {
   "cell_type": "code",
   "execution_count": 360,
   "metadata": {},
   "outputs": [],
   "source": [
    "pipe = Pipeline(stages=[string_indexer, encoder, assembler, gbt])"
   ]
  },
  {
   "cell_type": "code",
   "execution_count": 361,
   "metadata": {},
   "outputs": [],
   "source": [
    "result = pipe.fit(df_X).transform(df_Y)"
   ]
  },
  {
   "cell_type": "code",
   "execution_count": 362,
   "metadata": {},
   "outputs": [
    {
     "name": "stdout",
     "output_type": "stream",
     "text": [
      "+---+----------------+---------------+------------+---------+----------+----------+-------------+-----------+--------------+---------+--------------------+-------------------+----------------+-------------+--------------+------------+-----------------+---------------+--------------------+-------------------+----------------+-------------+--------------+-------------+-----------------+---------------+-------------------------------------------------------------+------------------+\n",
      "|id |experience_level|employment_type|company_size|job_focus|data_roles|job_type  |usa_residence|usa_company|updated_salary|work_year|experience_level_cat|employment_type_cat|company_size_cat|job_focus_cat|data_roles_cat|job_type_cat|usa_residence_cat|usa_company_cat|experience_level_vec|employment_type_vec|company_size_vec|job_focus_vec|data_roles_vec|job_type_vec |usa_residence_vec|usa_company_vec|features                                                     |prediction        |\n",
      "+---+----------------+---------------+------------+---------+----------+----------+-------------+-----------+--------------+---------+--------------------+-------------------+----------------+-------------+--------------+------------+-----------------+---------------+--------------------+-------------------+----------------+-------------+--------------+-------------+-----------------+---------------+-------------------------------------------------------------+------------------+\n",
      "|2  |SE              |FT             |M           |Manager  |1         |Remoto    |1            |1          |131200.0      |2024     |0.0                 |0.0                |0.0             |3.0          |0.0           |1.0         |0.0              |0.0            |(3,[0],[1.0])       |(3,[0],[1.0])      |(2,[0],[1.0])   |(7,[3],[1.0])|(1,[0],[1.0]) |(2,[1],[1.0])|(1,[0],[1.0])    |(1,[0],[1.0])  |(20,[0,3,6,11,15,17,18,19],[1.0,1.0,1.0,1.0,1.0,1.0,1.0,1.0])|142953.2007149337 |\n",
      "|6  |EN              |FT             |M           |Engineer |1         |Presencial|1            |1          |264200.0      |2024     |2.0                 |0.0                |0.0             |0.0          |0.0           |0.0         |0.0              |0.0            |(3,[2],[1.0])       |(3,[0],[1.0])      |(2,[0],[1.0])   |(7,[0],[1.0])|(1,[0],[1.0]) |(2,[0],[1.0])|(1,[0],[1.0])    |(1,[0],[1.0])  |(20,[2,3,6,8,15,16,18,19],[1.0,1.0,1.0,1.0,1.0,1.0,1.0,1.0]) |128773.96309724472|\n",
      "|8  |MI              |FT             |M           |Engineer |0         |Presencial|1            |1          |208000.0      |2024     |1.0                 |0.0                |0.0             |0.0          |1.0           |0.0         |0.0              |0.0            |(3,[1],[1.0])       |(3,[0],[1.0])      |(2,[0],[1.0])   |(7,[0],[1.0])|(1,[],[])     |(2,[0],[1.0])|(1,[0],[1.0])    |(1,[0],[1.0])  |(20,[1,3,6,8,16,18,19],[1.0,1.0,1.0,1.0,1.0,1.0,1.0])        |166836.22549704075|\n",
      "|13 |MI              |FT             |M           |Engineer |0         |Presencial|1            |1          |190700.0      |2024     |1.0                 |0.0                |0.0             |0.0          |1.0           |0.0         |0.0              |0.0            |(3,[1],[1.0])       |(3,[0],[1.0])      |(2,[0],[1.0])   |(7,[0],[1.0])|(1,[],[])     |(2,[0],[1.0])|(1,[0],[1.0])    |(1,[0],[1.0])  |(20,[1,3,6,8,16,18,19],[1.0,1.0,1.0,1.0,1.0,1.0,1.0])        |166836.22549704075|\n",
      "|19 |SE              |FT             |M           |Engineer |0         |Presencial|1            |1          |175800.0      |2024     |0.0                 |0.0                |0.0             |0.0          |1.0           |0.0         |0.0              |0.0            |(3,[0],[1.0])       |(3,[0],[1.0])      |(2,[0],[1.0])   |(7,[0],[1.0])|(1,[],[])     |(2,[0],[1.0])|(1,[0],[1.0])    |(1,[0],[1.0])  |(20,[0,3,6,8,16,18,19],[1.0,1.0,1.0,1.0,1.0,1.0,1.0])        |195210.699918533  |\n",
      "|23 |MI              |FT             |M           |Manager  |0         |Presencial|1            |1          |136300.0      |2024     |1.0                 |0.0                |0.0             |3.0          |1.0           |0.0         |0.0              |0.0            |(3,[1],[1.0])       |(3,[0],[1.0])      |(2,[0],[1.0])   |(7,[3],[1.0])|(1,[],[])     |(2,[0],[1.0])|(1,[0],[1.0])    |(1,[0],[1.0])  |(20,[1,3,6,11,16,18,19],[1.0,1.0,1.0,1.0,1.0,1.0,1.0])       |158740.4120201509 |\n",
      "|29 |SE              |FT             |L           |Engineer |1         |Presencial|1            |1          |107000.0      |2024     |0.0                 |0.0                |1.0             |0.0          |0.0           |0.0         |0.0              |0.0            |(3,[0],[1.0])       |(3,[0],[1.0])      |(2,[1],[1.0])   |(7,[0],[1.0])|(1,[0],[1.0]) |(2,[0],[1.0])|(1,[0],[1.0])    |(1,[0],[1.0])  |(20,[0,3,7,8,15,16,18,19],[1.0,1.0,1.0,1.0,1.0,1.0,1.0,1.0]) |173212.51263105127|\n",
      "|35 |EN              |FT             |M           |Analyst  |1         |Presencial|1            |1          |38000.0       |2024     |2.0                 |0.0                |0.0             |2.0          |0.0           |0.0         |0.0              |0.0            |(3,[2],[1.0])       |(3,[0],[1.0])      |(2,[0],[1.0])   |(7,[2],[1.0])|(1,[0],[1.0]) |(2,[0],[1.0])|(1,[0],[1.0])    |(1,[0],[1.0])  |(20,[2,3,6,10,15,16,18,19],[1.0,1.0,1.0,1.0,1.0,1.0,1.0,1.0])|95909.13151330591 |\n",
      "|45 |SE              |FT             |M           |Scientist|1         |Remoto    |1            |1          |111720.0      |2024     |0.0                 |0.0                |0.0             |1.0          |0.0           |1.0         |0.0              |0.0            |(3,[0],[1.0])       |(3,[0],[1.0])      |(2,[0],[1.0])   |(7,[1],[1.0])|(1,[0],[1.0]) |(2,[1],[1.0])|(1,[0],[1.0])    |(1,[0],[1.0])  |(20,[0,3,6,9,15,17,18,19],[1.0,1.0,1.0,1.0,1.0,1.0,1.0,1.0]) |162918.02499412998|\n",
      "|46 |EN              |FT             |M           |Scientist|1         |Presencial|1            |1          |250200.0      |2024     |2.0                 |0.0                |0.0             |1.0          |0.0           |0.0         |0.0              |0.0            |(3,[2],[1.0])       |(3,[0],[1.0])      |(2,[0],[1.0])   |(7,[1],[1.0])|(1,[0],[1.0]) |(2,[0],[1.0])|(1,[0],[1.0])    |(1,[0],[1.0])  |(20,[2,3,6,9,15,16,18,19],[1.0,1.0,1.0,1.0,1.0,1.0,1.0,1.0]) |130842.5993563843 |\n",
      "|47 |EN              |FT             |M           |Scientist|1         |Presencial|1            |1          |117200.0      |2024     |2.0                 |0.0                |0.0             |1.0          |0.0           |0.0         |0.0              |0.0            |(3,[2],[1.0])       |(3,[0],[1.0])      |(2,[0],[1.0])   |(7,[1],[1.0])|(1,[0],[1.0]) |(2,[0],[1.0])|(1,[0],[1.0])    |(1,[0],[1.0])  |(20,[2,3,6,9,15,16,18,19],[1.0,1.0,1.0,1.0,1.0,1.0,1.0,1.0]) |130842.5993563843 |\n",
      "|49 |MI              |FT             |M           |Scientist|1         |Remoto    |1            |1          |72500.0       |2024     |1.0                 |0.0                |0.0             |1.0          |0.0           |1.0         |0.0              |0.0            |(3,[1],[1.0])       |(3,[0],[1.0])      |(2,[0],[1.0])   |(7,[1],[1.0])|(1,[0],[1.0]) |(2,[1],[1.0])|(1,[0],[1.0])    |(1,[0],[1.0])  |(20,[1,3,6,9,15,17,18,19],[1.0,1.0,1.0,1.0,1.0,1.0,1.0,1.0]) |135888.35834114728|\n",
      "|51 |MI              |FT             |M           |Manager  |0         |Presencial|1            |1          |173264.0      |2024     |1.0                 |0.0                |0.0             |3.0          |1.0           |0.0         |0.0              |0.0            |(3,[1],[1.0])       |(3,[0],[1.0])      |(2,[0],[1.0])   |(7,[3],[1.0])|(1,[],[])     |(2,[0],[1.0])|(1,[0],[1.0])    |(1,[0],[1.0])  |(20,[1,3,6,11,16,18,19],[1.0,1.0,1.0,1.0,1.0,1.0,1.0])       |158740.4120201509 |\n",
      "|55 |SE              |FT             |M           |Developer|0         |Presencial|1            |1          |62100.0       |2024     |0.0                 |0.0                |0.0             |7.0          |1.0           |0.0         |0.0              |0.0            |(3,[0],[1.0])       |(3,[0],[1.0])      |(2,[0],[1.0])   |(7,[],[])    |(1,[],[])     |(2,[0],[1.0])|(1,[0],[1.0])    |(1,[0],[1.0])  |(20,[0,3,6,16,18,19],[1.0,1.0,1.0,1.0,1.0,1.0])              |190103.3390719192 |\n",
      "|62 |EX              |FT             |M           |Engineer |0         |Presencial|1            |1          |142250.0      |2024     |3.0                 |0.0                |0.0             |0.0          |1.0           |0.0         |0.0              |0.0            |(3,[],[])           |(3,[0],[1.0])      |(2,[0],[1.0])   |(7,[0],[1.0])|(1,[],[])     |(2,[0],[1.0])|(1,[0],[1.0])    |(1,[0],[1.0])  |(20,[3,6,8,16,18,19],[1.0,1.0,1.0,1.0,1.0,1.0])              |212397.6425024735 |\n",
      "|69 |SE              |FT             |M           |Engineer |0         |Presencial|1            |1          |137600.0      |2024     |0.0                 |0.0                |0.0             |0.0          |1.0           |0.0         |0.0              |0.0            |(3,[0],[1.0])       |(3,[0],[1.0])      |(2,[0],[1.0])   |(7,[0],[1.0])|(1,[],[])     |(2,[0],[1.0])|(1,[0],[1.0])    |(1,[0],[1.0])  |(20,[0,3,6,8,16,18,19],[1.0,1.0,1.0,1.0,1.0,1.0,1.0])        |195210.699918533  |\n",
      "|77 |EN              |FT             |M           |Analyst  |0         |Presencial|0            |0          |70320.0       |2024     |2.0                 |0.0                |0.0             |2.0          |1.0           |0.0         |1.0              |1.0            |(3,[2],[1.0])       |(3,[0],[1.0])      |(2,[0],[1.0])   |(7,[2],[1.0])|(1,[],[])     |(2,[0],[1.0])|(1,[],[])        |(1,[],[])      |(20,[2,3,6,10,16],[1.0,1.0,1.0,1.0,1.0])                     |66021.28731120279 |\n",
      "|100|SE              |FT             |M           |Analyst  |1         |Presencial|1            |1          |196100.0      |2024     |0.0                 |0.0                |0.0             |2.0          |0.0           |0.0         |0.0              |0.0            |(3,[0],[1.0])       |(3,[0],[1.0])      |(2,[0],[1.0])   |(7,[2],[1.0])|(1,[0],[1.0]) |(2,[0],[1.0])|(1,[0],[1.0])    |(1,[0],[1.0])  |(20,[0,3,6,10,15,16,18,19],[1.0,1.0,1.0,1.0,1.0,1.0,1.0,1.0])|129259.8946120312 |\n",
      "|112|EN              |FT             |M           |Analyst  |0         |Presencial|1            |1          |137000.0      |2024     |2.0                 |0.0                |0.0             |2.0          |1.0           |0.0         |0.0              |0.0            |(3,[2],[1.0])       |(3,[0],[1.0])      |(2,[0],[1.0])   |(7,[2],[1.0])|(1,[],[])     |(2,[0],[1.0])|(1,[0],[1.0])    |(1,[0],[1.0])  |(20,[2,3,6,10,16,18,19],[1.0,1.0,1.0,1.0,1.0,1.0,1.0])       |98924.09983633751 |\n",
      "|116|MI              |FT             |M           |Engineer |0         |Presencial|1            |1          |193000.0      |2024     |1.0                 |0.0                |0.0             |0.0          |1.0           |0.0         |0.0              |0.0            |(3,[1],[1.0])       |(3,[0],[1.0])      |(2,[0],[1.0])   |(7,[0],[1.0])|(1,[],[])     |(2,[0],[1.0])|(1,[0],[1.0])    |(1,[0],[1.0])  |(20,[1,3,6,8,16,18,19],[1.0,1.0,1.0,1.0,1.0,1.0,1.0])        |166836.22549704075|\n",
      "+---+----------------+---------------+------------+---------+----------+----------+-------------+-----------+--------------+---------+--------------------+-------------------+----------------+-------------+--------------+------------+-----------------+---------------+--------------------+-------------------+----------------+-------------+--------------+-------------+-----------------+---------------+-------------------------------------------------------------+------------------+\n",
      "only showing top 20 rows\n",
      "\n"
     ]
    }
   ],
   "source": [
    "result.show(truncate=False)"
   ]
  },
  {
   "cell_type": "code",
   "execution_count": 363,
   "metadata": {},
   "outputs": [
    {
     "data": {
      "text/plain": [
       "13010"
      ]
     },
     "execution_count": 363,
     "metadata": {},
     "output_type": "execute_result"
    }
   ],
   "source": [
    "result.count()"
   ]
  },
  {
   "cell_type": "code",
   "execution_count": 364,
   "metadata": {},
   "outputs": [],
   "source": [
    "rmse = RegressionEvaluator(\n",
    "    labelCol=\"updated_salary\", predictionCol=\"prediction\", metricName=\"rmse\"\n",
    ")"
   ]
  },
  {
   "cell_type": "code",
   "execution_count": 365,
   "metadata": {},
   "outputs": [
    {
     "data": {
      "text/plain": [
       "57117.27488223516"
      ]
     },
     "execution_count": 365,
     "metadata": {},
     "output_type": "execute_result"
    }
   ],
   "source": [
    "rmse.evaluate(result)"
   ]
  },
  {
   "cell_type": "code",
   "execution_count": 366,
   "metadata": {},
   "outputs": [],
   "source": [
    "r2 = RegressionEvaluator(\n",
    "    labelCol=\"updated_salary\", predictionCol=\"prediction\", metricName=\"r2\"\n",
    ")"
   ]
  },
  {
   "cell_type": "code",
   "execution_count": 367,
   "metadata": {},
   "outputs": [
    {
     "data": {
      "text/plain": [
       "0.2551152783558289"
      ]
     },
     "execution_count": 367,
     "metadata": {},
     "output_type": "execute_result"
    }
   ],
   "source": [
    "r2.evaluate(result)"
   ]
  },
  {
   "cell_type": "code",
   "execution_count": null,
   "metadata": {},
   "outputs": [],
   "source": [
    "faixas_dados = (\n",
    "    result.filter(F.col(\"data_roles\") == 1)\n",
    "    .groupBy(\"job_focus\")\n",
    "    .agg(\n",
    "        F.min(\"prediction\").alias(\"lb_salario\"),\n",
    "        F.mean(\"prediction\").alias(\"mean_salario\"),\n",
    "        F.max(\"prediction\").alias(\"ub_salario\"),\n",
    "    )\n",
    "    .sort(\"job_focus\")\n",
    ")"
   ]
  },
  {
   "cell_type": "code",
   "execution_count": 371,
   "metadata": {},
   "outputs": [
    {
     "name": "stdout",
     "output_type": "stream",
     "text": [
      "+---------------------+-----------------+------------------+------------------+\n",
      "|job_focus            |lb_salario       |mean_salario      |ub_salario        |\n",
      "+---------------------+-----------------+------------------+------------------+\n",
      "|Analyst              |41879.17359257814|109053.83029900285|174984.32166776783|\n",
      "|Architect            |89422.32702814054|163890.83869441878|205307.7067943078 |\n",
      "|Business Intelligence|57309.06859128614|124574.8929906619 |183004.07568547555|\n",
      "|Developer            |50914.96101979874|143369.26675195948|167900.8470643952 |\n",
      "|Engineer             |36368.32504023424|165418.89422065698|209352.91054837196|\n",
      "|Manager              |46089.83007462198|123112.70553721544|165959.06285841126|\n",
      "|Other                |51362.61568624312|130161.00041596184|222204.524778267  |\n",
      "|Scientist            |42818.96959512986|158789.6871868487 |211421.54680751154|\n",
      "+---------------------+-----------------+------------------+------------------+\n",
      "\n"
     ]
    }
   ],
   "source": [
    "faixas_dados.show(truncate=False)"
   ]
  },
  {
   "cell_type": "markdown",
   "metadata": {},
   "source": [
    "### Armazena tabela na camada gold"
   ]
  },
  {
   "cell_type": "code",
   "execution_count": 372,
   "metadata": {},
   "outputs": [],
   "source": [
    "gold_path = \"/home/jovyan/data/gold/faixas_cargos.parquet\"\n",
    "faixas_dados.write.mode(\"overwrite\").parquet(gold_path)"
   ]
  },
  {
   "cell_type": "code",
   "execution_count": null,
   "metadata": {},
   "outputs": [],
   "source": []
  }
 ],
 "metadata": {
  "kernelspec": {
   "display_name": "Python 3 (ipykernel)",
   "language": "python",
   "name": "python3"
  },
  "language_info": {
   "codemirror_mode": {
    "name": "ipython",
    "version": 3
   },
   "file_extension": ".py",
   "mimetype": "text/x-python",
   "name": "python",
   "nbconvert_exporter": "python",
   "pygments_lexer": "ipython3",
   "version": "3.11.10"
  }
 },
 "nbformat": 4,
 "nbformat_minor": 2
}
