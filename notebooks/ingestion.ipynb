{
 "cells": [
  {
   "attachments": {},
   "cell_type": "markdown",
   "metadata": {},
   "source": [
    "### Importa módulos necessários"
   ]
  },
  {
   "cell_type": "code",
   "execution_count": 1,
   "metadata": {},
   "outputs": [],
   "source": [
    "from pyspark.sql import SparkSession\n",
    "import pyspark.sql.types as T\n",
    "import pyspark.sql.functions as F"
   ]
  },
  {
   "attachments": {},
   "cell_type": "markdown",
   "metadata": {},
   "source": [
    "### Criando sessão Spark"
   ]
  },
  {
   "cell_type": "code",
   "execution_count": 2,
   "metadata": {},
   "outputs": [],
   "source": [
    "spark = (\n",
    "    SparkSession.builder.master(\"local[*]\")\n",
    "    .appName(\"ingestion\")\n",
    "    .config(\"spark.ui.port\", \"4040\")\n",
    "    .config(\"spark.ui.showConsoleProgress\", \"True\")\n",
    "    .getOrCreate()\n",
    ")"
   ]
  },
  {
   "attachments": {},
   "cell_type": "markdown",
   "metadata": {},
   "source": [
    "### Para abrir a interface do Spark UI, é necessário digitar localhost:4040 no browser"
   ]
  },
  {
   "cell_type": "code",
   "execution_count": 3,
   "metadata": {},
   "outputs": [
    {
     "data": {
      "text/html": [
       "\n",
       "            <div>\n",
       "                <p><b>SparkSession - in-memory</b></p>\n",
       "                \n",
       "        <div>\n",
       "            <p><b>SparkContext</b></p>\n",
       "\n",
       "            <p><a href=\"http://35748205395c:4041\">Spark UI</a></p>\n",
       "\n",
       "            <dl>\n",
       "              <dt>Version</dt>\n",
       "                <dd><code>v3.5.3</code></dd>\n",
       "              <dt>Master</dt>\n",
       "                <dd><code>local[*]</code></dd>\n",
       "              <dt>AppName</dt>\n",
       "                <dd><code>ingestion</code></dd>\n",
       "            </dl>\n",
       "        </div>\n",
       "        \n",
       "            </div>\n",
       "        "
      ],
      "text/plain": [
       "<pyspark.sql.session.SparkSession at 0xffff74d5b250>"
      ]
     },
     "execution_count": 3,
     "metadata": {},
     "output_type": "execute_result"
    }
   ],
   "source": [
    "spark"
   ]
  },
  {
   "attachments": {},
   "cell_type": "markdown",
   "metadata": {},
   "source": [
    "### Ler arquivo da camada raw"
   ]
  },
  {
   "cell_type": "code",
   "execution_count": 4,
   "metadata": {},
   "outputs": [],
   "source": [
    "raw_path = \"/home/jovyan/data/raw/salaries.csv\"\n",
    "df = spark.read.options(header=True).csv(raw_path)"
   ]
  },
  {
   "cell_type": "markdown",
   "metadata": {},
   "source": [
    "### Exibindo os dados"
   ]
  },
  {
   "cell_type": "code",
   "execution_count": 5,
   "metadata": {},
   "outputs": [
    {
     "name": "stdout",
     "output_type": "stream",
     "text": [
      "+---------+----------------+---------------+-------------------+------+---------------+-------------+------------------+------------+----------------+------------+\n",
      "|work_year|experience_level|employment_type|job_title          |salary|salary_currency|salary_in_usd|employee_residence|remote_ratio|company_location|company_size|\n",
      "+---------+----------------+---------------+-------------------+------+---------------+-------------+------------------+------------+----------------+------------+\n",
      "|2024     |MI              |FT             |Data Manager       |117400|USD            |117400       |US                |0           |US              |M           |\n",
      "|2024     |MI              |FT             |Data Manager       |62620 |USD            |62620        |US                |0           |US              |M           |\n",
      "|2024     |SE              |FT             |Data Manager       |131200|USD            |131200       |US                |100         |US              |M           |\n",
      "|2024     |SE              |FT             |Data Manager       |95300 |USD            |95300        |US                |100         |US              |M           |\n",
      "|2024     |SE              |FT             |Associate          |68800 |USD            |68800        |US                |0           |US              |M           |\n",
      "|2024     |SE              |FT             |Associate          |48000 |USD            |48000        |US                |0           |US              |M           |\n",
      "|2024     |EN              |FT             |Data Engineer      |264200|USD            |264200       |US                |0           |US              |M           |\n",
      "|2024     |EN              |FT             |Data Engineer      |143100|USD            |143100       |US                |0           |US              |M           |\n",
      "|2024     |MI              |FT             |Research Engineer  |208000|USD            |208000       |US                |0           |US              |M           |\n",
      "|2024     |MI              |FT             |Research Engineer  |141340|USD            |141340       |US                |0           |US              |M           |\n",
      "|2024     |SE              |FT             |Software Engineer  |200000|USD            |200000       |US                |0           |US              |M           |\n",
      "|2024     |SE              |FT             |Software Engineer  |136000|USD            |136000       |US                |0           |US              |M           |\n",
      "|2024     |MI              |FT             |Engineering Manager|329600|USD            |329600       |US                |0           |US              |M           |\n",
      "|2024     |MI              |FT             |Engineering Manager|190700|USD            |190700       |US                |0           |US              |M           |\n",
      "|2024     |SE              |FT             |Manager            |360200|USD            |360200       |US                |0           |US              |M           |\n",
      "|2024     |SE              |FT             |Manager            |208300|USD            |208300       |US                |0           |US              |M           |\n",
      "|2024     |MI              |FT             |Engineer           |264200|USD            |264200       |US                |0           |US              |M           |\n",
      "|2024     |MI              |FT             |Engineer           |143100|USD            |143100       |US                |0           |US              |M           |\n",
      "|2024     |SE              |FT             |Software Engineer  |312200|USD            |312200       |US                |0           |US              |M           |\n",
      "|2024     |SE              |FT             |Software Engineer  |175800|USD            |175800       |US                |0           |US              |M           |\n",
      "+---------+----------------+---------------+-------------------+------+---------------+-------------+------------------+------------+----------------+------------+\n",
      "only showing top 20 rows\n",
      "\n"
     ]
    }
   ],
   "source": [
    "df.show(truncate=False)"
   ]
  },
  {
   "cell_type": "code",
   "execution_count": 6,
   "metadata": {},
   "outputs": [
    {
     "name": "stdout",
     "output_type": "stream",
     "text": [
      "root\n",
      " |-- work_year: string (nullable = true)\n",
      " |-- experience_level: string (nullable = true)\n",
      " |-- employment_type: string (nullable = true)\n",
      " |-- job_title: string (nullable = true)\n",
      " |-- salary: string (nullable = true)\n",
      " |-- salary_currency: string (nullable = true)\n",
      " |-- salary_in_usd: string (nullable = true)\n",
      " |-- employee_residence: string (nullable = true)\n",
      " |-- remote_ratio: string (nullable = true)\n",
      " |-- company_location: string (nullable = true)\n",
      " |-- company_size: string (nullable = true)\n",
      "\n"
     ]
    }
   ],
   "source": [
    "df.printSchema()"
   ]
  },
  {
   "cell_type": "code",
   "execution_count": 7,
   "metadata": {},
   "outputs": [
    {
     "data": {
      "text/plain": [
       "11"
      ]
     },
     "execution_count": 7,
     "metadata": {},
     "output_type": "execute_result"
    }
   ],
   "source": [
    "len(df.columns)"
   ]
  },
  {
   "cell_type": "markdown",
   "metadata": {},
   "source": [
    "### Definindo schema da tabela para salvar dados corretamente na camada bronze"
   ]
  },
  {
   "cell_type": "code",
   "execution_count": 8,
   "metadata": {},
   "outputs": [],
   "source": [
    "df_schema = T.StructType(\n",
    "    [\n",
    "        T.StructField(\"work_year\", T.IntegerType(), True),\n",
    "        T.StructField(\"experience_level\", T.StringType(), True),\n",
    "        T.StructField(\"employment_type\", T.StringType(), True),\n",
    "        T.StructField(\"job_title\", T.StringType(), True),\n",
    "        T.StructField(\"salary\", T.IntegerType(), True),\n",
    "        T.StructField(\"salary_currency\", T.StringType(), True),\n",
    "        T.StructField(\"salary_in_usd\", T.IntegerType(), True),\n",
    "        T.StructField(\"employee_residence\", T.StringType(), True),\n",
    "        T.StructField(\"remote_ratio\", T.IntegerType(), True),\n",
    "        T.StructField(\"company_location\", T.StringType(), True),\n",
    "        T.StructField(\"company_size\", T.StringType(), True),\n",
    "    ]\n",
    ")"
   ]
  },
  {
   "cell_type": "code",
   "execution_count": 9,
   "metadata": {},
   "outputs": [],
   "source": [
    "df = spark.read.schema(df_schema).options(header=True).csv(raw_path)"
   ]
  },
  {
   "cell_type": "code",
   "execution_count": 10,
   "metadata": {},
   "outputs": [
    {
     "name": "stdout",
     "output_type": "stream",
     "text": [
      "+---------+----------------+---------------+-------------------+------+---------------+-------------+------------------+------------+----------------+------------+\n",
      "|work_year|experience_level|employment_type|job_title          |salary|salary_currency|salary_in_usd|employee_residence|remote_ratio|company_location|company_size|\n",
      "+---------+----------------+---------------+-------------------+------+---------------+-------------+------------------+------------+----------------+------------+\n",
      "|2024     |MI              |FT             |Data Manager       |117400|USD            |117400       |US                |0           |US              |M           |\n",
      "|2024     |MI              |FT             |Data Manager       |62620 |USD            |62620        |US                |0           |US              |M           |\n",
      "|2024     |SE              |FT             |Data Manager       |131200|USD            |131200       |US                |100         |US              |M           |\n",
      "|2024     |SE              |FT             |Data Manager       |95300 |USD            |95300        |US                |100         |US              |M           |\n",
      "|2024     |SE              |FT             |Associate          |68800 |USD            |68800        |US                |0           |US              |M           |\n",
      "|2024     |SE              |FT             |Associate          |48000 |USD            |48000        |US                |0           |US              |M           |\n",
      "|2024     |EN              |FT             |Data Engineer      |264200|USD            |264200       |US                |0           |US              |M           |\n",
      "|2024     |EN              |FT             |Data Engineer      |143100|USD            |143100       |US                |0           |US              |M           |\n",
      "|2024     |MI              |FT             |Research Engineer  |208000|USD            |208000       |US                |0           |US              |M           |\n",
      "|2024     |MI              |FT             |Research Engineer  |141340|USD            |141340       |US                |0           |US              |M           |\n",
      "|2024     |SE              |FT             |Software Engineer  |200000|USD            |200000       |US                |0           |US              |M           |\n",
      "|2024     |SE              |FT             |Software Engineer  |136000|USD            |136000       |US                |0           |US              |M           |\n",
      "|2024     |MI              |FT             |Engineering Manager|329600|USD            |329600       |US                |0           |US              |M           |\n",
      "|2024     |MI              |FT             |Engineering Manager|190700|USD            |190700       |US                |0           |US              |M           |\n",
      "|2024     |SE              |FT             |Manager            |360200|USD            |360200       |US                |0           |US              |M           |\n",
      "|2024     |SE              |FT             |Manager            |208300|USD            |208300       |US                |0           |US              |M           |\n",
      "|2024     |MI              |FT             |Engineer           |264200|USD            |264200       |US                |0           |US              |M           |\n",
      "|2024     |MI              |FT             |Engineer           |143100|USD            |143100       |US                |0           |US              |M           |\n",
      "|2024     |SE              |FT             |Software Engineer  |312200|USD            |312200       |US                |0           |US              |M           |\n",
      "|2024     |SE              |FT             |Software Engineer  |175800|USD            |175800       |US                |0           |US              |M           |\n",
      "+---------+----------------+---------------+-------------------+------+---------------+-------------+------------------+------------+----------------+------------+\n",
      "only showing top 20 rows\n",
      "\n"
     ]
    }
   ],
   "source": [
    "df.show(truncate=False)"
   ]
  },
  {
   "cell_type": "code",
   "execution_count": 11,
   "metadata": {},
   "outputs": [
    {
     "name": "stdout",
     "output_type": "stream",
     "text": [
      "root\n",
      " |-- work_year: integer (nullable = true)\n",
      " |-- experience_level: string (nullable = true)\n",
      " |-- employment_type: string (nullable = true)\n",
      " |-- job_title: string (nullable = true)\n",
      " |-- salary: integer (nullable = true)\n",
      " |-- salary_currency: string (nullable = true)\n",
      " |-- salary_in_usd: integer (nullable = true)\n",
      " |-- employee_residence: string (nullable = true)\n",
      " |-- remote_ratio: integer (nullable = true)\n",
      " |-- company_location: string (nullable = true)\n",
      " |-- company_size: string (nullable = true)\n",
      "\n"
     ]
    }
   ],
   "source": [
    "df.printSchema()"
   ]
  },
  {
   "cell_type": "code",
   "execution_count": 12,
   "metadata": {},
   "outputs": [
    {
     "data": {
      "text/plain": [
       "64934"
      ]
     },
     "execution_count": 12,
     "metadata": {},
     "output_type": "execute_result"
    }
   ],
   "source": [
    "df.count()"
   ]
  },
  {
   "cell_type": "markdown",
   "metadata": {},
   "source": [
    "### Persistindo na camada bronze"
   ]
  },
  {
   "cell_type": "code",
   "execution_count": 13,
   "metadata": {},
   "outputs": [],
   "source": [
    "bronze_path = \"/home/jovyan/data/bronze/salaries.parquet\"\n",
    "df.write.partitionBy(\"work_year\").mode(\"overwrite\").parquet(bronze_path)"
   ]
  },
  {
   "cell_type": "markdown",
   "metadata": {},
   "source": [
    "### Encerrando sessão Spark"
   ]
  },
  {
   "cell_type": "code",
   "execution_count": 14,
   "metadata": {},
   "outputs": [],
   "source": [
    "spark.stop()"
   ]
  }
 ],
 "metadata": {
  "kernelspec": {
   "display_name": "Python 3 (ipykernel)",
   "language": "python",
   "name": "python3"
  },
  "language_info": {
   "codemirror_mode": {
    "name": "ipython",
    "version": 3
   },
   "file_extension": ".py",
   "mimetype": "text/x-python",
   "name": "python",
   "nbconvert_exporter": "python",
   "pygments_lexer": "ipython3",
   "version": "3.11.10"
  },
  "orig_nbformat": 4
 },
 "nbformat": 4,
 "nbformat_minor": 2
}
