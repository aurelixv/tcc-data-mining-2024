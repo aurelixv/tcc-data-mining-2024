{
 "cells": [
  {
   "cell_type": "markdown",
   "metadata": {},
   "source": [
    "### Importa módulos necessários"
   ]
  },
  {
   "cell_type": "code",
   "execution_count": null,
   "metadata": {},
   "outputs": [],
   "source": [
    "from pyspark.sql import SparkSession, Row\n",
    "import seaborn as sns\n",
    "import pyspark.sql.functions as F"
   ]
  },
  {
   "cell_type": "markdown",
   "metadata": {},
   "source": [
    "### Inicia sessão Spark"
   ]
  },
  {
   "cell_type": "code",
   "execution_count": 2,
   "metadata": {},
   "outputs": [],
   "source": [
    "spark = (\n",
    "    SparkSession.builder.master(\"local[*]\")\n",
    "    .appName(\"exploratory-data-analysis\")\n",
    "    .config(\"spark.ui.port\", \"4040\")\n",
    "    .config(\"spark.ui.showConsoleProgress\", \"True\")\n",
    "    .getOrCreate()\n",
    ")"
   ]
  },
  {
   "cell_type": "markdown",
   "metadata": {},
   "source": [
    "### Carrega tabela da camada bronze"
   ]
  },
  {
   "cell_type": "code",
   "execution_count": 3,
   "metadata": {},
   "outputs": [],
   "source": [
    "bronze_path = \"/home/jovyan/data/bronze/salaries.parquet\"\n",
    "df = spark.read.parquet(bronze_path)"
   ]
  },
  {
   "cell_type": "code",
   "execution_count": 4,
   "metadata": {},
   "outputs": [
    {
     "name": "stdout",
     "output_type": "stream",
     "text": [
      "+----------------+---------------+-------------------+------+---------------+-------------+------------------+------------+----------------+------------+---------+\n",
      "|experience_level|employment_type|job_title          |salary|salary_currency|salary_in_usd|employee_residence|remote_ratio|company_location|company_size|work_year|\n",
      "+----------------+---------------+-------------------+------+---------------+-------------+------------------+------------+----------------+------------+---------+\n",
      "|MI              |FT             |Data Manager       |117400|USD            |117400       |US                |0           |US              |M           |2024     |\n",
      "|MI              |FT             |Data Manager       |62620 |USD            |62620        |US                |0           |US              |M           |2024     |\n",
      "|SE              |FT             |Data Manager       |131200|USD            |131200       |US                |100         |US              |M           |2024     |\n",
      "|SE              |FT             |Data Manager       |95300 |USD            |95300        |US                |100         |US              |M           |2024     |\n",
      "|SE              |FT             |Associate          |68800 |USD            |68800        |US                |0           |US              |M           |2024     |\n",
      "|SE              |FT             |Associate          |48000 |USD            |48000        |US                |0           |US              |M           |2024     |\n",
      "|EN              |FT             |Data Engineer      |264200|USD            |264200       |US                |0           |US              |M           |2024     |\n",
      "|EN              |FT             |Data Engineer      |143100|USD            |143100       |US                |0           |US              |M           |2024     |\n",
      "|MI              |FT             |Research Engineer  |208000|USD            |208000       |US                |0           |US              |M           |2024     |\n",
      "|MI              |FT             |Research Engineer  |141340|USD            |141340       |US                |0           |US              |M           |2024     |\n",
      "|SE              |FT             |Software Engineer  |200000|USD            |200000       |US                |0           |US              |M           |2024     |\n",
      "|SE              |FT             |Software Engineer  |136000|USD            |136000       |US                |0           |US              |M           |2024     |\n",
      "|MI              |FT             |Engineering Manager|329600|USD            |329600       |US                |0           |US              |M           |2024     |\n",
      "|MI              |FT             |Engineering Manager|190700|USD            |190700       |US                |0           |US              |M           |2024     |\n",
      "|SE              |FT             |Manager            |360200|USD            |360200       |US                |0           |US              |M           |2024     |\n",
      "|SE              |FT             |Manager            |208300|USD            |208300       |US                |0           |US              |M           |2024     |\n",
      "|MI              |FT             |Engineer           |264200|USD            |264200       |US                |0           |US              |M           |2024     |\n",
      "|MI              |FT             |Engineer           |143100|USD            |143100       |US                |0           |US              |M           |2024     |\n",
      "|SE              |FT             |Software Engineer  |312200|USD            |312200       |US                |0           |US              |M           |2024     |\n",
      "|SE              |FT             |Software Engineer  |175800|USD            |175800       |US                |0           |US              |M           |2024     |\n",
      "+----------------+---------------+-------------------+------+---------------+-------------+------------------+------------+----------------+------------+---------+\n",
      "only showing top 20 rows\n",
      "\n"
     ]
    }
   ],
   "source": [
    "df.show(truncate=False)"
   ]
  },
  {
   "cell_type": "code",
   "execution_count": null,
   "metadata": {},
   "outputs": [
    {
     "name": "stdout",
     "output_type": "stream",
     "text": [
      "+---------------------------+--------------------------+--------------------+-----------------+--------------------------+------------------------+-----------------------------+-----------------------+---------------------------+-----------------------+--------------------+\n",
      "|experience_level_null_count|employment_type_null_count|job_title_null_count|salary_null_count|salary_currency_null_count|salary_in_usd_null_count|employee_residence_null_count|remote_ratio_null_count|company_location_null_count|company_size_null_count|work_year_null_count|\n",
      "+---------------------------+--------------------------+--------------------+-----------------+--------------------------+------------------------+-----------------------------+-----------------------+---------------------------+-----------------------+--------------------+\n",
      "|0                          |0                         |0                   |0                |0                         |0                       |0                            |0                      |0                          |0                      |0                   |\n",
      "+---------------------------+--------------------------+--------------------+-----------------+--------------------------+------------------------+-----------------------------+-----------------------+---------------------------+-----------------------+--------------------+\n",
      "\n"
     ]
    }
   ],
   "source": [
    "df.select(\n",
    "    [\n",
    "        F.count(F.when(F.col(column).isNull(), column)).alias(f\"{column}_null_count\")\n",
    "        for column in df.columns\n",
    "    ]\n",
    ").show(truncate=False)"
   ]
  },
  {
   "cell_type": "code",
   "execution_count": 34,
   "metadata": {},
   "outputs": [
    {
     "name": "stdout",
     "output_type": "stream",
     "text": [
      "+-------+----------------+---------------+----------------+------------------+---------------+------------------+------------------+-----------------+----------------+------------+-------------------+\n",
      "|summary|experience_level|employment_type|job_title       |salary            |salary_currency|salary_in_usd     |employee_residence|remote_ratio     |company_location|company_size|work_year          |\n",
      "+-------+----------------+---------------+----------------+------------------+---------------+------------------+------------------+-----------------+----------------+------------+-------------------+\n",
      "|count  |64934           |64934          |64934           |64934             |64934          |64934             |64934             |64934            |64934           |64934       |64934              |\n",
      "|mean   |NULL            |NULL           |NULL            |163455.40835309698|NULL           |158714.31233252224|NULL              |21.89068900729972|NULL            |NULL        |2023.8029691686943 |\n",
      "|stddev |NULL            |NULL           |NULL            |199283.22354623763|NULL           |72175.1316577983  |NULL              |41.22169488457914|NULL            |NULL        |0.49326993178821144|\n",
      "|min    |EN              |CT             |AI Architect    |14000             |AUD            |15000             |AD                |0                |AD              |L           |2020               |\n",
      "|max    |SE              |PT             |Technical Writer|30400000          |ZAR            |800000            |ZA                |100              |ZA              |S           |2024               |\n",
      "+-------+----------------+---------------+----------------+------------------+---------------+------------------+------------------+-----------------+----------------+------------+-------------------+\n",
      "\n"
     ]
    }
   ],
   "source": [
    "df.describe().show(truncate=False)"
   ]
  },
  {
   "cell_type": "code",
   "execution_count": 35,
   "metadata": {},
   "outputs": [
    {
     "data": {
      "text/plain": [
       "64934"
      ]
     },
     "execution_count": 35,
     "metadata": {},
     "output_type": "execute_result"
    }
   ],
   "source": [
    "df.count()"
   ]
  },
  {
   "cell_type": "code",
   "execution_count": 36,
   "metadata": {},
   "outputs": [
    {
     "data": {
      "text/plain": [
       "30355"
      ]
     },
     "execution_count": 36,
     "metadata": {},
     "output_type": "execute_result"
    }
   ],
   "source": [
    "df.distinct().count()"
   ]
  },
  {
   "cell_type": "code",
   "execution_count": 37,
   "metadata": {},
   "outputs": [
    {
     "name": "stdout",
     "output_type": "stream",
     "text": [
      "+----------------+---------------+---------------------------+------+---------------+-------------+------------------+------------+----------------+------------+---------+-----+\n",
      "|experience_level|employment_type|job_title                  |salary|salary_currency|salary_in_usd|employee_residence|remote_ratio|company_location|company_size|work_year|count|\n",
      "+----------------+---------------+---------------------------+------+---------------+-------------+------------------+------------+----------------+------------+---------+-----+\n",
      "|SE              |FT             |Data Scientist             |160000|USD            |160000       |US                |100         |US              |M           |2024     |181  |\n",
      "|SE              |FT             |Data Scientist             |110000|USD            |110000       |US                |100         |US              |M           |2024     |168  |\n",
      "|SE              |FT             |Machine Learning Researcher|110000|USD            |110000       |US                |100         |US              |M           |2024     |161  |\n",
      "|SE              |FT             |Machine Learning Researcher|160000|USD            |160000       |US                |100         |US              |M           |2024     |161  |\n",
      "|SE              |FT             |Applied Scientist          |160000|USD            |160000       |US                |100         |US              |M           |2024     |108  |\n",
      "|SE              |FT             |Applied Scientist          |110000|USD            |110000       |US                |100         |US              |M           |2024     |107  |\n",
      "|MI              |FT             |Applied Scientist          |222200|USD            |222200       |US                |0           |US              |L           |2024     |98   |\n",
      "|MI              |FT             |Applied Scientist          |136000|USD            |136000       |US                |0           |US              |L           |2024     |98   |\n",
      "|SE              |FT             |Software Engineer          |180000|USD            |180000       |US                |0           |US              |M           |2024     |82   |\n",
      "|SE              |FT             |Software Engineer          |252000|USD            |252000       |US                |0           |US              |M           |2024     |76   |\n",
      "|SE              |FT             |Software Engineer          |148000|USD            |148000       |US                |0           |US              |M           |2024     |75   |\n",
      "|SE              |FT             |Software Engineer          |200000|USD            |200000       |US                |0           |US              |M           |2024     |72   |\n",
      "|SE              |FT             |Software Engineer          |160000|USD            |160000       |US                |0           |US              |M           |2024     |71   |\n",
      "|SE              |FT             |Software Engineer          |168000|USD            |168000       |US                |0           |US              |M           |2024     |69   |\n",
      "|SE              |FT             |Software Engineer          |276000|USD            |276000       |US                |0           |US              |M           |2024     |65   |\n",
      "|SE              |FT             |Applied Scientist          |260000|USD            |260000       |US                |0           |US              |L           |2024     |62   |\n",
      "|SE              |FT             |Data Scientist             |180000|USD            |180000       |US                |0           |US              |M           |2024     |61   |\n",
      "|SE              |FT             |Data Engineer              |160000|USD            |160000       |US                |0           |US              |M           |2024     |59   |\n",
      "|SE              |FT             |Machine Learning Engineer  |355000|USD            |355000       |US                |0           |US              |M           |2024     |58   |\n",
      "|SE              |FT             |Data Engineer              |180000|USD            |180000       |US                |0           |US              |M           |2024     |57   |\n",
      "+----------------+---------------+---------------------------+------+---------------+-------------+------------------+------------+----------------+------------+---------+-----+\n",
      "only showing top 20 rows\n",
      "\n"
     ]
    }
   ],
   "source": [
    "df.groupBy(df.columns).agg(F.count(\"*\").alias(\"count\")).sort(\n",
    "    \"count\", ascending=False\n",
    ").show(truncate=False)"
   ]
  },
  {
   "cell_type": "code",
   "execution_count": 38,
   "metadata": {},
   "outputs": [],
   "source": [
    "df_id = df.withColumn(\"id\", F.monotonically_increasing_id()).select(\"id\", *df.columns)"
   ]
  },
  {
   "cell_type": "code",
   "execution_count": 39,
   "metadata": {},
   "outputs": [
    {
     "name": "stdout",
     "output_type": "stream",
     "text": [
      "+---+----------------+---------------+-------------------+------+---------------+-------------+------------------+------------+----------------+------------+---------+\n",
      "|id |experience_level|employment_type|job_title          |salary|salary_currency|salary_in_usd|employee_residence|remote_ratio|company_location|company_size|work_year|\n",
      "+---+----------------+---------------+-------------------+------+---------------+-------------+------------------+------------+----------------+------------+---------+\n",
      "|0  |MI              |FT             |Data Manager       |117400|USD            |117400       |US                |0           |US              |M           |2024     |\n",
      "|1  |MI              |FT             |Data Manager       |62620 |USD            |62620        |US                |0           |US              |M           |2024     |\n",
      "|2  |SE              |FT             |Data Manager       |131200|USD            |131200       |US                |100         |US              |M           |2024     |\n",
      "|3  |SE              |FT             |Data Manager       |95300 |USD            |95300        |US                |100         |US              |M           |2024     |\n",
      "|4  |SE              |FT             |Associate          |68800 |USD            |68800        |US                |0           |US              |M           |2024     |\n",
      "|5  |SE              |FT             |Associate          |48000 |USD            |48000        |US                |0           |US              |M           |2024     |\n",
      "|6  |EN              |FT             |Data Engineer      |264200|USD            |264200       |US                |0           |US              |M           |2024     |\n",
      "|7  |EN              |FT             |Data Engineer      |143100|USD            |143100       |US                |0           |US              |M           |2024     |\n",
      "|8  |MI              |FT             |Research Engineer  |208000|USD            |208000       |US                |0           |US              |M           |2024     |\n",
      "|9  |MI              |FT             |Research Engineer  |141340|USD            |141340       |US                |0           |US              |M           |2024     |\n",
      "|10 |SE              |FT             |Software Engineer  |200000|USD            |200000       |US                |0           |US              |M           |2024     |\n",
      "|11 |SE              |FT             |Software Engineer  |136000|USD            |136000       |US                |0           |US              |M           |2024     |\n",
      "|12 |MI              |FT             |Engineering Manager|329600|USD            |329600       |US                |0           |US              |M           |2024     |\n",
      "|13 |MI              |FT             |Engineering Manager|190700|USD            |190700       |US                |0           |US              |M           |2024     |\n",
      "|14 |SE              |FT             |Manager            |360200|USD            |360200       |US                |0           |US              |M           |2024     |\n",
      "|15 |SE              |FT             |Manager            |208300|USD            |208300       |US                |0           |US              |M           |2024     |\n",
      "|16 |MI              |FT             |Engineer           |264200|USD            |264200       |US                |0           |US              |M           |2024     |\n",
      "|17 |MI              |FT             |Engineer           |143100|USD            |143100       |US                |0           |US              |M           |2024     |\n",
      "|18 |SE              |FT             |Software Engineer  |312200|USD            |312200       |US                |0           |US              |M           |2024     |\n",
      "|19 |SE              |FT             |Software Engineer  |175800|USD            |175800       |US                |0           |US              |M           |2024     |\n",
      "+---+----------------+---------------+-------------------+------+---------------+-------------+------------------+------------+----------------+------------+---------+\n",
      "only showing top 20 rows\n",
      "\n"
     ]
    }
   ],
   "source": [
    "df_id.show(truncate=False)"
   ]
  },
  {
   "cell_type": "code",
   "execution_count": 40,
   "metadata": {},
   "outputs": [
    {
     "data": {
      "text/plain": [
       "64934"
      ]
     },
     "execution_count": 40,
     "metadata": {},
     "output_type": "execute_result"
    }
   ],
   "source": [
    "df_id.distinct().count()"
   ]
  },
  {
   "cell_type": "code",
   "execution_count": 41,
   "metadata": {},
   "outputs": [],
   "source": [
    "def count_categories(df, column):\n",
    "    return df.groupBy(column).agg(F.count(\"*\").alias(\"count\"))"
   ]
  },
  {
   "cell_type": "code",
   "execution_count": 42,
   "metadata": {},
   "outputs": [
    {
     "name": "stdout",
     "output_type": "stream",
     "text": [
      "Analisando coluna id ...\n",
      "+----+-----+\n",
      "|id  |count|\n",
      "+----+-----+\n",
      "|26  |1    |\n",
      "|29  |1    |\n",
      "|474 |1    |\n",
      "|964 |1    |\n",
      "|1677|1    |\n",
      "|1697|1    |\n",
      "|1806|1    |\n",
      "|1950|1    |\n",
      "|2040|1    |\n",
      "|2214|1    |\n",
      "|2250|1    |\n",
      "|2453|1    |\n",
      "|2509|1    |\n",
      "|2529|1    |\n",
      "|2927|1    |\n",
      "|3091|1    |\n",
      "|3506|1    |\n",
      "|3764|1    |\n",
      "|4590|1    |\n",
      "|4823|1    |\n",
      "+----+-----+\n",
      "only showing top 20 rows\n",
      "\n",
      "Analisando coluna experience_level ...\n",
      "+----------------+-----+\n",
      "|experience_level|count|\n",
      "+----------------+-----+\n",
      "|SE              |38223|\n",
      "|MI              |19381|\n",
      "|EN              |5962 |\n",
      "|EX              |1368 |\n",
      "+----------------+-----+\n",
      "\n",
      "Analisando coluna employment_type ...\n",
      "+---------------+-----+\n",
      "|employment_type|count|\n",
      "+---------------+-----+\n",
      "|FT             |64653|\n",
      "|PT             |145  |\n",
      "|CT             |120  |\n",
      "|FL             |16   |\n",
      "+---------------+-----+\n",
      "\n",
      "Analisando coluna job_title ...\n",
      "+------------------------------+-----+\n",
      "|job_title                     |count|\n",
      "+------------------------------+-----+\n",
      "|Data Scientist                |10570|\n",
      "|Data Engineer                 |8707 |\n",
      "|Software Engineer             |6767 |\n",
      "|Data Analyst                  |6581 |\n",
      "|Machine Learning Engineer     |5433 |\n",
      "|Engineer                      |3282 |\n",
      "|Research Scientist            |2153 |\n",
      "|Manager                       |2006 |\n",
      "|Applied Scientist             |1478 |\n",
      "|Data Architect                |1159 |\n",
      "|Analyst                       |1087 |\n",
      "|Analytics Engineer            |1032 |\n",
      "|Research Engineer             |958  |\n",
      "|Product Manager               |856  |\n",
      "|Associate                     |768  |\n",
      "|AI Engineer                   |547  |\n",
      "|Business Intelligence Engineer|542  |\n",
      "|Data Manager                  |533  |\n",
      "|Machine Learning Researcher   |423  |\n",
      "|Business Intelligence Analyst |417  |\n",
      "+------------------------------+-----+\n",
      "only showing top 20 rows\n",
      "\n",
      "Analisando coluna salary ...\n",
      "+------+-----+\n",
      "|salary|count|\n",
      "+------+-----+\n",
      "|160000|1348 |\n",
      "|110000|1112 |\n",
      "|150000|997  |\n",
      "|100000|904  |\n",
      "|180000|866  |\n",
      "|200000|834  |\n",
      "|120000|791  |\n",
      "|140000|786  |\n",
      "|130000|758  |\n",
      "|90000 |612  |\n",
      "|145000|577  |\n",
      "|170000|568  |\n",
      "|80000 |541  |\n",
      "|250000|515  |\n",
      "|220000|511  |\n",
      "|135000|486  |\n",
      "|190000|480  |\n",
      "|175000|465  |\n",
      "|70000 |428  |\n",
      "|125000|418  |\n",
      "+------+-----+\n",
      "only showing top 20 rows\n",
      "\n",
      "Analisando coluna salary_currency ...\n",
      "+---------------+-----+\n",
      "|salary_currency|count|\n",
      "+---------------+-----+\n",
      "|USD            |61750|\n",
      "|GBP            |1773 |\n",
      "|EUR            |1018 |\n",
      "|CAD            |189  |\n",
      "|INR            |69   |\n",
      "|CHF            |29   |\n",
      "|PLN            |21   |\n",
      "|AUD            |16   |\n",
      "|BRL            |15   |\n",
      "|SGD            |10   |\n",
      "|PHP            |7    |\n",
      "|JPY            |6    |\n",
      "|HUF            |5    |\n",
      "|DKK            |4    |\n",
      "|TRY            |4    |\n",
      "|ZAR            |3    |\n",
      "|ILS            |3    |\n",
      "|MXN            |3    |\n",
      "|THB            |2    |\n",
      "|NOK            |2    |\n",
      "+---------------+-----+\n",
      "only showing top 20 rows\n",
      "\n",
      "Analisando coluna salary_in_usd ...\n",
      "+-------------+-----+\n",
      "|salary_in_usd|count|\n",
      "+-------------+-----+\n",
      "|160000       |1339 |\n",
      "|110000       |1083 |\n",
      "|150000       |990  |\n",
      "|100000       |880  |\n",
      "|180000       |860  |\n",
      "|200000       |829  |\n",
      "|140000       |772  |\n",
      "|120000       |752  |\n",
      "|130000       |747  |\n",
      "|145000       |575  |\n",
      "|170000       |564  |\n",
      "|90000        |534  |\n",
      "|250000       |513  |\n",
      "|220000       |510  |\n",
      "|190000       |480  |\n",
      "|135000       |479  |\n",
      "|80000        |473  |\n",
      "|175000       |469  |\n",
      "|125000       |441  |\n",
      "|115000       |405  |\n",
      "+-------------+-----+\n",
      "only showing top 20 rows\n",
      "\n",
      "Analisando coluna employee_residence ...\n",
      "+------------------+-----+\n",
      "|employee_residence|count|\n",
      "+------------------+-----+\n",
      "|US                |58762|\n",
      "|CA                |2143 |\n",
      "|GB                |1850 |\n",
      "|DE                |206  |\n",
      "|AU                |190  |\n",
      "|ES                |177  |\n",
      "|FR                |162  |\n",
      "|IN                |131  |\n",
      "|NL                |115  |\n",
      "|LT                |106  |\n",
      "|AT                |75   |\n",
      "|IE                |68   |\n",
      "|BR                |57   |\n",
      "|ZA                |55   |\n",
      "|PL                |51   |\n",
      "|MX                |50   |\n",
      "|AR                |45   |\n",
      "|SK                |44   |\n",
      "|PT                |41   |\n",
      "|EG                |40   |\n",
      "+------------------+-----+\n",
      "only showing top 20 rows\n",
      "\n",
      "Analisando coluna remote_ratio ...\n",
      "+------------+-----+\n",
      "|remote_ratio|count|\n",
      "+------------+-----+\n",
      "|0           |50581|\n",
      "|100         |14076|\n",
      "|50          |277  |\n",
      "+------------+-----+\n",
      "\n",
      "Analisando coluna company_location ...\n",
      "+----------------+-----+\n",
      "|company_location|count|\n",
      "+----------------+-----+\n",
      "|US              |58814|\n",
      "|CA              |2145 |\n",
      "|GB              |1858 |\n",
      "|DE              |214  |\n",
      "|AU              |194  |\n",
      "|ES              |173  |\n",
      "|FR              |158  |\n",
      "|NL              |115  |\n",
      "|IN              |114  |\n",
      "|LT              |106  |\n",
      "|AT              |75   |\n",
      "|IE              |68   |\n",
      "|ZA              |55   |\n",
      "|BR              |55   |\n",
      "|MX              |51   |\n",
      "|PL              |50   |\n",
      "|SK              |44   |\n",
      "|AR              |41   |\n",
      "|FI              |40   |\n",
      "|PT              |39   |\n",
      "+----------------+-----+\n",
      "only showing top 20 rows\n",
      "\n",
      "Analisando coluna company_size ...\n",
      "+------------+-----+\n",
      "|company_size|count|\n",
      "+------------+-----+\n",
      "|M           |62563|\n",
      "|L           |2167 |\n",
      "|S           |204  |\n",
      "+------------+-----+\n",
      "\n",
      "Analisando coluna work_year ...\n",
      "+---------+-----+\n",
      "|work_year|count|\n",
      "+---------+-----+\n",
      "|2024     |54460|\n",
      "|2023     |8522 |\n",
      "|2022     |1659 |\n",
      "|2021     |218  |\n",
      "|2020     |75   |\n",
      "+---------+-----+\n",
      "\n"
     ]
    }
   ],
   "source": [
    "for column in df_id.columns:\n",
    "    print(f\"Analisando coluna {column} ...\")\n",
    "    count_categories(df_id, column).sort(\"count\", ascending=False).show(truncate=False)"
   ]
  },
  {
   "cell_type": "code",
   "execution_count": null,
   "metadata": {},
   "outputs": [],
   "source": [
    "senioridade = df.groupBy(\"experience_level\").agg(F.count(\"*\").alias(\"count\"))"
   ]
  },
  {
   "cell_type": "code",
   "execution_count": null,
   "metadata": {},
   "outputs": [
    {
     "name": "stdout",
     "output_type": "stream",
     "text": [
      "+----------------+-----+\n",
      "|experience_level|count|\n",
      "+----------------+-----+\n",
      "|EX              |1368 |\n",
      "|MI              |19381|\n",
      "|EN              |5962 |\n",
      "|SE              |38223|\n",
      "+----------------+-----+\n",
      "\n"
     ]
    }
   ],
   "source": [
    "senioridade.show(truncate=False)"
   ]
  },
  {
   "cell_type": "code",
   "execution_count": 69,
   "metadata": {},
   "outputs": [
    {
     "data": {
      "text/plain": [
       "<Axes: xlabel='experience_level', ylabel='count'>"
      ]
     },
     "execution_count": 69,
     "metadata": {},
     "output_type": "execute_result"
    },
    {
     "data": {
      "image/png": "[encoded data removed]",
      "text/plain": [
       "<Figure size 640x480 with 1 Axes>"
      ]
     },
     "metadata": {},
     "output_type": "display_data"
    }
   ],
   "source": [
    "sns.barplot(\n",
    "    senioridade.toPandas(),\n",
    "    y=\"count\",\n",
    "    x=\"experience_level\",\n",
    "    order=[\"EN\", \"MI\", \"SE\", \"EX\"],\n",
    ")"
   ]
  },
  {
   "cell_type": "code",
   "execution_count": 46,
   "metadata": {},
   "outputs": [],
   "source": [
    "contrato = df.groupBy(\"employment_type\").agg(F.count(\"*\").alias(\"count\"))"
   ]
  },
  {
   "cell_type": "code",
   "execution_count": 47,
   "metadata": {},
   "outputs": [
    {
     "name": "stdout",
     "output_type": "stream",
     "text": [
      "+---------------+-----+\n",
      "|employment_type|count|\n",
      "+---------------+-----+\n",
      "|FT             |64653|\n",
      "|PT             |145  |\n",
      "|CT             |120  |\n",
      "|FL             |16   |\n",
      "+---------------+-----+\n",
      "\n"
     ]
    }
   ],
   "source": [
    "contrato.show(truncate=False)"
   ]
  },
  {
   "cell_type": "code",
   "execution_count": null,
   "metadata": {},
   "outputs": [
    {
     "data": {
      "text/plain": [
       "<Axes: xlabel='employment_type', ylabel='count'>"
      ]
     },
     "execution_count": 48,
     "metadata": {},
     "output_type": "execute_result"
    },
    {
     "data": {
      "image/png": "[encoded data removed]",
      "text/plain": [
       "<Figure size 640x480 with 1 Axes>"
      ]
     },
     "metadata": {},
     "output_type": "display_data"
    }
   ],
   "source": [
    "sns.barplot(contrato.toPandas(), x=\"employment_type\", y=\"count\")"
   ]
  },
  {
   "cell_type": "code",
   "execution_count": null,
   "metadata": {},
   "outputs": [],
   "source": [
    "moeda = (\n",
    "    df.groupBy(\"salary_currency\")\n",
    "    .agg(F.count(\"*\").alias(\"count\"))\n",
    "    .sort(\"count\", ascending=False)\n",
    "    .limit(10)\n",
    ")"
   ]
  },
  {
   "cell_type": "code",
   "execution_count": 57,
   "metadata": {},
   "outputs": [
    {
     "name": "stdout",
     "output_type": "stream",
     "text": [
      "+---------------+-----+\n",
      "|salary_currency|count|\n",
      "+---------------+-----+\n",
      "|USD            |61750|\n",
      "|GBP            |1773 |\n",
      "|EUR            |1018 |\n",
      "|CAD            |189  |\n",
      "|INR            |69   |\n",
      "|CHF            |29   |\n",
      "|PLN            |21   |\n",
      "|AUD            |16   |\n",
      "|BRL            |15   |\n",
      "|SGD            |10   |\n",
      "+---------------+-----+\n",
      "\n"
     ]
    }
   ],
   "source": [
    "moeda.show(truncate=False)"
   ]
  },
  {
   "cell_type": "code",
   "execution_count": null,
   "metadata": {},
   "outputs": [
    {
     "data": {
      "text/plain": [
       "<Axes: xlabel='salary_currency', ylabel='count'>"
      ]
     },
     "execution_count": 58,
     "metadata": {},
     "output_type": "execute_result"
    },
    {
     "data": {
      "image/png": "[encoded data removed]",
      "text/plain": [
       "<Figure size 640x480 with 1 Axes>"
      ]
     },
     "metadata": {},
     "output_type": "display_data"
    }
   ],
   "source": [
    "sns.barplot(moeda.toPandas(), x=\"salary_currency\", y=\"count\")"
   ]
  },
  {
   "cell_type": "code",
   "execution_count": null,
   "metadata": {},
   "outputs": [],
   "source": [
    "cargo = (\n",
    "    df.groupBy(\"job_title\")\n",
    "    .agg(F.count(\"*\").alias(\"count\"))\n",
    "    .sort(\"count\", ascending=False)\n",
    "    .limit(10)\n",
    ")"
   ]
  },
  {
   "cell_type": "code",
   "execution_count": 64,
   "metadata": {},
   "outputs": [
    {
     "name": "stdout",
     "output_type": "stream",
     "text": [
      "+-------------------------+-----+\n",
      "|job_title                |count|\n",
      "+-------------------------+-----+\n",
      "|Data Scientist           |10570|\n",
      "|Data Engineer            |8707 |\n",
      "|Software Engineer        |6767 |\n",
      "|Data Analyst             |6581 |\n",
      "|Machine Learning Engineer|5433 |\n",
      "|Engineer                 |3282 |\n",
      "|Research Scientist       |2153 |\n",
      "|Manager                  |2006 |\n",
      "|Applied Scientist        |1478 |\n",
      "|Data Architect           |1159 |\n",
      "+-------------------------+-----+\n",
      "\n"
     ]
    }
   ],
   "source": [
    "cargo.show(truncate=False)"
   ]
  },
  {
   "cell_type": "code",
   "execution_count": null,
   "metadata": {},
   "outputs": [
    {
     "data": {
      "text/plain": [
       "<Axes: xlabel='count', ylabel='job_title'>"
      ]
     },
     "execution_count": 65,
     "metadata": {},
     "output_type": "execute_result"
    },
    {
     "data": {
      "image/png": "[encoded data removed]",
      "text/plain": [
       "<Figure size 640x480 with 1 Axes>"
      ]
     },
     "metadata": {},
     "output_type": "display_data"
    }
   ],
   "source": [
    "sns.barplot(cargo.toPandas(), y=\"job_title\", x=\"count\")"
   ]
  },
  {
   "cell_type": "code",
   "execution_count": null,
   "metadata": {},
   "outputs": [],
   "source": [
    "moradia = (\n",
    "    df.groupBy(\"employee_residence\")\n",
    "    .agg(F.count(\"*\").alias(\"count\"))\n",
    "    .sort(\"count\", ascending=False)\n",
    "    .limit(10)\n",
    ")"
   ]
  },
  {
   "cell_type": "code",
   "execution_count": 71,
   "metadata": {},
   "outputs": [
    {
     "name": "stdout",
     "output_type": "stream",
     "text": [
      "+------------------+-----+\n",
      "|employee_residence|count|\n",
      "+------------------+-----+\n",
      "|US                |58762|\n",
      "|CA                |2143 |\n",
      "|GB                |1850 |\n",
      "|DE                |206  |\n",
      "|AU                |190  |\n",
      "|ES                |177  |\n",
      "|FR                |162  |\n",
      "|IN                |131  |\n",
      "|NL                |115  |\n",
      "|LT                |106  |\n",
      "+------------------+-----+\n",
      "\n"
     ]
    }
   ],
   "source": [
    "moradia.show(truncate=False)"
   ]
  },
  {
   "cell_type": "code",
   "execution_count": null,
   "metadata": {},
   "outputs": [
    {
     "data": {
      "text/plain": [
       "<Axes: xlabel='employee_residence', ylabel='count'>"
      ]
     },
     "execution_count": 74,
     "metadata": {},
     "output_type": "execute_result"
    },
    {
     "data": {
      "image/png": "[encoded data removed]",
      "text/plain": [
       "<Figure size 640x480 with 1 Axes>"
      ]
     },
     "metadata": {},
     "output_type": "display_data"
    }
   ],
   "source": [
    "sns.barplot(moradia.toPandas(), x=\"employee_residence\", y=\"count\")"
   ]
  },
  {
   "cell_type": "code",
   "execution_count": null,
   "metadata": {},
   "outputs": [],
   "source": [
    "empresa = (\n",
    "    df.groupBy(\"company_location\")\n",
    "    .agg(F.count(\"*\").alias(\"count\"))\n",
    "    .sort(\"count\", ascending=False)\n",
    "    .limit(10)\n",
    ")"
   ]
  },
  {
   "cell_type": "code",
   "execution_count": 76,
   "metadata": {},
   "outputs": [
    {
     "name": "stdout",
     "output_type": "stream",
     "text": [
      "+----------------+-----+\n",
      "|company_location|count|\n",
      "+----------------+-----+\n",
      "|US              |58814|\n",
      "|CA              |2145 |\n",
      "|GB              |1858 |\n",
      "|DE              |214  |\n",
      "|AU              |194  |\n",
      "|ES              |173  |\n",
      "|FR              |158  |\n",
      "|NL              |115  |\n",
      "|IN              |114  |\n",
      "|LT              |106  |\n",
      "+----------------+-----+\n",
      "\n"
     ]
    }
   ],
   "source": [
    "empresa.show(truncate=False)"
   ]
  },
  {
   "cell_type": "code",
   "execution_count": null,
   "metadata": {},
   "outputs": [
    {
     "data": {
      "text/plain": [
       "<Axes: xlabel='company_location', ylabel='count'>"
      ]
     },
     "execution_count": 77,
     "metadata": {},
     "output_type": "execute_result"
    },
    {
     "data": {
      "image/png": "[encoded data removed]",
      "text/plain": [
       "<Figure size 640x480 with 1 Axes>"
      ]
     },
     "metadata": {},
     "output_type": "display_data"
    }
   ],
   "source": [
    "sns.barplot(empresa.toPandas(), x=\"company_location\", y=\"count\")"
   ]
  },
  {
   "cell_type": "code",
   "execution_count": null,
   "metadata": {},
   "outputs": [],
   "source": [
    "tamanho_empresa = (\n",
    "    df.groupBy(\"company_size\")\n",
    "    .agg(F.count(\"*\").alias(\"count\"))\n",
    "    .sort(\"count\", ascending=False)\n",
    "    .limit(10)\n",
    ")"
   ]
  },
  {
   "cell_type": "code",
   "execution_count": 79,
   "metadata": {},
   "outputs": [
    {
     "name": "stdout",
     "output_type": "stream",
     "text": [
      "+------------+-----+\n",
      "|company_size|count|\n",
      "+------------+-----+\n",
      "|M           |62563|\n",
      "|L           |2167 |\n",
      "|S           |204  |\n",
      "+------------+-----+\n",
      "\n"
     ]
    }
   ],
   "source": [
    "tamanho_empresa.show(truncate=False)"
   ]
  },
  {
   "cell_type": "code",
   "execution_count": null,
   "metadata": {},
   "outputs": [
    {
     "data": {
      "text/plain": [
       "<Axes: xlabel='company_size', ylabel='count'>"
      ]
     },
     "execution_count": 81,
     "metadata": {},
     "output_type": "execute_result"
    },
    {
     "data": {
      "image/png": "[encoded data removed]",
      "text/plain": [
       "<Figure size 640x480 with 1 Axes>"
      ]
     },
     "metadata": {},
     "output_type": "display_data"
    }
   ],
   "source": [
    "sns.barplot(\n",
    "    tamanho_empresa.toPandas(), x=\"company_size\", y=\"count\", order=[\"S\", \"M\", \"L\"]\n",
    ")"
   ]
  },
  {
   "cell_type": "code",
   "execution_count": null,
   "metadata": {},
   "outputs": [
    {
     "name": "stdout",
     "output_type": "stream",
     "text": [
      "+----------------+---------------+-----------------------------------+------+---------------+-------------+------------------+------------+----------------+------------+---------+\n",
      "|experience_level|employment_type|job_title                          |salary|salary_currency|salary_in_usd|employee_residence|remote_ratio|company_location|company_size|work_year|\n",
      "+----------------+---------------+-----------------------------------+------+---------------+-------------+------------------+------------+----------------+------------+---------+\n",
      "|SE              |FT             |Software Developer                 |368200|BRL            |75142        |BR                |0           |BR              |M           |2024     |\n",
      "|SE              |FT             |Software Developer                 |216200|BRL            |44122        |BR                |0           |BR              |M           |2024     |\n",
      "|SE              |FT             |Software Engineer                  |443000|BRL            |90408        |BR                |100         |BR              |M           |2024     |\n",
      "|SE              |FT             |Software Engineer                  |327000|BRL            |66734        |BR                |100         |BR              |M           |2024     |\n",
      "|SE              |FT             |Software Engineer                  |443000|BRL            |90408        |BR                |100         |BR              |M           |2024     |\n",
      "|SE              |FT             |Software Engineer                  |327000|BRL            |66734        |BR                |100         |BR              |M           |2024     |\n",
      "|MI              |FT             |Data Engineer                      |294000|BRL            |59999        |BR                |100         |BR              |M           |2024     |\n",
      "|MI              |FT             |Data Engineer                      |264000|BRL            |53877        |BR                |100         |BR              |M           |2024     |\n",
      "|SE              |FT             |Data Engineer                      |119297|BRL            |24346        |BR                |0           |BR              |M           |2024     |\n",
      "|SE              |FT             |Data Engineer                      |119297|BRL            |24346        |BR                |0           |BR              |M           |2024     |\n",
      "|MI              |FT             |MLOps Engineer                     |140400|BRL            |27568        |BR                |100         |BR              |L           |2023     |\n",
      "|SE              |FT             |Principal Machine Learning Engineer|195000|BRL            |38290        |BR                |50          |BR              |L           |2023     |\n",
      "|EN              |FT             |Data Scientist                     |101400|BRL            |19910        |BR                |100         |BR              |L           |2023     |\n",
      "|SE              |FT             |BI Analyst                         |133333|BRL            |25804        |BR                |100         |BR              |M           |2022     |\n",
      "|SE              |FT             |Computer Vision Engineer           |102000|BRL            |18907        |BR                |0           |BR              |M           |2021     |\n",
      "+----------------+---------------+-----------------------------------+------+---------------+-------------+------------------+------------+----------------+------------+---------+\n",
      "\n"
     ]
    }
   ],
   "source": [
    "df.filter(F.col(\"salary_currency\") == \"BRL\").show(truncate=False)"
   ]
  },
  {
   "cell_type": "code",
   "execution_count": 14,
   "metadata": {},
   "outputs": [
    {
     "data": {
      "text/plain": [
       "267"
      ]
     },
     "execution_count": 14,
     "metadata": {},
     "output_type": "execute_result"
    }
   ],
   "source": [
    "df.select(\"job_title\").distinct().count()"
   ]
  },
  {
   "cell_type": "code",
   "execution_count": 15,
   "metadata": {},
   "outputs": [
    {
     "name": "stdout",
     "output_type": "stream",
     "text": [
      "+-----------------------------------------+-----+\n",
      "|job_title                                |count|\n",
      "+-----------------------------------------+-----+\n",
      "|Data Scientist                           |10570|\n",
      "|Data Engineer                            |8707 |\n",
      "|Software Engineer                        |6767 |\n",
      "|Data Analyst                             |6581 |\n",
      "|Machine Learning Engineer                |5433 |\n",
      "|Engineer                                 |3282 |\n",
      "|Research Scientist                       |2153 |\n",
      "|Manager                                  |2006 |\n",
      "|Applied Scientist                        |1478 |\n",
      "|Data Architect                           |1159 |\n",
      "|Analyst                                  |1087 |\n",
      "|Analytics Engineer                       |1032 |\n",
      "|Research Engineer                        |958  |\n",
      "|Product Manager                          |856  |\n",
      "|Associate                                |768  |\n",
      "|AI Engineer                              |547  |\n",
      "|Business Intelligence Engineer           |542  |\n",
      "|Data Manager                             |533  |\n",
      "|Machine Learning Researcher              |423  |\n",
      "|Business Intelligence Analyst            |417  |\n",
      "|Consultant                               |358  |\n",
      "|Data Specialist                          |344  |\n",
      "|Solutions Architect                      |328  |\n",
      "|Research Analyst                         |319  |\n",
      "|Engineering Manager                      |314  |\n",
      "|Software Development Engineer            |293  |\n",
      "|Machine Learning Scientist               |288  |\n",
      "|Business Intelligence                    |284  |\n",
      "|Software Developer                       |272  |\n",
      "|Systems Engineer                         |260  |\n",
      "|Business Intelligence Developer          |219  |\n",
      "|Site Reliability Engineer                |202  |\n",
      "|BI Developer                             |194  |\n",
      "|DevOps Engineer                          |190  |\n",
      "|Platform Engineer                        |166  |\n",
      "|Business Analyst                         |157  |\n",
      "|Head of Data                             |148  |\n",
      "|Solutions Engineer                       |148  |\n",
      "|Data Product Manager                     |136  |\n",
      "|Decision Scientist                       |132  |\n",
      "|Backend Engineer                         |131  |\n",
      "|AI Architect                             |127  |\n",
      "|Data Analytics Manager                   |124  |\n",
      "|BI Analyst                               |118  |\n",
      "|Data Modeler                             |116  |\n",
      "|Data Management Analyst                  |100  |\n",
      "|Developer                                |100  |\n",
      "|Data Lead                                |90   |\n",
      "|MLOps Engineer                           |90   |\n",
      "|Computer Vision Engineer                 |86   |\n",
      "|Full Stack Engineer                      |84   |\n",
      "|AI Developer                             |81   |\n",
      "|Data Analytics Lead                      |79   |\n",
      "|Data Quality Analyst                     |77   |\n",
      "|Solution Architect                       |76   |\n",
      "|Data Management Specialist               |71   |\n",
      "|Data Developer                           |66   |\n",
      "|Cloud Engineer                           |64   |\n",
      "|Data Infrastructure Engineer             |64   |\n",
      "|Product Analyst                          |62   |\n",
      "|Insight Analyst                          |62   |\n",
      "|Data Operations Analyst                  |60   |\n",
      "|Robotics Engineer                        |58   |\n",
      "|AI Scientist                             |58   |\n",
      "|Security Engineer                        |56   |\n",
      "|Data Product Owner                       |54   |\n",
      "|Statistical Programmer                   |54   |\n",
      "|Data Integration Engineer                |54   |\n",
      "|BI Engineer                              |52   |\n",
      "|Data Strategist                          |52   |\n",
      "|Technical Lead                           |50   |\n",
      "|Research Associate                       |49   |\n",
      "|AI Specialist                            |48   |\n",
      "|Power BI Developer                       |47   |\n",
      "|Data Governance Analyst                  |46   |\n",
      "|Data Analytics Specialist                |44   |\n",
      "|Quantitative Analyst                     |43   |\n",
      "|Data Visualization Specialist            |42   |\n",
      "|Data Reporting Analyst                   |42   |\n",
      "|Machine Learning Infrastructure Engineer |41   |\n",
      "|Data Integration Specialist              |41   |\n",
      "|ETL Developer                            |40   |\n",
      "|Principal Application Delivery Consultant|40   |\n",
      "|Data Operations Engineer                 |40   |\n",
      "|Prompt Engineer                          |39   |\n",
      "|Quantitative Researcher                  |38   |\n",
      "|Machine Learning Developer               |38   |\n",
      "|Data Governance Specialist               |36   |\n",
      "|Full Stack Developer                     |36   |\n",
      "|AI Researcher                            |36   |\n",
      "|Cloud Database Engineer                  |35   |\n",
      "|Principal Statistical Programmer         |34   |\n",
      "|Data Governance Lead                     |34   |\n",
      "|Business Intelligence Manager            |34   |\n",
      "|Data Visualization Analyst               |33   |\n",
      "|Python Developer                         |32   |\n",
      "|Data Operations Specialist               |32   |\n",
      "|Statistician                             |32   |\n",
      "|Data Analytics Consultant                |30   |\n",
      "|Data Visualization Engineer              |30   |\n",
      "+-----------------------------------------+-----+\n",
      "only showing top 100 rows\n",
      "\n"
     ]
    }
   ],
   "source": [
    "df.groupBy(\"job_title\").agg(F.count(\"*\").alias(\"count\")).sort(\n",
    "    \"count\", ascending=False\n",
    ").show(100, truncate=False)"
   ]
  },
  {
   "cell_type": "code",
   "execution_count": 82,
   "metadata": {},
   "outputs": [],
   "source": [
    "df_job_focus = df_id.withColumn(\n",
    "    \"job_focus\",\n",
    "    F.when(F.contains(F.col(\"job_title\"), F.lit(\"Engineer\")), \"Engineer\")\n",
    "    .when(F.contains(F.col(\"job_title\"), F.lit(\"Scien\")), \"Scientist\")\n",
    "    .when(F.contains(F.col(\"job_title\"), F.lit(\"Research\")), \"Scientist\")\n",
    "    .when(F.contains(F.col(\"job_title\"), F.lit(\"Analy\")), \"Analyst\")\n",
    "    .when(F.contains(F.col(\"job_title\"), F.lit(\"Architect\")), \"Architect\")\n",
    "    .when(F.contains(F.col(\"job_title\"), F.lit(\"Model\")), \"Architect\")\n",
    "    .when(\n",
    "        F.contains(F.col(\"job_title\"), F.lit(\"Business Intelligence\")),\n",
    "        \"Business Intelligence\",\n",
    "    )\n",
    "    .when(F.contains(F.col(\"job_title\"), F.lit(\"BI\")), \"Business Intelligence\")\n",
    "    .when(F.contains(F.col(\"job_title\"), F.lit(\"Visual\")), \"Business Intelligence\")\n",
    "    .when(F.contains(F.col(\"job_title\"), F.lit(\"Manager\")), \"Manager\")\n",
    "    .when(F.contains(F.col(\"job_title\"), F.lit(\"Devel\")), \"Developer\")\n",
    "    .otherwise(\"Other\"),\n",
    ").withColumn(\n",
    "    \"data_roles\",\n",
    "    F.when(F.contains(F.col(\"job_title\"), F.lit(\"Data\")), F.lit(1))\n",
    "    .when(F.contains(F.col(\"job_title\"), F.lit(\"Analytics\")), F.lit(1))\n",
    "    .when(F.contains(F.col(\"job_title\"), F.lit(\"AI\")), F.lit(1))\n",
    "    .when(F.contains(F.col(\"job_title\"), F.lit(\"Machine Learning\")), F.lit(1))\n",
    "    .when(F.contains(F.col(\"job_title\"), F.lit(\"ML\")), F.lit(1))\n",
    "    .when(\n",
    "        F.contains(F.col(\"job_title\"), F.lit(\"Business Intelligence\")),\n",
    "        F.lit(1),\n",
    "    )\n",
    "    .when(F.contains(F.col(\"job_title\"), F.lit(\"BI\")), F.lit(1))\n",
    "    .when(F.contains(F.col(\"job_title\"), F.lit(\"Deep Learning\")), F.lit(1))\n",
    "    .when(F.contains(F.col(\"job_title\"), F.lit(\"ETL\")), F.lit(1))\n",
    "    .when(F.contains(F.col(\"job_title\"), F.lit(\"NLP\")), F.lit(1))\n",
    "    .when(F.contains(F.col(\"job_title\"), F.lit(\"Artificial Intelligence\")), F.lit(1))\n",
    "    .when(F.contains(F.col(\"job_title\"), F.lit(\"Chatbot\")), F.lit(1))\n",
    "    .when(F.contains(F.col(\"job_title\"), F.lit(\"Decision Scientist\")), F.lit(1))\n",
    "    .otherwise(F.lit(0)),\n",
    ")"
   ]
  },
  {
   "cell_type": "code",
   "execution_count": null,
   "metadata": {},
   "outputs": [],
   "source": [
    "foco_cargo = (\n",
    "    df_job_focus.groupBy(\"job_focus\", \"data_roles\")\n",
    "    .agg(F.count(\"*\").alias(\"count\"))\n",
    "    .sort(\"count\", ascending=False)\n",
    ")"
   ]
  },
  {
   "cell_type": "code",
   "execution_count": 95,
   "metadata": {},
   "outputs": [
    {
     "name": "stdout",
     "output_type": "stream",
     "text": [
      "+---------------------+----------+-----+\n",
      "|job_focus            |data_roles|count|\n",
      "+---------------------+----------+-----+\n",
      "|Engineer             |1         |16950|\n",
      "|Engineer             |0         |13222|\n",
      "|Scientist            |1         |11574|\n",
      "|Analyst              |1         |7904 |\n",
      "|Scientist            |0         |4091 |\n",
      "|Manager              |0         |2862 |\n",
      "|Other                |0         |1451 |\n",
      "|Architect            |1         |1445 |\n",
      "|Analyst              |0         |1433 |\n",
      "|Other                |1         |1229 |\n",
      "|Business Intelligence|1         |882  |\n",
      "|Manager              |1         |785  |\n",
      "|Developer            |0         |448  |\n",
      "|Architect            |0         |414  |\n",
      "|Developer            |1         |244  |\n",
      "+---------------------+----------+-----+\n",
      "\n"
     ]
    }
   ],
   "source": [
    "foco_cargo.show(truncate=False)"
   ]
  },
  {
   "cell_type": "code",
   "execution_count": null,
   "metadata": {},
   "outputs": [
    {
     "data": {
      "text/plain": [
       "<Axes: xlabel='count', ylabel='job_focus'>"
      ]
     },
     "execution_count": 97,
     "metadata": {},
     "output_type": "execute_result"
    },
    {
     "data": {
      "image/png": "[encoded data removed]",
      "text/plain": [
       "<Figure size 640x480 with 1 Axes>"
      ]
     },
     "metadata": {},
     "output_type": "display_data"
    }
   ],
   "source": [
    "sns.barplot(foco_cargo.toPandas(), y=\"job_focus\", x=\"count\", hue=\"data_roles\")"
   ]
  },
  {
   "cell_type": "code",
   "execution_count": 84,
   "metadata": {},
   "outputs": [
    {
     "name": "stdout",
     "output_type": "stream",
     "text": [
      "+----------+-----+\n",
      "|data_roles|count|\n",
      "+----------+-----+\n",
      "|1         |41013|\n",
      "|0         |23921|\n",
      "+----------+-----+\n",
      "\n"
     ]
    }
   ],
   "source": [
    "df_job_focus.groupBy(\"data_roles\").agg(F.count(\"*\").alias(\"count\")).show(truncate=False)"
   ]
  },
  {
   "cell_type": "code",
   "execution_count": 85,
   "metadata": {},
   "outputs": [
    {
     "name": "stdout",
     "output_type": "stream",
     "text": [
      "+----------------------------------------+-----+\n",
      "|job_title                               |count|\n",
      "+----------------------------------------+-----+\n",
      "|Data Scientist                          |10570|\n",
      "|Data Engineer                           |8707 |\n",
      "|Data Analyst                            |6581 |\n",
      "|Machine Learning Engineer               |5433 |\n",
      "|Data Architect                          |1159 |\n",
      "|Analytics Engineer                      |1032 |\n",
      "|AI Engineer                             |547  |\n",
      "|Business Intelligence Engineer          |542  |\n",
      "|Data Manager                            |533  |\n",
      "|Machine Learning Researcher             |423  |\n",
      "|Business Intelligence Analyst           |417  |\n",
      "|Data Specialist                         |344  |\n",
      "|Machine Learning Scientist              |288  |\n",
      "|Business Intelligence                   |284  |\n",
      "|Business Intelligence Developer         |219  |\n",
      "|BI Developer                            |194  |\n",
      "|Head of Data                            |148  |\n",
      "|Data Product Manager                    |136  |\n",
      "|Decision Scientist                      |132  |\n",
      "|AI Architect                            |127  |\n",
      "|Data Analytics Manager                  |124  |\n",
      "|BI Analyst                              |118  |\n",
      "|Data Modeler                            |116  |\n",
      "|Data Management Analyst                 |100  |\n",
      "|Data Lead                               |90   |\n",
      "|MLOps Engineer                          |90   |\n",
      "|AI Developer                            |81   |\n",
      "|Data Analytics Lead                     |79   |\n",
      "|Data Quality Analyst                    |77   |\n",
      "|Data Management Specialist              |71   |\n",
      "|Data Developer                          |66   |\n",
      "|Data Infrastructure Engineer            |64   |\n",
      "|Data Operations Analyst                 |60   |\n",
      "|AI Scientist                            |58   |\n",
      "|Data Product Owner                      |54   |\n",
      "|Data Integration Engineer               |54   |\n",
      "|BI Engineer                             |52   |\n",
      "|Data Strategist                         |52   |\n",
      "|AI Specialist                           |48   |\n",
      "|Power BI Developer                      |47   |\n",
      "|Data Governance Analyst                 |46   |\n",
      "|Data Analytics Specialist               |44   |\n",
      "|Data Visualization Specialist           |42   |\n",
      "|Data Reporting Analyst                  |42   |\n",
      "|Data Integration Specialist             |41   |\n",
      "|Machine Learning Infrastructure Engineer|41   |\n",
      "|Data Operations Engineer                |40   |\n",
      "|ETL Developer                           |40   |\n",
      "|Machine Learning Developer              |38   |\n",
      "|Data Governance Specialist              |36   |\n",
      "|AI Researcher                           |36   |\n",
      "|Cloud Database Engineer                 |35   |\n",
      "|Data Governance Lead                    |34   |\n",
      "|Business Intelligence Manager           |34   |\n",
      "|Data Visualization Analyst              |33   |\n",
      "|Data Operations Specialist              |32   |\n",
      "|Data Analytics Consultant               |30   |\n",
      "|Data Visualization Engineer             |30   |\n",
      "|Data Quality Engineer                   |29   |\n",
      "|Business Intelligence Lead              |28   |\n",
      "|Encounter Data Management Professional  |28   |\n",
      "|AI Product Manager                      |27   |\n",
      "|Data Quality Lead                       |26   |\n",
      "|Analytics Lead                          |26   |\n",
      "|NLP Engineer                            |23   |\n",
      "|Data Operations Manager                 |22   |\n",
      "|Data Governance Manager                 |21   |\n",
      "|Business Data Analyst                   |21   |\n",
      "|BI Data Analyst                         |19   |\n",
      "|ML Infrastructure Engineer              |18   |\n",
      "|Data Operations Associate               |18   |\n",
      "|Artificial Intelligence Engineer        |18   |\n",
      "|Data Team Lead                          |18   |\n",
      "|Director of Machine Learning            |18   |\n",
      "|Head of AI                              |16   |\n",
      "|Cloud Database Administrator            |16   |\n",
      "|Data Quality Manager                    |16   |\n",
      "|Machine Learning Platform Engineer      |16   |\n",
      "|Machine Learning Model Engineer         |16   |\n",
      "|Data Management Lead                    |16   |\n",
      "|Machine Learning Software Engineer      |15   |\n",
      "|Machine Learning Manager                |14   |\n",
      "|Data Quality Specialist                 |14   |\n",
      "|Data Governance Engineer                |14   |\n",
      "|Applied Machine Learning Scientist      |14   |\n",
      "|Machine Learning Architect              |14   |\n",
      "|Machine Learning Quality Engineer       |14   |\n",
      "|Big Data Engineer                       |13   |\n",
      "|Applied Data Scientist                  |13   |\n",
      "|Data Integration Developer              |12   |\n",
      "|Data Visualization Developer            |12   |\n",
      "|Data Integrity Analyst                  |12   |\n",
      "|Deep Learning Engineer                  |12   |\n",
      "|Business Intelligence Specialist        |12   |\n",
      "|AI Software Engineer                    |11   |\n",
      "|Lead Data Scientist                     |11   |\n",
      "|AI Lead                                 |11   |\n",
      "|AI Solution Architect                   |10   |\n",
      "|Machine Learning Modeler                |10   |\n",
      "|Principal Data Scientist                |10   |\n",
      "|Data Governance                         |10   |\n",
      "|Data Strategy Lead                      |10   |\n",
      "|Data Management Consultant              |10   |\n",
      "|AI Product Owner                        |10   |\n",
      "|Head of Machine Learning                |9    |\n",
      "|AI Programmer                           |9    |\n",
      "|Data Integration Analyst                |8    |\n",
      "|AI Research Engineer                    |8    |\n",
      "|Data Management Manager                 |8    |\n",
      "|Data Analytics Associate                |7    |\n",
      "|ETL Engineer                            |7    |\n",
      "|Clinical Data Operator                  |6    |\n",
      "|Analytics Specialist                    |6    |\n",
      "|Lead Data Analyst                       |6    |\n",
      "|Product Data Analyst                    |6    |\n",
      "|Master Data Management                  |6    |\n",
      "|Data Analytics Developer                |6    |\n",
      "|Data Strategy Manager                   |6    |\n",
      "|Machine Learning Specialist             |6    |\n",
      "|Data and Reporting Professional         |6    |\n",
      "|AI Research Scientist                   |6    |\n",
      "|DataOps Engineer                        |6    |\n",
      "|Lead Data Engineer                      |6    |\n",
      "|Lead Machine Learning Engineer          |5    |\n",
      "|AI Data Scientist                       |5    |\n",
      "|Admin & Data Analyst                    |5    |\n",
      "|Machine Learning Research Engineer      |5    |\n",
      "|Data Analytics Engineer                 |5    |\n",
      "|Data Platform Engineer                  |4    |\n",
      "|Chatbot Developer                       |4    |\n",
      "|Data Management Associate               |4    |\n",
      "|Cloud Data Engineer                     |4    |\n",
      "|Data Integration Coordinator            |4    |\n",
      "|Financial Data Analyst                  |4    |\n",
      "|Data Scientist Lead                     |3    |\n",
      "|Big Data Developer                      |3    |\n",
      "|Principal Machine Learning Engineer     |3    |\n",
      "|Software Data Engineer                  |3    |\n",
      "|Applied Machine Learning Engineer       |3    |\n",
      "|Staff Data Analyst                      |3    |\n",
      "|Finance Data Analyst                    |3    |\n",
      "|Data DevOps Engineer                    |3    |\n",
      "|Principal Data Engineer                 |3    |\n",
      "|Data Product Analyst                    |2    |\n",
      "|Director of Business Intelligence       |2    |\n",
      "|Machine Learning Lead                   |2    |\n",
      "|Head of Business Intelligence           |2    |\n",
      "|Consultant Data Engineer                |2    |\n",
      "|Master Data Specialist                  |2    |\n",
      "|Applied AI ML Lead                      |2    |\n",
      "|Marketing Analytics Manager             |2    |\n",
      "|Manager Data Management                 |2    |\n",
      "|Power BI Architect                      |2    |\n",
      "|Business Intelligence Consultant        |2    |\n",
      "|Databricks Engineer                     |2    |\n",
      "|Machine Learning Performance Engineer   |2    |\n",
      "|Data Analyst Lead                       |2    |\n",
      "|Azure Data Engineer                     |2    |\n",
      "|Data Operations Lead                    |2    |\n",
      "|Power BI Consultant                     |2    |\n",
      "|Data and Reporting Analyst              |2    |\n",
      "|Power BI Administrator                  |2    |\n",
      "|Data Pipeline Engineer                  |2    |\n",
      "|Big Data Architect                      |2    |\n",
      "|Data Analytics Team Lead                |2    |\n",
      "|Compliance Data Analyst                 |2    |\n",
      "|Business Intelligence Data Analyst      |2    |\n",
      "|Data Governance Architect               |2    |\n",
      "|Staff Data Scientist                    |2    |\n",
      "|Principal Data Analyst                  |2    |\n",
      "|Marketing Data Analyst                  |2    |\n",
      "|Marketing Data Scientist                |1    |\n",
      "|Deep Learning Researcher                |1    |\n",
      "|Lead AI Engineer                        |1    |\n",
      "|CRM Data Analyst                        |1    |\n",
      "|People Data Analyst                     |1    |\n",
      "|BI Data Engineer                        |1    |\n",
      "|AI Software Development Engineer        |1    |\n",
      "|AI Engineering Manager                  |1    |\n",
      "|AI Machine Learning Engineer            |1    |\n",
      "|AWS Data Architect                      |1    |\n",
      "|Platform Data Engineer                  |1    |\n",
      "|Analytics Engineering Manager           |1    |\n",
      "|Principal Data Architect                |1    |\n",
      "|Cloud Data Architect                    |1    |\n",
      "|Marketing Data Engineer                 |1    |\n",
      "|Data Science Tech Lead                  |1    |\n",
      "|Staff Machine Learning Engineer         |1    |\n",
      "|Sales Data Analyst                      |1    |\n",
      "+----------------------------------------+-----+\n",
      "\n"
     ]
    }
   ],
   "source": [
    "df_job_focus.filter(F.col(\"data_roles\") == 1).groupBy(\"job_title\").agg(\n",
    "    F.count(\"*\").alias(\"count\")\n",
    ").sort(\"count\", ascending=False).show(300, truncate=False)"
   ]
  },
  {
   "cell_type": "code",
   "execution_count": 86,
   "metadata": {},
   "outputs": [
    {
     "name": "stdout",
     "output_type": "stream",
     "text": [
      "+-----------------------------------------+-----+\n",
      "|job_title                                |count|\n",
      "+-----------------------------------------+-----+\n",
      "|Software Engineer                        |6767 |\n",
      "|Engineer                                 |3282 |\n",
      "|Research Scientist                       |2153 |\n",
      "|Manager                                  |2006 |\n",
      "|Applied Scientist                        |1478 |\n",
      "|Analyst                                  |1087 |\n",
      "|Research Engineer                        |958  |\n",
      "|Product Manager                          |856  |\n",
      "|Associate                                |768  |\n",
      "|Consultant                               |358  |\n",
      "|Solutions Architect                      |328  |\n",
      "|Research Analyst                         |319  |\n",
      "|Engineering Manager                      |314  |\n",
      "|Software Development Engineer            |293  |\n",
      "|Software Developer                       |272  |\n",
      "|Systems Engineer                         |260  |\n",
      "|Site Reliability Engineer                |202  |\n",
      "|DevOps Engineer                          |190  |\n",
      "|Platform Engineer                        |166  |\n",
      "|Business Analyst                         |157  |\n",
      "|Solutions Engineer                       |148  |\n",
      "|Backend Engineer                         |131  |\n",
      "|Developer                                |100  |\n",
      "|Computer Vision Engineer                 |86   |\n",
      "|Full Stack Engineer                      |84   |\n",
      "|Solution Architect                       |76   |\n",
      "|Cloud Engineer                           |64   |\n",
      "|Product Analyst                          |62   |\n",
      "|Insight Analyst                          |62   |\n",
      "|Robotics Engineer                        |58   |\n",
      "|Security Engineer                        |56   |\n",
      "|Statistical Programmer                   |54   |\n",
      "|Technical Lead                           |50   |\n",
      "|Research Associate                       |49   |\n",
      "|Quantitative Analyst                     |43   |\n",
      "|Principal Application Delivery Consultant|40   |\n",
      "|Prompt Engineer                          |39   |\n",
      "|Quantitative Researcher                  |38   |\n",
      "|Full Stack Developer                     |36   |\n",
      "|Principal Statistical Programmer         |34   |\n",
      "|Python Developer                         |32   |\n",
      "|Statistician                             |32   |\n",
      "|Lead Engineer                            |30   |\n",
      "|Member of Technical Staff                |26   |\n",
      "|Bioinformatics Scientist                 |26   |\n",
      "|Research Assistant                       |26   |\n",
      "|Fullstack Engineer                       |24   |\n",
      "|Product Designer                         |23   |\n",
      "|Computational Biologist                  |18   |\n",
      "|Infrastructure Engineer                  |16   |\n",
      "|QA Engineer                              |16   |\n",
      "|Robotics Software Engineer               |12   |\n",
      "|Frontend Engineer                        |12   |\n",
      "|Bear Robotics                            |10   |\n",
      "|Software Architect                       |10   |\n",
      "|Stage                                    |10   |\n",
      "|Technical Writer                         |8    |\n",
      "|Marketing Analyst                        |8    |\n",
      "|Actuarial Analyst                        |6    |\n",
      "|Bioinformatician                         |6    |\n",
      "|Pricing Analyst                          |6    |\n",
      "|Computer Vision Software Engineer        |5    |\n",
      "|System Engineer                          |4    |\n",
      "|Postdoctoral Fellow                      |4    |\n",
      "|Quantitative Developer                   |4    |\n",
      "|SAS Developer                            |2    |\n",
      "|Technical Specialist                     |2    |\n",
      "|Product Owner                            |2    |\n",
      "|Solution Engineer                        |2    |\n",
      "|Autonomous Vehicle Technician            |2    |\n",
      "|Cloud Developer                          |2    |\n",
      "|Lead Analyst                             |2    |\n",
      "|Elasticsearch Administrator              |2    |\n",
      "|Enterprise Account Executive             |2    |\n",
      "|Machine Vision Engineer                  |2    |\n",
      "|Applied Research Scientist               |1    |\n",
      "|Backend Software Engineer                |1    |\n",
      "|Quantitative Research Analyst            |1    |\n",
      "+-----------------------------------------+-----+\n",
      "\n"
     ]
    }
   ],
   "source": [
    "df_job_focus.filter(F.col(\"data_roles\") == 0).groupBy(\"job_title\").agg(\n",
    "    F.count(\"*\").alias(\"count\")\n",
    ").sort(\"count\", ascending=False).show(100, truncate=False)"
   ]
  },
  {
   "cell_type": "code",
   "execution_count": null,
   "metadata": {},
   "outputs": [],
   "source": [
    "top_data_roles = (\n",
    "    df_job_focus.filter(F.col(\"data_roles\") == 1)\n",
    "    .groupBy(\"job_title\")\n",
    "    .agg(F.count(\"*\").alias(\"count\"))\n",
    "    .sort(\"count\", ascending=False)\n",
    "    .limit(5)\n",
    ")"
   ]
  },
  {
   "cell_type": "code",
   "execution_count": 99,
   "metadata": {},
   "outputs": [
    {
     "name": "stdout",
     "output_type": "stream",
     "text": [
      "+-------------------------+-----+\n",
      "|job_title                |count|\n",
      "+-------------------------+-----+\n",
      "|Data Scientist           |10570|\n",
      "|Data Engineer            |8707 |\n",
      "|Data Analyst             |6581 |\n",
      "|Machine Learning Engineer|5433 |\n",
      "|Data Architect           |1159 |\n",
      "+-------------------------+-----+\n",
      "\n"
     ]
    }
   ],
   "source": [
    "top_data_roles.show(truncate=False)"
   ]
  },
  {
   "cell_type": "code",
   "execution_count": null,
   "metadata": {},
   "outputs": [
    {
     "data": {
      "text/plain": [
       "<Axes: xlabel='count', ylabel='job_title'>"
      ]
     },
     "execution_count": 100,
     "metadata": {},
     "output_type": "execute_result"
    },
    {
     "data": {
      "image/png": "[encoded data removed]",
      "text/plain": [
       "<Figure size 640x480 with 1 Axes>"
      ]
     },
     "metadata": {},
     "output_type": "display_data"
    }
   ],
   "source": [
    "sns.barplot(top_data_roles.toPandas(), y=\"job_title\", x=\"count\")"
   ]
  },
  {
   "cell_type": "code",
   "execution_count": null,
   "metadata": {},
   "outputs": [],
   "source": [
    "top_non_data_roles = (\n",
    "    df_job_focus.filter(F.col(\"data_roles\") == 0)\n",
    "    .groupBy(\"job_title\")\n",
    "    .agg(F.count(\"*\").alias(\"count\"))\n",
    "    .sort(\"count\", ascending=False)\n",
    "    .limit(5)\n",
    ")"
   ]
  },
  {
   "cell_type": "code",
   "execution_count": 102,
   "metadata": {},
   "outputs": [
    {
     "name": "stdout",
     "output_type": "stream",
     "text": [
      "+------------------+-----+\n",
      "|job_title         |count|\n",
      "+------------------+-----+\n",
      "|Software Engineer |6767 |\n",
      "|Engineer          |3282 |\n",
      "|Research Scientist|2153 |\n",
      "|Manager           |2006 |\n",
      "|Applied Scientist |1478 |\n",
      "+------------------+-----+\n",
      "\n"
     ]
    }
   ],
   "source": [
    "top_non_data_roles.show(truncate=False)"
   ]
  },
  {
   "cell_type": "code",
   "execution_count": null,
   "metadata": {},
   "outputs": [
    {
     "data": {
      "text/plain": [
       "<Axes: xlabel='count', ylabel='job_title'>"
      ]
     },
     "execution_count": 103,
     "metadata": {},
     "output_type": "execute_result"
    },
    {
     "data": {
      "image/png": "[encoded data removed]",
      "text/plain": [
       "<Figure size 640x480 with 1 Axes>"
      ]
     },
     "metadata": {},
     "output_type": "display_data"
    }
   ],
   "source": [
    "sns.barplot(top_non_data_roles.toPandas(), y=\"job_title\", x=\"count\")"
   ]
  },
  {
   "cell_type": "code",
   "execution_count": 87,
   "metadata": {},
   "outputs": [
    {
     "data": {
      "text/plain": [
       "2680"
      ]
     },
     "execution_count": 87,
     "metadata": {},
     "output_type": "execute_result"
    }
   ],
   "source": [
    "df_job_focus.filter(F.col(\"job_focus\") == \"Other\").distinct().count()"
   ]
  },
  {
   "cell_type": "code",
   "execution_count": null,
   "metadata": {},
   "outputs": [
    {
     "name": "stdout",
     "output_type": "stream",
     "text": [
      "+-----------------------------------------+-----+\n",
      "|job_title                                |count|\n",
      "+-----------------------------------------+-----+\n",
      "|Associate                                |768  |\n",
      "|Consultant                               |358  |\n",
      "|Data Specialist                          |344  |\n",
      "|Head of Data                             |148  |\n",
      "|Data Lead                                |90   |\n",
      "|Data Management Specialist               |71   |\n",
      "|Data Product Owner                       |54   |\n",
      "|Statistical Programmer                   |54   |\n",
      "|Data Strategist                          |52   |\n",
      "|Technical Lead                           |50   |\n",
      "|AI Specialist                            |48   |\n",
      "|Data Integration Specialist              |41   |\n",
      "|Principal Application Delivery Consultant|40   |\n",
      "|Data Governance Specialist               |36   |\n",
      "|Data Governance Lead                     |34   |\n",
      "|Principal Statistical Programmer         |34   |\n",
      "|Data Operations Specialist               |32   |\n",
      "|Statistician                             |32   |\n",
      "|Encounter Data Management Professional   |28   |\n",
      "|Data Quality Lead                        |26   |\n",
      "|Member of Technical Staff                |26   |\n",
      "|Product Designer                         |23   |\n",
      "|Computational Biologist                  |18   |\n",
      "|Data Operations Associate                |18   |\n",
      "|Data Team Lead                           |18   |\n",
      "|Director of Machine Learning             |18   |\n",
      "|Head of AI                               |16   |\n",
      "|Cloud Database Administrator             |16   |\n",
      "|Data Management Lead                     |16   |\n",
      "|Data Quality Specialist                  |14   |\n",
      "|AI Lead                                  |11   |\n",
      "|Bear Robotics                            |10   |\n",
      "|Data Governance                          |10   |\n",
      "|Data Strategy Lead                       |10   |\n",
      "|Stage                                    |10   |\n",
      "|Data Management Consultant               |10   |\n",
      "|AI Product Owner                         |10   |\n",
      "|Head of Machine Learning                 |9    |\n",
      "|AI Programmer                            |9    |\n",
      "|Technical Writer                         |8    |\n",
      "|Clinical Data Operator                   |6    |\n",
      "|Master Data Management                   |6    |\n",
      "|Bioinformatician                         |6    |\n",
      "|Machine Learning Specialist              |6    |\n",
      "|Data and Reporting Professional          |6    |\n",
      "|Data Management Associate                |4    |\n",
      "|Postdoctoral Fellow                      |4    |\n",
      "|Data Integration Coordinator             |4    |\n",
      "|Machine Learning Lead                    |2    |\n",
      "|Master Data Specialist                   |2    |\n",
      "|Applied AI ML Lead                       |2    |\n",
      "|Technical Specialist                     |2    |\n",
      "|Product Owner                            |2    |\n",
      "|Autonomous Vehicle Technician            |2    |\n",
      "|Data Operations Lead                     |2    |\n",
      "|Elasticsearch Administrator              |2    |\n",
      "|Enterprise Account Executive             |2    |\n",
      "+-----------------------------------------+-----+\n",
      "\n"
     ]
    }
   ],
   "source": [
    "df_job_focus.filter(F.col(\"job_focus\") == \"Other\").groupBy(\"job_title\").agg(\n",
    "    F.count(\"*\").alias(\"count\")\n",
    ").sort(\"count\", ascending=False).show(100, truncate=False)"
   ]
  },
  {
   "cell_type": "markdown",
   "metadata": {},
   "source": [
    "### Corrigir o salário em dólares pela inflação americana anual\n",
    "\n",
    "[Referência](https://www.macrotrends.net/global-metrics/countries/USA/united-states/inflation-rate-cpi)"
   ]
  },
  {
   "cell_type": "code",
   "execution_count": 104,
   "metadata": {},
   "outputs": [],
   "source": [
    "inflation = spark.createDataFrame(\n",
    "    [\n",
    "        Row(year=2020, rate=0.0123),\n",
    "        Row(year=2021, rate=0.0470),\n",
    "        Row(year=2022, rate=0.0800),\n",
    "        Row(year=2023, rate=0.0412),\n",
    "        Row(year=2024, rate=0.0),\n",
    "    ]\n",
    ")"
   ]
  },
  {
   "cell_type": "code",
   "execution_count": 105,
   "metadata": {},
   "outputs": [
    {
     "name": "stdout",
     "output_type": "stream",
     "text": [
      "+----+------+\n",
      "|year|rate  |\n",
      "+----+------+\n",
      "|2020|0.0123|\n",
      "|2021|0.047 |\n",
      "|2022|0.08  |\n",
      "|2023|0.0412|\n",
      "|2024|0.0   |\n",
      "+----+------+\n",
      "\n"
     ]
    }
   ],
   "source": [
    "inflation.show(truncate=False)"
   ]
  },
  {
   "cell_type": "code",
   "execution_count": 110,
   "metadata": {},
   "outputs": [],
   "source": [
    "cumulative_inflation = (\n",
    "    inflation.select(\"year\")\n",
    "    .alias(\"a\")\n",
    "    .join(inflation.alias(\"b\"), F.col(\"b.year\") >= F.col(\"a.year\"), how=\"left\")\n",
    "    .select(\"a.year\", \"rate\")\n",
    "    .groupBy(\"year\")\n",
    "    .agg(F.sum(F.col(\"rate\")).alias(\"cumulative_rate\"))\n",
    ")"
   ]
  },
  {
   "cell_type": "code",
   "execution_count": 111,
   "metadata": {},
   "outputs": [
    {
     "name": "stdout",
     "output_type": "stream",
     "text": [
      "+----+-------------------+\n",
      "|year|cumulative_rate    |\n",
      "+----+-------------------+\n",
      "|2020|0.1805             |\n",
      "|2021|0.16820000000000002|\n",
      "|2022|0.1212             |\n",
      "|2023|0.0412             |\n",
      "|2024|0.0                |\n",
      "+----+-------------------+\n",
      "\n"
     ]
    }
   ],
   "source": [
    "cumulative_inflation.sort(\"year\").show(truncate=False)"
   ]
  },
  {
   "cell_type": "code",
   "execution_count": null,
   "metadata": {},
   "outputs": [
    {
     "data": {
      "text/plain": [
       "<Axes: xlabel='year', ylabel='cumulative_rate'>"
      ]
     },
     "execution_count": 117,
     "metadata": {},
     "output_type": "execute_result"
    },
    {
     "data": {
      "image/png": "[encoded data removed]",
      "text/plain": [
       "<Figure size 640x480 with 1 Axes>"
      ]
     },
     "metadata": {},
     "output_type": "display_data"
    }
   ],
   "source": [
    "sns.lineplot(\n",
    "    cumulative_inflation.withColumn(\"year\", F.col(\"year\").cast(\"string\"))\n",
    "    .sort(\"year\")\n",
    "    .toPandas(),\n",
    "    x=\"year\",\n",
    "    y=\"cumulative_rate\",\n",
    ")"
   ]
  },
  {
   "cell_type": "code",
   "execution_count": 118,
   "metadata": {},
   "outputs": [],
   "source": [
    "df_update = (\n",
    "    df_job_focus.join(\n",
    "        cumulative_inflation, df.work_year == cumulative_inflation.year, how=\"left\"\n",
    "    )\n",
    "    .withColumn(\n",
    "        \"updated_salary\",\n",
    "        F.round(\n",
    "            F.col(\"salary_in_usd\") + F.col(\"salary_in_usd\") * F.col(\"cumulative_rate\"),\n",
    "            2,\n",
    "        ),\n",
    "    )\n",
    "    .sort(\"work_year\")\n",
    ")"
   ]
  },
  {
   "cell_type": "code",
   "execution_count": 119,
   "metadata": {},
   "outputs": [
    {
     "name": "stdout",
     "output_type": "stream",
     "text": [
      "+-----------+----------------+---------------+-------------------------+------+---------------+-------------+------------------+------------+----------------+------------+---------+---------+----------+----+---------------+--------------+\n",
      "|id         |experience_level|employment_type|job_title                |salary|salary_currency|salary_in_usd|employee_residence|remote_ratio|company_location|company_size|work_year|job_focus|data_roles|year|cumulative_rate|updated_salary|\n",
      "+-----------+----------------+---------------+-------------------------+------+---------------+-------------+------------------+------------+----------------+------------+---------+---------+----------+----+---------------+--------------+\n",
      "|17179869184|EN              |FT             |Azure Data Engineer      |100000|USD            |100000       |MU                |0           |MU              |S           |2020     |Engineer |1         |2020|0.1805         |118050.0      |\n",
      "|17179869204|EN              |FT             |Machine Learning Engineer|250000|USD            |250000       |US                |50          |US              |L           |2020     |Engineer |1         |2020|0.1805         |295125.0      |\n",
      "|17179869185|EN              |CT             |Staff Data Analyst       |60000 |CAD            |44753        |CA                |50          |CA              |L           |2020     |Analyst  |1         |2020|0.1805         |52830.92      |\n",
      "|17179869186|SE              |FT             |Staff Data Scientist     |164000|USD            |164000       |US                |50          |US              |M           |2020     |Scientist|1         |2020|0.1805         |193602.0      |\n",
      "|17179869187|EN              |FT             |Data Analyst             |42000 |EUR            |47899        |DE                |0           |DE              |L           |2020     |Analyst  |1         |2020|0.1805         |56544.77      |\n",
      "|17179869188|EX              |FT             |Data Scientist           |300000|USD            |300000       |US                |100         |US              |L           |2020     |Scientist|1         |2020|0.1805         |354150.0      |\n",
      "|17179869189|MI              |CT             |Sales Data Analyst       |60000 |USD            |60000        |NG                |0           |NG              |M           |2020     |Analyst  |1         |2020|0.1805         |70830.0       |\n",
      "|17179869190|EX              |FT             |Staff Data Analyst       |15000 |USD            |15000        |NG                |0           |CA              |M           |2020     |Analyst  |1         |2020|0.1805         |17707.5       |\n",
      "|17179869191|MI              |FT             |Business Data Analyst    |95000 |USD            |95000        |US                |0           |US              |M           |2020     |Analyst  |1         |2020|0.1805         |112147.5      |\n",
      "|17179869192|EN              |FT             |Data Analyst             |20000 |EUR            |22809        |PT                |100         |PT              |M           |2020     |Analyst  |1         |2020|0.1805         |26926.02      |\n",
      "|17179869193|EN              |FT             |Data Scientist           |43200 |EUR            |49268        |DE                |0           |DE              |S           |2020     |Scientist|1         |2020|0.1805         |58160.87      |\n",
      "|17179869194|SE              |FT             |Machine Learning Manager |157000|CAD            |117104       |CA                |50          |CA              |L           |2020     |Manager  |1         |2020|0.1805         |138241.27     |\n",
      "|17179869195|EN              |FT             |Data Engineer            |48000 |EUR            |54742        |PK                |100         |DE              |L           |2020     |Engineer |1         |2020|0.1805         |64622.93      |\n",
      "|17179869196|MI              |FT             |Product Data Analyst     |20000 |USD            |20000        |HN                |0           |HN              |S           |2020     |Analyst  |1         |2020|0.1805         |23610.0       |\n",
      "|17179869197|MI              |FT             |Data Engineer            |51999 |EUR            |59303        |DE                |100         |DE              |S           |2020     |Engineer |1         |2020|0.1805         |70007.19      |\n",
      "|17179869198|EN              |FT             |Big Data Engineer        |70000 |USD            |70000        |US                |100         |US              |L           |2020     |Engineer |1         |2020|0.1805         |82635.0       |\n",
      "|17179869199|SE              |FT             |Data Scientist           |60000 |EUR            |68428        |GR                |100         |US              |L           |2020     |Scientist|1         |2020|0.1805         |80779.25      |\n",
      "|17179869200|MI              |FT             |Research Scientist       |450000|USD            |450000       |US                |0           |US              |M           |2020     |Scientist|0         |2020|0.1805         |531225.0      |\n",
      "|17179869201|MI              |FT             |Data Analyst             |41000 |EUR            |46759        |FR                |50          |FR              |L           |2020     |Analyst  |1         |2020|0.1805         |55199.0       |\n",
      "|17179869202|MI              |FT             |Data Engineer            |65000 |EUR            |74130        |AT                |50          |AT              |L           |2020     |Engineer |1         |2020|0.1805         |87510.47      |\n",
      "+-----------+----------------+---------------+-------------------------+------+---------------+-------------+------------------+------------+----------------+------------+---------+---------+----------+----+---------------+--------------+\n",
      "only showing top 20 rows\n",
      "\n"
     ]
    }
   ],
   "source": [
    "df_update.show(truncate=False)"
   ]
  },
  {
   "cell_type": "code",
   "execution_count": null,
   "metadata": {},
   "outputs": [
    {
     "data": {
      "text/plain": [
       "<Axes: >"
      ]
     },
     "execution_count": 120,
     "metadata": {},
     "output_type": "execute_result"
    },
    {
     "data": {
      "image/png": "[encoded data removed]",
      "text/plain": [
       "<Figure size 640x480 with 1 Axes>"
      ]
     },
     "metadata": {},
     "output_type": "display_data"
    }
   ],
   "source": [
    "sns.boxplot(df_update.select(\"updated_salary\").toPandas())"
   ]
  },
  {
   "cell_type": "code",
   "execution_count": null,
   "metadata": {},
   "outputs": [
    {
     "data": {
      "text/plain": [
       "<Axes: xlabel='updated_salary', ylabel='data_roles'>"
      ]
     },
     "execution_count": 124,
     "metadata": {},
     "output_type": "execute_result"
    },
    {
     "data": {
      "image/png": "[encoded data removed]",
      "text/plain": [
       "<Figure size 640x480 with 1 Axes>"
      ]
     },
     "metadata": {},
     "output_type": "display_data"
    }
   ],
   "source": [
    "sns.boxplot(\n",
    "    df_update.select(F.col(\"data_roles\").cast(\"string\"), \"updated_salary\").toPandas(),\n",
    "    x=\"updated_salary\",\n",
    "    y=\"data_roles\",\n",
    ")"
   ]
  },
  {
   "cell_type": "code",
   "execution_count": 125,
   "metadata": {},
   "outputs": [],
   "source": [
    "df_job_type = df_update.withColumn(\n",
    "    \"job_type\",\n",
    "    F.when(F.col(\"remote_ratio\") == 0, \"Presencial\")\n",
    "    .when(F.col(\"remote_ratio\") == 50, \"Híbrido\")\n",
    "    .when(F.col(\"remote_ratio\") == 100, \"Remoto\"),\n",
    ")"
   ]
  },
  {
   "cell_type": "code",
   "execution_count": 126,
   "metadata": {},
   "outputs": [
    {
     "name": "stdout",
     "output_type": "stream",
     "text": [
      "+-----------+----------------+---------------+-------------------------+------+---------------+-------------+------------------+------------+----------------+------------+---------+---------+----------+----+---------------+--------------+----------+\n",
      "|id         |experience_level|employment_type|job_title                |salary|salary_currency|salary_in_usd|employee_residence|remote_ratio|company_location|company_size|work_year|job_focus|data_roles|year|cumulative_rate|updated_salary|job_type  |\n",
      "+-----------+----------------+---------------+-------------------------+------+---------------+-------------+------------------+------------+----------------+------------+---------+---------+----------+----+---------------+--------------+----------+\n",
      "|17179869184|EN              |FT             |Azure Data Engineer      |100000|USD            |100000       |MU                |0           |MU              |S           |2020     |Engineer |1         |2020|0.1805         |118050.0      |Presencial|\n",
      "|17179869204|EN              |FT             |Machine Learning Engineer|250000|USD            |250000       |US                |50          |US              |L           |2020     |Engineer |1         |2020|0.1805         |295125.0      |Híbrido   |\n",
      "|17179869185|EN              |CT             |Staff Data Analyst       |60000 |CAD            |44753        |CA                |50          |CA              |L           |2020     |Analyst  |1         |2020|0.1805         |52830.92      |Híbrido   |\n",
      "|17179869186|SE              |FT             |Staff Data Scientist     |164000|USD            |164000       |US                |50          |US              |M           |2020     |Scientist|1         |2020|0.1805         |193602.0      |Híbrido   |\n",
      "|17179869187|EN              |FT             |Data Analyst             |42000 |EUR            |47899        |DE                |0           |DE              |L           |2020     |Analyst  |1         |2020|0.1805         |56544.77      |Presencial|\n",
      "|17179869188|EX              |FT             |Data Scientist           |300000|USD            |300000       |US                |100         |US              |L           |2020     |Scientist|1         |2020|0.1805         |354150.0      |Remoto    |\n",
      "|17179869189|MI              |CT             |Sales Data Analyst       |60000 |USD            |60000        |NG                |0           |NG              |M           |2020     |Analyst  |1         |2020|0.1805         |70830.0       |Presencial|\n",
      "|17179869190|EX              |FT             |Staff Data Analyst       |15000 |USD            |15000        |NG                |0           |CA              |M           |2020     |Analyst  |1         |2020|0.1805         |17707.5       |Presencial|\n",
      "|17179869191|MI              |FT             |Business Data Analyst    |95000 |USD            |95000        |US                |0           |US              |M           |2020     |Analyst  |1         |2020|0.1805         |112147.5      |Presencial|\n",
      "|17179869192|EN              |FT             |Data Analyst             |20000 |EUR            |22809        |PT                |100         |PT              |M           |2020     |Analyst  |1         |2020|0.1805         |26926.02      |Remoto    |\n",
      "|17179869193|EN              |FT             |Data Scientist           |43200 |EUR            |49268        |DE                |0           |DE              |S           |2020     |Scientist|1         |2020|0.1805         |58160.87      |Presencial|\n",
      "|17179869194|SE              |FT             |Machine Learning Manager |157000|CAD            |117104       |CA                |50          |CA              |L           |2020     |Manager  |1         |2020|0.1805         |138241.27     |Híbrido   |\n",
      "|17179869195|EN              |FT             |Data Engineer            |48000 |EUR            |54742        |PK                |100         |DE              |L           |2020     |Engineer |1         |2020|0.1805         |64622.93      |Remoto    |\n",
      "|17179869196|MI              |FT             |Product Data Analyst     |20000 |USD            |20000        |HN                |0           |HN              |S           |2020     |Analyst  |1         |2020|0.1805         |23610.0       |Presencial|\n",
      "|17179869197|MI              |FT             |Data Engineer            |51999 |EUR            |59303        |DE                |100         |DE              |S           |2020     |Engineer |1         |2020|0.1805         |70007.19      |Remoto    |\n",
      "|17179869198|EN              |FT             |Big Data Engineer        |70000 |USD            |70000        |US                |100         |US              |L           |2020     |Engineer |1         |2020|0.1805         |82635.0       |Remoto    |\n",
      "|17179869199|SE              |FT             |Data Scientist           |60000 |EUR            |68428        |GR                |100         |US              |L           |2020     |Scientist|1         |2020|0.1805         |80779.25      |Remoto    |\n",
      "|17179869200|MI              |FT             |Research Scientist       |450000|USD            |450000       |US                |0           |US              |M           |2020     |Scientist|0         |2020|0.1805         |531225.0      |Presencial|\n",
      "|17179869201|MI              |FT             |Data Analyst             |41000 |EUR            |46759        |FR                |50          |FR              |L           |2020     |Analyst  |1         |2020|0.1805         |55199.0       |Híbrido   |\n",
      "|17179869202|MI              |FT             |Data Engineer            |65000 |EUR            |74130        |AT                |50          |AT              |L           |2020     |Engineer |1         |2020|0.1805         |87510.47      |Híbrido   |\n",
      "+-----------+----------------+---------------+-------------------------+------+---------------+-------------+------------------+------------+----------------+------------+---------+---------+----------+----+---------------+--------------+----------+\n",
      "only showing top 20 rows\n",
      "\n"
     ]
    }
   ],
   "source": [
    "df_job_type.show(truncate=False)"
   ]
  },
  {
   "cell_type": "code",
   "execution_count": null,
   "metadata": {},
   "outputs": [
    {
     "data": {
      "text/plain": [
       "<Axes: xlabel='updated_salary', ylabel='job_type'>"
      ]
     },
     "execution_count": 128,
     "metadata": {},
     "output_type": "execute_result"
    },
    {
     "data": {
      "image/png": "[encoded data removed]",
      "text/plain": [
       "<Figure size 640x480 with 1 Axes>"
      ]
     },
     "metadata": {},
     "output_type": "display_data"
    }
   ],
   "source": [
    "sns.boxplot(\n",
    "    df_job_type.select(\"job_type\", \"updated_salary\").toPandas(),\n",
    "    x=\"updated_salary\",\n",
    "    y=\"job_type\",\n",
    ")"
   ]
  },
  {
   "cell_type": "code",
   "execution_count": null,
   "metadata": {},
   "outputs": [
    {
     "data": {
      "text/plain": [
       "<Axes: xlabel='updated_salary', ylabel='experience_level'>"
      ]
     },
     "execution_count": 130,
     "metadata": {},
     "output_type": "execute_result"
    },
    {
     "data": {
      "image/png": "[encoded data removed]",
      "text/plain": [
       "<Figure size 640x480 with 1 Axes>"
      ]
     },
     "metadata": {},
     "output_type": "display_data"
    }
   ],
   "source": [
    "sns.boxplot(\n",
    "    df_job_type.select(\"experience_level\", \"updated_salary\").toPandas(),\n",
    "    x=\"updated_salary\",\n",
    "    y=\"experience_level\",\n",
    "    order=[\"EN\", \"MI\", \"SE\", \"EX\"],\n",
    ")"
   ]
  },
  {
   "cell_type": "code",
   "execution_count": 78,
   "metadata": {},
   "outputs": [],
   "source": [
    "def evaluate_response_variable(df, column):\n",
    "    return df.groupBy(column).agg(\n",
    "        F.count(\"*\").alias(\"count\"),\n",
    "        F.mean(\"updated_salary\").alias(\"mean_updated_salary\"),\n",
    "        F.median(\"updated_salary\").alias(\"median_updated_salary\"),\n",
    "    )"
   ]
  },
  {
   "cell_type": "code",
   "execution_count": 79,
   "metadata": {},
   "outputs": [
    {
     "name": "stdout",
     "output_type": "stream",
     "text": [
      "+---+-----+-------------------+---------------------+\n",
      "|id |count|mean_updated_salary|median_updated_salary|\n",
      "+---+-----+-------------------+---------------------+\n",
      "|0  |1    |117400.0           |117400.0             |\n",
      "|1  |1    |62620.0            |62620.0              |\n",
      "|2  |1    |131200.0           |131200.0             |\n",
      "|3  |1    |95300.0            |95300.0              |\n",
      "|4  |1    |68800.0            |68800.0              |\n",
      "|5  |1    |48000.0            |48000.0              |\n",
      "|6  |1    |264200.0           |264200.0             |\n",
      "|7  |1    |143100.0           |143100.0             |\n",
      "|8  |1    |208000.0           |208000.0             |\n",
      "|9  |1    |141340.0           |141340.0             |\n",
      "|10 |1    |200000.0           |200000.0             |\n",
      "|11 |1    |136000.0           |136000.0             |\n",
      "|12 |1    |329600.0           |329600.0             |\n",
      "|13 |1    |190700.0           |190700.0             |\n",
      "|14 |1    |360200.0           |360200.0             |\n",
      "|15 |1    |208300.0           |208300.0             |\n",
      "|16 |1    |264200.0           |264200.0             |\n",
      "|17 |1    |143100.0           |143100.0             |\n",
      "|18 |1    |312200.0           |312200.0             |\n",
      "|19 |1    |175800.0           |175800.0             |\n",
      "+---+-----+-------------------+---------------------+\n",
      "only showing top 20 rows\n",
      "\n",
      "+----------------+-----+-------------------+---------------------+\n",
      "|experience_level|count|mean_updated_salary|median_updated_salary|\n",
      "+----------------+-----+-------------------+---------------------+\n",
      "|EN              |5962 |103807.70805769876 |90300.0              |\n",
      "|EX              |1368 |203245.1771856725  |200000.0             |\n",
      "|MI              |19381|144201.95244879005 |133750.0             |\n",
      "|SE              |38223|175293.14983439283 |165000.0             |\n",
      "+----------------+-----+-------------------+---------------------+\n",
      "\n",
      "+---------------+-----+-------------------+---------------------+\n",
      "|employment_type|count|mean_updated_salary|median_updated_salary|\n",
      "+---------------+-----+-------------------+---------------------+\n",
      "|CT             |120  |109309.44325       |104000.0             |\n",
      "|FL             |16   |55177.57124999999  |52638.675            |\n",
      "|FT             |64653|160341.3094164231  |150000.0             |\n",
      "|PT             |145  |78637.32641379311  |60701.96             |\n",
      "+---------------+-----+-------------------+---------------------+\n",
      "\n",
      "+--------------------------------+-----+-------------------+---------------------+\n",
      "|job_title                       |count|mean_updated_salary|median_updated_salary|\n",
      "+--------------------------------+-----+-------------------+---------------------+\n",
      "|AI Architect                    |127  |220413.08787401573 |199800.0             |\n",
      "|AI Data Scientist               |5    |51275.8            |58333.0              |\n",
      "|AI Developer                    |81   |163619.655308642   |155000.0             |\n",
      "|AI Engineer                     |547  |164318.49305301646 |151000.0             |\n",
      "|AI Engineering Manager          |1    |91111.0            |91111.0              |\n",
      "|AI Lead                         |11   |144273.45454545456 |149200.0             |\n",
      "|AI Machine Learning Engineer    |1    |120000.0           |120000.0             |\n",
      "|AI Product Manager              |27   |195355.33333333334 |197000.0             |\n",
      "|AI Product Owner                |10   |108333.3           |110000.0             |\n",
      "|AI Programmer                   |9    |102163.99          |72884.0              |\n",
      "|AI Research Engineer            |8    |78587.4675         |52375.065            |\n",
      "|AI Research Scientist           |6    |91984.33333333333  |77777.0              |\n",
      "|AI Researcher                   |36   |175597.19444444444 |159250.0             |\n",
      "|AI Scientist                    |58   |172305.93155172412 |160000.0             |\n",
      "|AI Software Development Engineer|1    |25210.0            |25210.0              |\n",
      "|AI Software Engineer            |11   |158179.36363636365 |143896.0             |\n",
      "|AI Solution Architect           |10   |189079.8           |195523.0             |\n",
      "|AI Specialist                   |48   |153402.4375        |145300.0             |\n",
      "|AWS Data Architect              |1    |268629.6           |268629.6             |\n",
      "|Actuarial Analyst               |6    |91333.33333333333  |92500.0              |\n",
      "+--------------------------------+-----+-------------------+---------------------+\n",
      "only showing top 20 rows\n",
      "\n",
      "+------+-----+-------------------+---------------------+\n",
      "|salary|count|mean_updated_salary|median_updated_salary|\n",
      "+------+-----+-------------------+---------------------+\n",
      "|14000 |1    |18847.86           |18847.86             |\n",
      "|14400 |3    |16320.876666666669 |16000.0              |\n",
      "|15000 |5    |17106.5            |16818.0              |\n",
      "|15600 |3    |17333.0            |17333.0              |\n",
      "|15662 |1    |18449.35           |18449.35             |\n",
      "|16000 |5    |16131.84           |16000.0              |\n",
      "|16680 |2    |18533.0            |18533.0              |\n",
      "|17000 |1    |17700.4            |17700.4              |\n",
      "|17400 |2    |19333.0            |19333.0              |\n",
      "|17598 |1    |17598.0            |17598.0              |\n",
      "|17600 |1    |17600.0            |17600.0              |\n",
      "|18000 |8    |19343.184999999998 |19370.8              |\n",
      "|19000 |1    |25580.25           |25580.25             |\n",
      "|19200 |5    |21333.0            |21333.0              |\n",
      "|20000 |17   |22501.00352941177  |22424.0              |\n",
      "|20929 |1    |26161.0            |26161.0              |\n",
      "|21000 |5    |24838.931999999997 |23333.0              |\n",
      "|21099 |4    |21099.0            |21099.0              |\n",
      "|21204 |1    |23560.0            |23560.0              |\n",
      "|21500 |1    |23888.0            |23888.0              |\n",
      "+------+-----+-------------------+---------------------+\n",
      "only showing top 20 rows\n",
      "\n",
      "+---------------+-----+-------------------+---------------------+\n",
      "|salary_currency|count|mean_updated_salary|median_updated_salary|\n",
      "+---------------+-----+-------------------+---------------------+\n",
      "|AUD            |16   |81414.53875        |77854.0              |\n",
      "|BRL            |15   |49095.74933333333  |44122.0              |\n",
      "|CAD            |189  |106692.06084656085 |92307.0              |\n",
      "|CHF            |29   |125964.3324137931  |127690.69            |\n",
      "|CLP            |1    |46772.39           |46772.39             |\n",
      "|CZK            |1    |61333.0            |61333.0              |\n",
      "|DKK            |4    |56882.335          |43800.630000000005   |\n",
      "|EUR            |1018 |70646.2194204322   |62400.0              |\n",
      "|GBP            |1773 |85821.83227298364  |68750.0              |\n",
      "|HKD            |1    |67738.39           |67738.39             |\n",
      "|HUF            |5    |27041.645999999997 |19827.3              |\n",
      "|ILS            |3    |223994.89          |120072.67            |\n",
      "|INR            |69   |38381.74347826087  |34222.39             |\n",
      "|JPY            |6    |64286.486666666664 |61820.525            |\n",
      "|MXN            |3    |81015.91333333333  |93023.0              |\n",
      "|NOK            |2    |92106.63500000001  |92106.63500000001    |\n",
      "|NZD            |1    |125000.0           |125000.0             |\n",
      "|PHP            |7    |22650.43142857143  |20503.0              |\n",
      "|PLN            |21   |63633.298571428575 |59070.0              |\n",
      "|SEK            |1    |91262.0            |91262.0              |\n",
      "+---------------+-----+-------------------+---------------------+\n",
      "only showing top 20 rows\n",
      "\n",
      "+-------------+-----+-------------------+---------------------+\n",
      "|salary_in_usd|count|mean_updated_salary|median_updated_salary|\n",
      "+-------------+-----+-------------------+---------------------+\n",
      "|15000        |4    |17216.625          |17170.5              |\n",
      "|15107        |1    |15107.0            |15107.0              |\n",
      "|15129        |1    |16962.63           |16962.63             |\n",
      "|15419        |2    |15419.0            |15419.0              |\n",
      "|15680        |1    |16326.02           |16326.02             |\n",
      "|15809        |1    |16460.33           |16460.33             |\n",
      "|15897        |1    |17823.72           |17823.72             |\n",
      "|15966        |1    |18847.86           |18847.86             |\n",
      "|16000        |7    |16094.171428571428 |16000.0              |\n",
      "|16228        |1    |18957.55           |18957.55             |\n",
      "|16417        |1    |17093.38           |17093.38             |\n",
      "|16455        |1    |18449.35           |18449.35             |\n",
      "|16666        |1    |16666.0            |16666.0              |\n",
      "|16904        |2    |19747.25           |19747.25             |\n",
      "|17000        |1    |17700.4            |17700.4              |\n",
      "|17025        |2    |17726.43           |17726.43             |\n",
      "|17266        |1    |17266.0            |17266.0              |\n",
      "|17333        |3    |17333.0            |17333.0              |\n",
      "|17511        |1    |18232.45           |18232.45             |\n",
      "|17598        |1    |17598.0            |17598.0              |\n",
      "+-------------+-----+-------------------+---------------------+\n",
      "only showing top 20 rows\n",
      "\n",
      "+------------------+-----+-------------------+---------------------+\n",
      "|employee_residence|count|mean_updated_salary|median_updated_salary|\n",
      "+------------------+-----+-------------------+---------------------+\n",
      "|AD                |1    |52835.69           |52835.69             |\n",
      "|AE                |5    |94635.9            |90000.0              |\n",
      "|AM                |8    |51828.3            |49130.0              |\n",
      "|AR                |45   |66830.39111111111  |62472.0              |\n",
      "|AS                |1    |53217.35           |53217.35             |\n",
      "|AT                |75   |67129.07653333334  |62222.0              |\n",
      "|AU                |190  |131461.8405263158  |117100.0             |\n",
      "|BA                |2    |77472.0            |77472.0              |\n",
      "|BE                |17   |132334.7817647059  |122200.0             |\n",
      "|BG                |4    |88363.75           |91172.0              |\n",
      "|BM                |1    |100000.0           |100000.0             |\n",
      "|BO                |2    |84090.0            |84090.0              |\n",
      "|BR                |57   |67202.0954385965   |62000.0              |\n",
      "|CA                |2143 |137365.18864675687 |125000.0             |\n",
      "|CF                |2    |51243.7            |51243.7              |\n",
      "|CH                |33   |126857.50424242424 |133333.0             |\n",
      "|CL                |14   |67273.31357142857  |57600.0              |\n",
      "|CN                |1    |140602.96          |140602.96            |\n",
      "|CO                |32   |68072.8425         |62472.0              |\n",
      "|CR                |3    |35474.666666666664 |36000.0              |\n",
      "+------------------+-----+-------------------+---------------------+\n",
      "only showing top 20 rows\n",
      "\n",
      "+------------+-----+-------------------+---------------------+\n",
      "|remote_ratio|count|mean_updated_salary|median_updated_salary|\n",
      "+------------+-----+-------------------+---------------------+\n",
      "|0           |50581|162798.80741978204 |150000.0             |\n",
      "|50          |277  |89480.43144404335  |74214.47             |\n",
      "|100         |14076|151508.70323600454 |147000.0             |\n",
      "+------------+-----+-------------------+---------------------+\n",
      "\n",
      "+----------------+-----+-------------------+---------------------+\n",
      "|company_location|count|mean_updated_salary|median_updated_salary|\n",
      "+----------------+-----+-------------------+---------------------+\n",
      "|AD              |1    |52835.69           |52835.69             |\n",
      "|AE              |5    |94635.9            |90000.0              |\n",
      "|AM              |7    |56703.71428571428  |52060.0              |\n",
      "|AR              |41   |68111.46341463414  |62472.0              |\n",
      "|AS              |4    |42855.3775         |41530.0              |\n",
      "|AT              |75   |67247.1128         |62222.0              |\n",
      "|AU              |194  |130406.48113402062 |116629.5             |\n",
      "|BA              |2    |77472.0            |77472.0              |\n",
      "|BE              |15   |131253.24866666665 |122200.0             |\n",
      "|BG              |3    |86666.33333333333  |88888.0              |\n",
      "|BR              |55   |64208.862545454554 |60544.8              |\n",
      "|BS              |1    |53217.35           |53217.35             |\n",
      "|CA              |2145 |137298.0078041958  |125000.0             |\n",
      "|CF              |2    |51243.7            |51243.7              |\n",
      "|CH              |34   |123871.22676470588 |131439.0             |\n",
      "|CL              |13   |63392.337692307694 |55200.0              |\n",
      "|CN              |1    |116820.0           |116820.0             |\n",
      "|CO              |32   |68072.8425         |62472.0              |\n",
      "|CR              |2    |42000.0            |42000.0              |\n",
      "|CY              |8    |49721.875          |46666.5              |\n",
      "+----------------+-----+-------------------+---------------------+\n",
      "only showing top 20 rows\n",
      "\n",
      "+------------+-----+-------------------+---------------------+\n",
      "|company_size|count|mean_updated_salary|median_updated_salary|\n",
      "+------------+-----+-------------------+---------------------+\n",
      "|L           |2167 |157555.86437009697 |141603.2             |\n",
      "|M           |62563|160333.3105276281  |150000.0             |\n",
      "|S           |204  |96042.15553921567  |78718.565            |\n",
      "+------------+-----+-------------------+---------------------+\n",
      "\n",
      "+---------+-----+-------------------+---------------------+\n",
      "|work_year|count|mean_updated_salary|median_updated_salary|\n",
      "+---------+-----+-------------------+---------------------+\n",
      "|2020     |75   |120707.14813333338 |94242.86             |\n",
      "|2021     |218  |116728.96591743124 |97979.26999999999    |\n",
      "|2022     |1659 |150446.99273056092 |147213.56            |\n",
      "|2023     |8522 |160033.22655949293 |150974.0             |\n",
      "|2024     |54460|160559.20668380463 |150000.0             |\n",
      "+---------+-----+-------------------+---------------------+\n",
      "\n",
      "+---------------------+-----+-------------------+---------------------+\n",
      "|job_focus            |count|mean_updated_salary|median_updated_salary|\n",
      "+---------------------+-----+-------------------+---------------------+\n",
      "|Analyst              |9337 |110244.16333190535 |102800.0             |\n",
      "|Architect            |1859 |172031.79803119955 |160000.0             |\n",
      "|Business Intelligence|882  |122628.80044217689 |112000.0             |\n",
      "|Developer            |692  |130200.46786127167 |117777.8             |\n",
      "|Engineer             |30172|175327.9860579344  |166000.0             |\n",
      "|Manager              |3647 |162947.82114614753 |150000.0             |\n",
      "|Other                |2680 |131383.3101716418  |117200.0             |\n",
      "|Scientist            |15665|166496.0678404084  |160000.0             |\n",
      "+---------------------+-----+-------------------+---------------------+\n",
      "\n",
      "+----------+-----+-------------------+---------------------+\n",
      "|data_roles|count|mean_updated_salary|median_updated_salary|\n",
      "+----------+-----+-------------------+---------------------+\n",
      "|0         |23921|175323.9052171732  |164000.0             |\n",
      "|1         |41013|151123.44689878813 |142375.0             |\n",
      "+----------+-----+-------------------+---------------------+\n",
      "\n",
      "+----+-----+-------------------+---------------------+\n",
      "|year|count|mean_updated_salary|median_updated_salary|\n",
      "+----+-----+-------------------+---------------------+\n",
      "|2020|75   |120707.14813333338 |94242.86             |\n",
      "|2021|218  |116728.96591743124 |97979.26999999999    |\n",
      "|2022|1659 |150446.99273056092 |147213.56            |\n",
      "|2023|8522 |160033.22655949293 |150974.0             |\n",
      "|2024|54460|160559.20668380463 |150000.0             |\n",
      "+----+-----+-------------------+---------------------+\n",
      "\n",
      "+-------------------+-----+-------------------+---------------------+\n",
      "|cumulative_rate    |count|mean_updated_salary|median_updated_salary|\n",
      "+-------------------+-----+-------------------+---------------------+\n",
      "|0.0                |54460|160559.20668380463 |150000.0             |\n",
      "|0.0412             |8522 |160033.22655949293 |150974.0             |\n",
      "|0.1212             |1659 |150446.99273056092 |147213.56            |\n",
      "|0.16820000000000002|218  |116728.96591743124 |97979.26999999999    |\n",
      "|0.1805             |75   |120707.14813333338 |94242.86             |\n",
      "+-------------------+-----+-------------------+---------------------+\n",
      "\n",
      "+--------------+-----+-------------------+---------------------+\n",
      "|updated_salary|count|mean_updated_salary|median_updated_salary|\n",
      "+--------------+-----+-------------------+---------------------+\n",
      "|15107.0       |1    |15107.0            |15107.0              |\n",
      "|15419.0       |2    |15419.0            |15419.0              |\n",
      "|16000.0       |6    |16000.0            |16000.0              |\n",
      "|16326.02      |1    |16326.02           |16326.02             |\n",
      "|16460.33      |1    |16460.33           |16460.33             |\n",
      "|16659.2       |1    |16659.2            |16659.2              |\n",
      "|16666.0       |1    |16666.0            |16666.0              |\n",
      "|16818.0       |2    |16818.0            |16818.0              |\n",
      "|16962.63      |1    |16962.63           |16962.63             |\n",
      "|17093.38      |1    |17093.38           |17093.38             |\n",
      "|17266.0       |1    |17266.0            |17266.0              |\n",
      "|17333.0       |3    |17333.0            |17333.0              |\n",
      "|17523.0       |1    |17523.0            |17523.0              |\n",
      "|17598.0       |1    |17598.0            |17598.0              |\n",
      "|17600.0       |1    |17600.0            |17600.0              |\n",
      "|17700.4       |1    |17700.4            |17700.4              |\n",
      "|17707.5       |1    |17707.5            |17707.5              |\n",
      "|17726.43      |2    |17726.43           |17726.43             |\n",
      "|17823.72      |1    |17823.72           |17823.72             |\n",
      "|18000.0       |2    |18000.0            |18000.0              |\n",
      "+--------------+-----+-------------------+---------------------+\n",
      "only showing top 20 rows\n",
      "\n",
      "+----------+-----+-------------------+---------------------+\n",
      "|job_type  |count|mean_updated_salary|median_updated_salary|\n",
      "+----------+-----+-------------------+---------------------+\n",
      "|Híbrido   |277  |89480.43144404335  |74214.47             |\n",
      "|Presencial|50581|162798.80741978204 |150000.0             |\n",
      "|Remoto    |14076|151508.70323600454 |147000.0             |\n",
      "+----------+-----+-------------------+---------------------+\n",
      "\n"
     ]
    }
   ],
   "source": [
    "for column in df_job_type.columns:\n",
    "    evaluate_response_variable(df_job_type, column).sort(column).show(truncate=False)"
   ]
  },
  {
   "cell_type": "code",
   "execution_count": null,
   "metadata": {},
   "outputs": [
    {
     "name": "stdout",
     "output_type": "stream",
     "text": [
      "+---+-----+-------------------+---------------------+\n",
      "|id |count|mean_updated_salary|median_updated_salary|\n",
      "+---+-----+-------------------+---------------------+\n",
      "|0  |1    |117400.0           |117400.0             |\n",
      "|1  |1    |62620.0            |62620.0              |\n",
      "|2  |1    |131200.0           |131200.0             |\n",
      "|3  |1    |95300.0            |95300.0              |\n",
      "|6  |1    |264200.0           |264200.0             |\n",
      "|7  |1    |143100.0           |143100.0             |\n",
      "|20 |1    |312200.0           |312200.0             |\n",
      "|21 |1    |175800.0           |175800.0             |\n",
      "|28 |1    |162000.0           |162000.0             |\n",
      "|29 |1    |107000.0           |107000.0             |\n",
      "|30 |1    |128000.0           |128000.0             |\n",
      "|31 |1    |94000.0            |94000.0              |\n",
      "|32 |1    |188100.0           |188100.0             |\n",
      "|33 |1    |112900.0           |112900.0             |\n",
      "|34 |1    |50000.0            |50000.0              |\n",
      "|35 |1    |38000.0            |38000.0              |\n",
      "|38 |1    |112500.0           |112500.0             |\n",
      "|39 |1    |93750.0            |93750.0              |\n",
      "|40 |1    |112500.0           |112500.0             |\n",
      "|41 |1    |93750.0            |93750.0              |\n",
      "+---+-----+-------------------+---------------------+\n",
      "only showing top 20 rows\n",
      "\n",
      "+----------------+-----+-------------------+---------------------+\n",
      "|experience_level|count|mean_updated_salary|median_updated_salary|\n",
      "+----------------+-----+-------------------+---------------------+\n",
      "|EN              |4185 |97317.79729271207  |86800.0              |\n",
      "|EX              |1025 |201982.8274829268  |200000.0             |\n",
      "|MI              |11459|131618.44721005321 |121000.0             |\n",
      "|SE              |24344|167413.02831252033 |160000.0             |\n",
      "+----------------+-----+-------------------+---------------------+\n",
      "\n",
      "+---------------+-----+-------------------+---------------------+\n",
      "|employment_type|count|mean_updated_salary|median_updated_salary|\n",
      "+---------------+-----+-------------------+---------------------+\n",
      "|CT             |92   |113269.3172826087  |109440.345           |\n",
      "|FL             |13   |53650.83           |52060.0              |\n",
      "|FT             |40811|151396.4672872509  |142996.0             |\n",
      "|PT             |97   |85221.27030927835  |65419.2              |\n",
      "+---------------+-----+-------------------+---------------------+\n",
      "\n",
      "+--------------------------------+-----+-------------------+---------------------+\n",
      "|job_title                       |count|mean_updated_salary|median_updated_salary|\n",
      "+--------------------------------+-----+-------------------+---------------------+\n",
      "|AI Architect                    |127  |220413.08787401573 |199800.0             |\n",
      "|AI Data Scientist               |5    |51275.8            |58333.0              |\n",
      "|AI Developer                    |81   |163619.655308642   |155000.0             |\n",
      "|AI Engineer                     |547  |164318.49305301646 |151000.0             |\n",
      "|AI Engineering Manager          |1    |91111.0            |91111.0              |\n",
      "|AI Lead                         |11   |144273.45454545456 |149200.0             |\n",
      "|AI Machine Learning Engineer    |1    |120000.0           |120000.0             |\n",
      "|AI Product Manager              |27   |195355.33333333334 |197000.0             |\n",
      "|AI Product Owner                |10   |108333.3           |110000.0             |\n",
      "|AI Programmer                   |9    |102163.99          |72884.0              |\n",
      "|AI Research Engineer            |8    |78587.4675         |52375.065            |\n",
      "|AI Research Scientist           |6    |91984.33333333333  |77777.0              |\n",
      "|AI Researcher                   |36   |175597.19444444444 |159250.0             |\n",
      "|AI Scientist                    |58   |172305.93155172412 |160000.0             |\n",
      "|AI Software Development Engineer|1    |25210.0            |25210.0              |\n",
      "|AI Software Engineer            |11   |158179.36363636365 |143896.0             |\n",
      "|AI Solution Architect           |10   |189079.8           |195523.0             |\n",
      "|AI Specialist                   |48   |153402.4375        |145300.0             |\n",
      "|AWS Data Architect              |1    |268629.6           |268629.6             |\n",
      "|Admin & Data Analyst            |5    |71310.8            |67272.0              |\n",
      "+--------------------------------+-----+-------------------+---------------------+\n",
      "only showing top 20 rows\n",
      "\n",
      "+------+-----+-------------------+---------------------+\n",
      "|salary|count|mean_updated_salary|median_updated_salary|\n",
      "+------+-----+-------------------+---------------------+\n",
      "|14000 |1    |18847.86           |18847.86             |\n",
      "|14400 |2    |16000.0            |16000.0              |\n",
      "|15000 |5    |17106.5            |16818.0              |\n",
      "|15600 |1    |17333.0            |17333.0              |\n",
      "|16000 |5    |16131.84           |16000.0              |\n",
      "|16680 |2    |18533.0            |18533.0              |\n",
      "|17000 |1    |17700.4            |17700.4              |\n",
      "|17400 |2    |19333.0            |19333.0              |\n",
      "|17598 |1    |17598.0            |17598.0              |\n",
      "|17600 |1    |17600.0            |17600.0              |\n",
      "|18000 |7    |19535.06857142857  |20000.0              |\n",
      "|19000 |1    |25580.25           |25580.25             |\n",
      "|19200 |2    |21333.0            |21333.0              |\n",
      "|20000 |16   |22605.81625        |22453.315000000002   |\n",
      "|20929 |1    |26161.0            |26161.0              |\n",
      "|21000 |4    |25798.665          |26165.614999999998   |\n",
      "|21099 |4    |21099.0            |21099.0              |\n",
      "|21204 |1    |23560.0            |23560.0              |\n",
      "|21500 |1    |23888.0            |23888.0              |\n",
      "|21600 |5    |23245.296          |21600.0              |\n",
      "+------+-----+-------------------+---------------------+\n",
      "only showing top 20 rows\n",
      "\n",
      "+---------------+-----+-------------------+---------------------+\n",
      "|salary_currency|count|mean_updated_salary|median_updated_salary|\n",
      "+---------------+-----+-------------------+---------------------+\n",
      "|AUD            |16   |81414.53875        |77854.0              |\n",
      "|BRL            |8    |35100.135          |28817.62             |\n",
      "|CAD            |114  |102666.83078947368 |92307.0              |\n",
      "|CHF            |9    |139400.96000000002 |127690.69            |\n",
      "|CLP            |1    |46772.39           |46772.39             |\n",
      "|DKK            |2    |85913.615          |85913.615            |\n",
      "|EUR            |816  |70328.0558578431   |62222.0              |\n",
      "|GBP            |1409 |79378.59236337827  |68750.0              |\n",
      "|HKD            |1    |67738.39           |67738.39             |\n",
      "|HUF            |5    |27041.645999999997 |19827.3              |\n",
      "|ILS            |2    |277614.335         |277614.335           |\n",
      "|INR            |64   |38811.368437499994 |34488.755000000005   |\n",
      "|JPY            |3    |71339.22333333333  |74427.19             |\n",
      "|MXN            |3    |81015.91333333333  |93023.0              |\n",
      "|NOK            |2    |92106.63500000001  |92106.63500000001    |\n",
      "|NZD            |1    |125000.0           |125000.0             |\n",
      "|PHP            |3    |16233.006666666668 |16326.02             |\n",
      "|PLN            |15   |58308.618          |54434.62             |\n",
      "|SEK            |1    |91262.0            |91262.0              |\n",
      "|SGD            |6    |91789.13833333332  |78101.265            |\n",
      "+---------------+-----+-------------------+---------------------+\n",
      "only showing top 20 rows\n",
      "\n",
      "+-------------+-----+-------------------+---------------------+\n",
      "|salary_in_usd|count|mean_updated_salary|median_updated_salary|\n",
      "+-------------+-----+-------------------+---------------------+\n",
      "|15000        |4    |17216.625          |17170.5              |\n",
      "|15107        |1    |15107.0            |15107.0              |\n",
      "|15419        |2    |15419.0            |15419.0              |\n",
      "|15680        |1    |16326.02           |16326.02             |\n",
      "|15809        |1    |16460.33           |16460.33             |\n",
      "|15966        |1    |18847.86           |18847.86             |\n",
      "|16000        |7    |16094.171428571428 |16000.0              |\n",
      "|16228        |1    |18957.55           |18957.55             |\n",
      "|16417        |1    |17093.38           |17093.38             |\n",
      "|16666        |1    |16666.0            |16666.0              |\n",
      "|16904        |2    |19747.25           |19747.25             |\n",
      "|17000        |1    |17700.4            |17700.4              |\n",
      "|17025        |2    |17726.43           |17726.43             |\n",
      "|17266        |1    |17266.0            |17266.0              |\n",
      "|17333        |1    |17333.0            |17333.0              |\n",
      "|17511        |1    |18232.45           |18232.45             |\n",
      "|17598        |1    |17598.0            |17598.0              |\n",
      "|17600        |1    |17600.0            |17600.0              |\n",
      "|17684        |1    |19827.3            |19827.3              |\n",
      "|17805        |2    |19962.97           |19962.97             |\n",
      "+-------------+-----+-------------------+---------------------+\n",
      "only showing top 20 rows\n",
      "\n",
      "+------------------+-----+-------------------+---------------------+\n",
      "|employee_residence|count|mean_updated_salary|median_updated_salary|\n",
      "+------------------+-----+-------------------+---------------------+\n",
      "|AD                |1    |52835.69           |52835.69             |\n",
      "|AE                |5    |94635.9            |90000.0              |\n",
      "|AM                |6    |50404.4            |39363.0              |\n",
      "|AR                |37   |64712.63783783784  |63000.0              |\n",
      "|AT                |48   |63656.055625       |62222.0              |\n",
      "|AU                |135  |126317.65703703703 |112114.0             |\n",
      "|BA                |2    |77472.0            |77472.0              |\n",
      "|BE                |13   |121583.94538461539 |103565.6             |\n",
      "|BG                |4    |88363.75           |91172.0              |\n",
      "|BM                |1    |100000.0           |100000.0             |\n",
      "|BO                |2    |84090.0            |84090.0              |\n",
      "|BR                |43   |66671.0111627907   |60000.0              |\n",
      "|CA                |1329 |137125.85453724605 |124300.0             |\n",
      "|CF                |2    |51243.7            |51243.7              |\n",
      "|CH                |13   |137533.8953846154  |133333.0             |\n",
      "|CL                |10   |73782.639          |60670.0              |\n",
      "|CN                |1    |140602.96          |140602.96            |\n",
      "|CO                |26   |71389.65230769232  |65075.0              |\n",
      "|CR                |1    |22424.0            |22424.0              |\n",
      "|CY                |7    |48839.92571428571  |40000.0              |\n",
      "+------------------+-----+-------------------+---------------------+\n",
      "only showing top 20 rows\n",
      "\n",
      "+------------+-----+-------------------+---------------------+\n",
      "|remote_ratio|count|mean_updated_salary|median_updated_salary|\n",
      "+------------+-----+-------------------+---------------------+\n",
      "|0           |30272|153110.50330635553 |143100.0             |\n",
      "|50          |253  |89096.33355731229  |74214.47             |\n",
      "|100         |10488|146884.38207284515 |141603.2             |\n",
      "+------------+-----+-------------------+---------------------+\n",
      "\n",
      "+----------------+-----+-------------------+---------------------+\n",
      "|company_location|count|mean_updated_salary|median_updated_salary|\n",
      "+----------------+-----+-------------------+---------------------+\n",
      "|AD              |1    |52835.69           |52835.69             |\n",
      "|AE              |5    |94635.9            |90000.0              |\n",
      "|AM              |5    |56945.2            |52060.0              |\n",
      "|AR              |33   |66047.57575757576  |63000.0              |\n",
      "|AS              |3    |34716.503333333334 |27000.0              |\n",
      "|AT              |48   |63840.48729166667  |62222.0              |\n",
      "|AU              |139  |124992.7434532374  |112114.0             |\n",
      "|BA              |2    |77472.0            |77472.0              |\n",
      "|BE              |11   |118154.43          |103565.6             |\n",
      "|BG              |3    |86666.33333333333  |88888.0              |\n",
      "|BR              |41   |62629.79219512196  |59999.0              |\n",
      "|CA              |1330 |137078.70677443608 |124300.0             |\n",
      "|CF              |2    |51243.7            |51243.7              |\n",
      "|CH              |14   |129518.90785714285 |131439.0             |\n",
      "|CL              |9    |68900.04333333333  |60000.0              |\n",
      "|CO              |26   |71389.65230769232  |65075.0              |\n",
      "|CY              |6    |45925.666666666664 |40000.0              |\n",
      "|CZ              |2    |73289.06           |73289.06             |\n",
      "|DE              |172  |111370.53174418605 |93541.5              |\n",
      "|DK              |4    |85710.7025         |85507.79000000001    |\n",
      "+----------------+-----+-------------------+---------------------+\n",
      "only showing top 20 rows\n",
      "\n",
      "+------------+-----+-------------------+---------------------+\n",
      "|company_size|count|mean_updated_salary|median_updated_salary|\n",
      "+------------+-----+-------------------+---------------------+\n",
      "|L           |1149 |138601.7428633594  |125500.0             |\n",
      "|M           |39681|151742.60097527775 |143100.0             |\n",
      "|S           |183  |95488.39240437158  |77126.9              |\n",
      "+------------+-----+-------------------+---------------------+\n",
      "\n",
      "+---------+-----+-------------------+---------------------+\n",
      "|work_year|count|mean_updated_salary|median_updated_salary|\n",
      "+---------+-----+-------------------+---------------------+\n",
      "|2020     |72   |116686.11263888891 |97292.68             |\n",
      "|2021     |201  |120022.87870646772 |103565.6             |\n",
      "|2022     |1612 |149860.42809553383 |146316.6             |\n",
      "|2023     |7697 |157200.52680784676 |148891.6             |\n",
      "|2024     |31431|149977.80738761096 |140000.0             |\n",
      "+---------+-----+-------------------+---------------------+\n",
      "\n",
      "+---------------------+-----+-------------------+---------------------+\n",
      "|job_focus            |count|mean_updated_salary|median_updated_salary|\n",
      "+---------------------+-----+-------------------+---------------------+\n",
      "|Analyst              |7904 |109938.6856338563  |102092.0             |\n",
      "|Architect            |1445 |166920.26888581313 |156170.0             |\n",
      "|Business Intelligence|882  |122628.80044217689 |112000.0             |\n",
      "|Developer            |244  |136663.87606557377 |120000.0             |\n",
      "|Engineer             |16950|167279.96794277272 |158000.0             |\n",
      "|Manager              |785  |120933.12575796174 |113368.0             |\n",
      "|Other                |1229 |128253.91855980469 |106514.0             |\n",
      "|Scientist            |11574|160568.01052877132 |156180.0             |\n",
      "+---------------------+-----+-------------------+---------------------+\n",
      "\n",
      "+----------+-----+-------------------+---------------------+\n",
      "|data_roles|count|mean_updated_salary|median_updated_salary|\n",
      "+----------+-----+-------------------+---------------------+\n",
      "|1         |41013|151123.44689878813 |142375.0             |\n",
      "+----------+-----+-------------------+---------------------+\n",
      "\n",
      "+----+-----+-------------------+---------------------+\n",
      "|year|count|mean_updated_salary|median_updated_salary|\n",
      "+----+-----+-------------------+---------------------+\n",
      "|2020|72   |116686.11263888891 |97292.68             |\n",
      "|2021|201  |120022.87870646772 |103565.6             |\n",
      "|2022|1612 |149860.42809553383 |146316.6             |\n",
      "|2023|7697 |157200.52680784676 |148891.6             |\n",
      "|2024|31431|149977.80738761096 |140000.0             |\n",
      "+----+-----+-------------------+---------------------+\n",
      "\n",
      "+-------------------+-----+-------------------+---------------------+\n",
      "|cumulative_rate    |count|mean_updated_salary|median_updated_salary|\n",
      "+-------------------+-----+-------------------+---------------------+\n",
      "|0.0                |31431|149977.80738761096 |140000.0             |\n",
      "|0.0412             |7697 |157200.52680784676 |148891.6             |\n",
      "|0.1212             |1612 |149860.42809553383 |146316.6             |\n",
      "|0.16820000000000002|201  |120022.87870646772 |103565.6             |\n",
      "|0.1805             |72   |116686.11263888891 |97292.68             |\n",
      "+-------------------+-----+-------------------+---------------------+\n",
      "\n",
      "+--------------+-----+-------------------+---------------------+\n",
      "|updated_salary|count|mean_updated_salary|median_updated_salary|\n",
      "+--------------+-----+-------------------+---------------------+\n",
      "|15107.0       |1    |15107.0            |15107.0              |\n",
      "|15419.0       |2    |15419.0            |15419.0              |\n",
      "|16000.0       |6    |16000.0            |16000.0              |\n",
      "|16326.02      |1    |16326.02           |16326.02             |\n",
      "|16460.33      |1    |16460.33           |16460.33             |\n",
      "|16659.2       |1    |16659.2            |16659.2              |\n",
      "|16666.0       |1    |16666.0            |16666.0              |\n",
      "|16818.0       |2    |16818.0            |16818.0              |\n",
      "|17093.38      |1    |17093.38           |17093.38             |\n",
      "|17266.0       |1    |17266.0            |17266.0              |\n",
      "|17333.0       |1    |17333.0            |17333.0              |\n",
      "|17523.0       |1    |17523.0            |17523.0              |\n",
      "|17598.0       |1    |17598.0            |17598.0              |\n",
      "|17600.0       |1    |17600.0            |17600.0              |\n",
      "|17700.4       |1    |17700.4            |17700.4              |\n",
      "|17707.5       |1    |17707.5            |17707.5              |\n",
      "|17726.43      |2    |17726.43           |17726.43             |\n",
      "|18000.0       |1    |18000.0            |18000.0              |\n",
      "|18232.45      |1    |18232.45           |18232.45             |\n",
      "|18533.0       |2    |18533.0            |18533.0              |\n",
      "+--------------+-----+-------------------+---------------------+\n",
      "only showing top 20 rows\n",
      "\n",
      "+----------+-----+-------------------+---------------------+\n",
      "|job_type  |count|mean_updated_salary|median_updated_salary|\n",
      "+----------+-----+-------------------+---------------------+\n",
      "|Híbrido   |253  |89096.33355731229  |74214.47             |\n",
      "|Presencial|30272|153110.50330635553 |143100.0             |\n",
      "|Remoto    |10488|146884.38207284515 |141603.2             |\n",
      "+----------+-----+-------------------+---------------------+\n",
      "\n"
     ]
    }
   ],
   "source": [
    "for column in df_job_type.columns:\n",
    "    evaluate_response_variable(\n",
    "        df_job_type.filter(F.col(\"data_roles\") == 1), column\n",
    "    ).sort(column).show(truncate=False)"
   ]
  },
  {
   "cell_type": "markdown",
   "metadata": {},
   "source": [
    "### Treinando modelo de regressão"
   ]
  },
  {
   "cell_type": "code",
   "execution_count": null,
   "metadata": {},
   "outputs": [],
   "source": [
    "from pyspark.ml.regression import RandomForestRegressor\n",
    "from pyspark.ml import Pipeline\n",
    "from pyspark.ml.feature import OneHotEncoder, StringIndexer\n",
    "from pyspark.ml.feature import VectorIndexer, VectorAssembler"
   ]
  },
  {
   "cell_type": "code",
   "execution_count": null,
   "metadata": {},
   "outputs": [],
   "source": [
    "si = StringIndexer(inputCol=\"job_type\", outputCol=\"job_type_cat\")"
   ]
  },
  {
   "cell_type": "code",
   "execution_count": 34,
   "metadata": {},
   "outputs": [],
   "source": [
    "teste = si.fit(df_job_type).transform(df_job_type)"
   ]
  },
  {
   "cell_type": "code",
   "execution_count": null,
   "metadata": {},
   "outputs": [
    {
     "name": "stdout",
     "output_type": "stream",
     "text": [
      "+-----------+----------------+---------------+------------------------+------+---------------+-------------+------------------+------------+----------------+------------+---------+---------+----+---------------+--------------+----------+------------+\n",
      "|id         |experience_level|employment_type|job_title               |salary|salary_currency|salary_in_usd|employee_residence|remote_ratio|company_location|company_size|work_year|job_focus|year|cumulative_rate|updated_salary|job_type  |job_type_cat|\n",
      "+-----------+----------------+---------------+------------------------+------+---------------+-------------+------------------+------------+----------------+------------+---------+---------+----+---------------+--------------+----------+------------+\n",
      "|17179869184|EN              |FT             |Azure Data Engineer     |100000|USD            |100000       |MU                |0           |MU              |S           |2020     |Engineer |2020|0.1805         |118050.0      |Presencial|0.0         |\n",
      "|17179869185|EN              |CT             |Staff Data Analyst      |60000 |CAD            |44753        |CA                |50          |CA              |L           |2020     |Analyst  |2020|0.1805         |52830.92      |Híbrido   |2.0         |\n",
      "|17179869186|SE              |FT             |Staff Data Scientist    |164000|USD            |164000       |US                |50          |US              |M           |2020     |Scientist|2020|0.1805         |193602.0      |Híbrido   |2.0         |\n",
      "|17179869187|EN              |FT             |Data Analyst            |42000 |EUR            |47899        |DE                |0           |DE              |L           |2020     |Analyst  |2020|0.1805         |56544.77      |Presencial|0.0         |\n",
      "|17179869188|EX              |FT             |Data Scientist          |300000|USD            |300000       |US                |100         |US              |L           |2020     |Scientist|2020|0.1805         |354150.0      |Remoto    |1.0         |\n",
      "|17179869189|MI              |CT             |Sales Data Analyst      |60000 |USD            |60000        |NG                |0           |NG              |M           |2020     |Analyst  |2020|0.1805         |70830.0       |Presencial|0.0         |\n",
      "|17179869190|EX              |FT             |Staff Data Analyst      |15000 |USD            |15000        |NG                |0           |CA              |M           |2020     |Analyst  |2020|0.1805         |17707.5       |Presencial|0.0         |\n",
      "|17179869191|MI              |FT             |Business Data Analyst   |95000 |USD            |95000        |US                |0           |US              |M           |2020     |Analyst  |2020|0.1805         |112147.5      |Presencial|0.0         |\n",
      "|17179869192|EN              |FT             |Data Analyst            |20000 |EUR            |22809        |PT                |100         |PT              |M           |2020     |Analyst  |2020|0.1805         |26926.02      |Remoto    |1.0         |\n",
      "|17179869193|EN              |FT             |Data Scientist          |43200 |EUR            |49268        |DE                |0           |DE              |S           |2020     |Scientist|2020|0.1805         |58160.87      |Presencial|0.0         |\n",
      "|17179869194|SE              |FT             |Machine Learning Manager|157000|CAD            |117104       |CA                |50          |CA              |L           |2020     |Manager  |2020|0.1805         |138241.27     |Híbrido   |2.0         |\n",
      "|17179869195|EN              |FT             |Data Engineer           |48000 |EUR            |54742        |PK                |100         |DE              |L           |2020     |Engineer |2020|0.1805         |64622.93      |Remoto    |1.0         |\n",
      "|17179869196|MI              |FT             |Product Data Analyst    |20000 |USD            |20000        |HN                |0           |HN              |S           |2020     |Analyst  |2020|0.1805         |23610.0       |Presencial|0.0         |\n",
      "|17179869197|MI              |FT             |Data Engineer           |51999 |EUR            |59303        |DE                |100         |DE              |S           |2020     |Engineer |2020|0.1805         |70007.19      |Remoto    |1.0         |\n",
      "|17179869198|EN              |FT             |Big Data Engineer       |70000 |USD            |70000        |US                |100         |US              |L           |2020     |Engineer |2020|0.1805         |82635.0       |Remoto    |1.0         |\n",
      "|17179869199|SE              |FT             |Data Scientist          |60000 |EUR            |68428        |GR                |100         |US              |L           |2020     |Scientist|2020|0.1805         |80779.25      |Remoto    |1.0         |\n",
      "|17179869200|MI              |FT             |Research Scientist      |450000|USD            |450000       |US                |0           |US              |M           |2020     |Scientist|2020|0.1805         |531225.0      |Presencial|0.0         |\n",
      "|17179869201|MI              |FT             |Data Analyst            |41000 |EUR            |46759        |FR                |50          |FR              |L           |2020     |Analyst  |2020|0.1805         |55199.0       |Híbrido   |2.0         |\n",
      "|17179869202|MI              |FT             |Data Engineer           |65000 |EUR            |74130        |AT                |50          |AT              |L           |2020     |Engineer |2020|0.1805         |87510.47      |Híbrido   |2.0         |\n",
      "|17179869203|MI              |FT             |Data Scientist          |103000|USD            |103000       |US                |100         |US              |L           |2020     |Scientist|2020|0.1805         |121591.5      |Remoto    |1.0         |\n",
      "+-----------+----------------+---------------+------------------------+------+---------------+-------------+------------------+------------+----------------+------------+---------+---------+----+---------------+--------------+----------+------------+\n",
      "only showing top 20 rows\n",
      "\n"
     ]
    }
   ],
   "source": [
    "teste.show(truncate=False)"
   ]
  },
  {
   "cell_type": "code",
   "execution_count": null,
   "metadata": {},
   "outputs": [],
   "source": [
    "ohe = OneHotEncoder(inputCol=\"job_type_cat\", outputCol=\"job_type_vec\")"
   ]
  },
  {
   "cell_type": "code",
   "execution_count": 40,
   "metadata": {},
   "outputs": [],
   "source": [
    "teste2 = ohe.fit(teste).transform(teste)"
   ]
  },
  {
   "cell_type": "code",
   "execution_count": null,
   "metadata": {},
   "outputs": [
    {
     "name": "stdout",
     "output_type": "stream",
     "text": [
      "+-----------+----------------+---------------+------------------------+------+---------------+-------------+------------------+------------+----------------+------------+---------+---------+----+---------------+--------------+----------+------------+-------------+\n",
      "|id         |experience_level|employment_type|job_title               |salary|salary_currency|salary_in_usd|employee_residence|remote_ratio|company_location|company_size|work_year|job_focus|year|cumulative_rate|updated_salary|job_type  |job_type_cat|job_type_vec |\n",
      "+-----------+----------------+---------------+------------------------+------+---------------+-------------+------------------+------------+----------------+------------+---------+---------+----+---------------+--------------+----------+------------+-------------+\n",
      "|17179869184|EN              |FT             |Azure Data Engineer     |100000|USD            |100000       |MU                |0           |MU              |S           |2020     |Engineer |2020|0.1805         |118050.0      |Presencial|0.0         |(2,[0],[1.0])|\n",
      "|17179869185|EN              |CT             |Staff Data Analyst      |60000 |CAD            |44753        |CA                |50          |CA              |L           |2020     |Analyst  |2020|0.1805         |52830.92      |Híbrido   |2.0         |(2,[],[])    |\n",
      "|17179869186|SE              |FT             |Staff Data Scientist    |164000|USD            |164000       |US                |50          |US              |M           |2020     |Scientist|2020|0.1805         |193602.0      |Híbrido   |2.0         |(2,[],[])    |\n",
      "|17179869187|EN              |FT             |Data Analyst            |42000 |EUR            |47899        |DE                |0           |DE              |L           |2020     |Analyst  |2020|0.1805         |56544.77      |Presencial|0.0         |(2,[0],[1.0])|\n",
      "|17179869188|EX              |FT             |Data Scientist          |300000|USD            |300000       |US                |100         |US              |L           |2020     |Scientist|2020|0.1805         |354150.0      |Remoto    |1.0         |(2,[1],[1.0])|\n",
      "|17179869189|MI              |CT             |Sales Data Analyst      |60000 |USD            |60000        |NG                |0           |NG              |M           |2020     |Analyst  |2020|0.1805         |70830.0       |Presencial|0.0         |(2,[0],[1.0])|\n",
      "|17179869190|EX              |FT             |Staff Data Analyst      |15000 |USD            |15000        |NG                |0           |CA              |M           |2020     |Analyst  |2020|0.1805         |17707.5       |Presencial|0.0         |(2,[0],[1.0])|\n",
      "|17179869191|MI              |FT             |Business Data Analyst   |95000 |USD            |95000        |US                |0           |US              |M           |2020     |Analyst  |2020|0.1805         |112147.5      |Presencial|0.0         |(2,[0],[1.0])|\n",
      "|17179869192|EN              |FT             |Data Analyst            |20000 |EUR            |22809        |PT                |100         |PT              |M           |2020     |Analyst  |2020|0.1805         |26926.02      |Remoto    |1.0         |(2,[1],[1.0])|\n",
      "|17179869193|EN              |FT             |Data Scientist          |43200 |EUR            |49268        |DE                |0           |DE              |S           |2020     |Scientist|2020|0.1805         |58160.87      |Presencial|0.0         |(2,[0],[1.0])|\n",
      "|17179869194|SE              |FT             |Machine Learning Manager|157000|CAD            |117104       |CA                |50          |CA              |L           |2020     |Manager  |2020|0.1805         |138241.27     |Híbrido   |2.0         |(2,[],[])    |\n",
      "|17179869195|EN              |FT             |Data Engineer           |48000 |EUR            |54742        |PK                |100         |DE              |L           |2020     |Engineer |2020|0.1805         |64622.93      |Remoto    |1.0         |(2,[1],[1.0])|\n",
      "|17179869196|MI              |FT             |Product Data Analyst    |20000 |USD            |20000        |HN                |0           |HN              |S           |2020     |Analyst  |2020|0.1805         |23610.0       |Presencial|0.0         |(2,[0],[1.0])|\n",
      "|17179869197|MI              |FT             |Data Engineer           |51999 |EUR            |59303        |DE                |100         |DE              |S           |2020     |Engineer |2020|0.1805         |70007.19      |Remoto    |1.0         |(2,[1],[1.0])|\n",
      "|17179869198|EN              |FT             |Big Data Engineer       |70000 |USD            |70000        |US                |100         |US              |L           |2020     |Engineer |2020|0.1805         |82635.0       |Remoto    |1.0         |(2,[1],[1.0])|\n",
      "|17179869199|SE              |FT             |Data Scientist          |60000 |EUR            |68428        |GR                |100         |US              |L           |2020     |Scientist|2020|0.1805         |80779.25      |Remoto    |1.0         |(2,[1],[1.0])|\n",
      "|17179869200|MI              |FT             |Research Scientist      |450000|USD            |450000       |US                |0           |US              |M           |2020     |Scientist|2020|0.1805         |531225.0      |Presencial|0.0         |(2,[0],[1.0])|\n",
      "|17179869201|MI              |FT             |Data Analyst            |41000 |EUR            |46759        |FR                |50          |FR              |L           |2020     |Analyst  |2020|0.1805         |55199.0       |Híbrido   |2.0         |(2,[],[])    |\n",
      "|17179869202|MI              |FT             |Data Engineer           |65000 |EUR            |74130        |AT                |50          |AT              |L           |2020     |Engineer |2020|0.1805         |87510.47      |Híbrido   |2.0         |(2,[],[])    |\n",
      "|17179869203|MI              |FT             |Data Scientist          |103000|USD            |103000       |US                |100         |US              |L           |2020     |Scientist|2020|0.1805         |121591.5      |Remoto    |1.0         |(2,[1],[1.0])|\n",
      "+-----------+----------------+---------------+------------------------+------+---------------+-------------+------------------+------------+----------------+------------+---------+---------+----+---------------+--------------+----------+------------+-------------+\n",
      "only showing top 20 rows\n",
      "\n"
     ]
    }
   ],
   "source": [
    "teste2.show(truncate=False)"
   ]
  },
  {
   "cell_type": "code",
   "execution_count": 42,
   "metadata": {},
   "outputs": [],
   "source": [
    "assembler = VectorAssembler(\n",
    "    inputCols=[\"job_type_vec\"],\n",
    "    outputCol=\"features\",\n",
    ")"
   ]
  },
  {
   "cell_type": "code",
   "execution_count": 44,
   "metadata": {},
   "outputs": [],
   "source": [
    "output = assembler.transform(teste2)"
   ]
  },
  {
   "cell_type": "code",
   "execution_count": null,
   "metadata": {},
   "outputs": [
    {
     "name": "stdout",
     "output_type": "stream",
     "text": [
      "+-----------+----------------+---------------+------------------------+------+---------------+-------------+------------------+------------+----------------+------------+---------+---------+----+---------------+--------------+----------+------------+-------------+---------+\n",
      "|id         |experience_level|employment_type|job_title               |salary|salary_currency|salary_in_usd|employee_residence|remote_ratio|company_location|company_size|work_year|job_focus|year|cumulative_rate|updated_salary|job_type  |job_type_cat|job_type_vec |features |\n",
      "+-----------+----------------+---------------+------------------------+------+---------------+-------------+------------------+------------+----------------+------------+---------+---------+----+---------------+--------------+----------+------------+-------------+---------+\n",
      "|17179869184|EN              |FT             |Azure Data Engineer     |100000|USD            |100000       |MU                |0           |MU              |S           |2020     |Engineer |2020|0.1805         |118050.0      |Presencial|0.0         |(2,[0],[1.0])|[1.0,0.0]|\n",
      "|17179869185|EN              |CT             |Staff Data Analyst      |60000 |CAD            |44753        |CA                |50          |CA              |L           |2020     |Analyst  |2020|0.1805         |52830.92      |Híbrido   |2.0         |(2,[],[])    |(2,[],[])|\n",
      "|17179869186|SE              |FT             |Staff Data Scientist    |164000|USD            |164000       |US                |50          |US              |M           |2020     |Scientist|2020|0.1805         |193602.0      |Híbrido   |2.0         |(2,[],[])    |(2,[],[])|\n",
      "|17179869187|EN              |FT             |Data Analyst            |42000 |EUR            |47899        |DE                |0           |DE              |L           |2020     |Analyst  |2020|0.1805         |56544.77      |Presencial|0.0         |(2,[0],[1.0])|[1.0,0.0]|\n",
      "|17179869188|EX              |FT             |Data Scientist          |300000|USD            |300000       |US                |100         |US              |L           |2020     |Scientist|2020|0.1805         |354150.0      |Remoto    |1.0         |(2,[1],[1.0])|[0.0,1.0]|\n",
      "|17179869189|MI              |CT             |Sales Data Analyst      |60000 |USD            |60000        |NG                |0           |NG              |M           |2020     |Analyst  |2020|0.1805         |70830.0       |Presencial|0.0         |(2,[0],[1.0])|[1.0,0.0]|\n",
      "|17179869190|EX              |FT             |Staff Data Analyst      |15000 |USD            |15000        |NG                |0           |CA              |M           |2020     |Analyst  |2020|0.1805         |17707.5       |Presencial|0.0         |(2,[0],[1.0])|[1.0,0.0]|\n",
      "|17179869191|MI              |FT             |Business Data Analyst   |95000 |USD            |95000        |US                |0           |US              |M           |2020     |Analyst  |2020|0.1805         |112147.5      |Presencial|0.0         |(2,[0],[1.0])|[1.0,0.0]|\n",
      "|17179869192|EN              |FT             |Data Analyst            |20000 |EUR            |22809        |PT                |100         |PT              |M           |2020     |Analyst  |2020|0.1805         |26926.02      |Remoto    |1.0         |(2,[1],[1.0])|[0.0,1.0]|\n",
      "|17179869193|EN              |FT             |Data Scientist          |43200 |EUR            |49268        |DE                |0           |DE              |S           |2020     |Scientist|2020|0.1805         |58160.87      |Presencial|0.0         |(2,[0],[1.0])|[1.0,0.0]|\n",
      "|17179869194|SE              |FT             |Machine Learning Manager|157000|CAD            |117104       |CA                |50          |CA              |L           |2020     |Manager  |2020|0.1805         |138241.27     |Híbrido   |2.0         |(2,[],[])    |(2,[],[])|\n",
      "|17179869195|EN              |FT             |Data Engineer           |48000 |EUR            |54742        |PK                |100         |DE              |L           |2020     |Engineer |2020|0.1805         |64622.93      |Remoto    |1.0         |(2,[1],[1.0])|[0.0,1.0]|\n",
      "|17179869196|MI              |FT             |Product Data Analyst    |20000 |USD            |20000        |HN                |0           |HN              |S           |2020     |Analyst  |2020|0.1805         |23610.0       |Presencial|0.0         |(2,[0],[1.0])|[1.0,0.0]|\n",
      "|17179869197|MI              |FT             |Data Engineer           |51999 |EUR            |59303        |DE                |100         |DE              |S           |2020     |Engineer |2020|0.1805         |70007.19      |Remoto    |1.0         |(2,[1],[1.0])|[0.0,1.0]|\n",
      "|17179869198|EN              |FT             |Big Data Engineer       |70000 |USD            |70000        |US                |100         |US              |L           |2020     |Engineer |2020|0.1805         |82635.0       |Remoto    |1.0         |(2,[1],[1.0])|[0.0,1.0]|\n",
      "|17179869199|SE              |FT             |Data Scientist          |60000 |EUR            |68428        |GR                |100         |US              |L           |2020     |Scientist|2020|0.1805         |80779.25      |Remoto    |1.0         |(2,[1],[1.0])|[0.0,1.0]|\n",
      "|17179869200|MI              |FT             |Research Scientist      |450000|USD            |450000       |US                |0           |US              |M           |2020     |Scientist|2020|0.1805         |531225.0      |Presencial|0.0         |(2,[0],[1.0])|[1.0,0.0]|\n",
      "|17179869201|MI              |FT             |Data Analyst            |41000 |EUR            |46759        |FR                |50          |FR              |L           |2020     |Analyst  |2020|0.1805         |55199.0       |Híbrido   |2.0         |(2,[],[])    |(2,[],[])|\n",
      "|17179869202|MI              |FT             |Data Engineer           |65000 |EUR            |74130        |AT                |50          |AT              |L           |2020     |Engineer |2020|0.1805         |87510.47      |Híbrido   |2.0         |(2,[],[])    |(2,[],[])|\n",
      "|17179869203|MI              |FT             |Data Scientist          |103000|USD            |103000       |US                |100         |US              |L           |2020     |Scientist|2020|0.1805         |121591.5      |Remoto    |1.0         |(2,[1],[1.0])|[0.0,1.0]|\n",
      "+-----------+----------------+---------------+------------------------+------+---------------+-------------+------------------+------------+----------------+------------+---------+---------+----+---------------+--------------+----------+------------+-------------+---------+\n",
      "only showing top 20 rows\n",
      "\n"
     ]
    }
   ],
   "source": [
    "output.show(truncate=False)"
   ]
  },
  {
   "cell_type": "code",
   "execution_count": null,
   "metadata": {},
   "outputs": [],
   "source": [
    "indexer = (\n",
    "    VectorIndexer(inputCol=\"features\", outputCol=\"indexedFeatures\", maxCategories=4)\n",
    "    .fit(output)\n",
    "    .transform(output)\n",
    ")"
   ]
  },
  {
   "cell_type": "code",
   "execution_count": null,
   "metadata": {},
   "outputs": [
    {
     "name": "stdout",
     "output_type": "stream",
     "text": [
      "+-----------+----------------+---------------+------------------------+------+---------------+-------------+------------------+------------+----------------+------------+---------+---------+----+---------------+--------------+----------+------------+-------------+---------+---------------+\n",
      "|id         |experience_level|employment_type|job_title               |salary|salary_currency|salary_in_usd|employee_residence|remote_ratio|company_location|company_size|work_year|job_focus|year|cumulative_rate|updated_salary|job_type  |job_type_cat|job_type_vec |features |indexedFeatures|\n",
      "+-----------+----------------+---------------+------------------------+------+---------------+-------------+------------------+------------+----------------+------------+---------+---------+----+---------------+--------------+----------+------------+-------------+---------+---------------+\n",
      "|17179869184|EN              |FT             |Azure Data Engineer     |100000|USD            |100000       |MU                |0           |MU              |S           |2020     |Engineer |2020|0.1805         |118050.0      |Presencial|0.0         |(2,[0],[1.0])|[1.0,0.0]|[1.0,0.0]      |\n",
      "|17179869185|EN              |CT             |Staff Data Analyst      |60000 |CAD            |44753        |CA                |50          |CA              |L           |2020     |Analyst  |2020|0.1805         |52830.92      |Híbrido   |2.0         |(2,[],[])    |(2,[],[])|(2,[],[])      |\n",
      "|17179869186|SE              |FT             |Staff Data Scientist    |164000|USD            |164000       |US                |50          |US              |M           |2020     |Scientist|2020|0.1805         |193602.0      |Híbrido   |2.0         |(2,[],[])    |(2,[],[])|(2,[],[])      |\n",
      "|17179869187|EN              |FT             |Data Analyst            |42000 |EUR            |47899        |DE                |0           |DE              |L           |2020     |Analyst  |2020|0.1805         |56544.77      |Presencial|0.0         |(2,[0],[1.0])|[1.0,0.0]|[1.0,0.0]      |\n",
      "|17179869188|EX              |FT             |Data Scientist          |300000|USD            |300000       |US                |100         |US              |L           |2020     |Scientist|2020|0.1805         |354150.0      |Remoto    |1.0         |(2,[1],[1.0])|[0.0,1.0]|[0.0,1.0]      |\n",
      "|17179869189|MI              |CT             |Sales Data Analyst      |60000 |USD            |60000        |NG                |0           |NG              |M           |2020     |Analyst  |2020|0.1805         |70830.0       |Presencial|0.0         |(2,[0],[1.0])|[1.0,0.0]|[1.0,0.0]      |\n",
      "|17179869190|EX              |FT             |Staff Data Analyst      |15000 |USD            |15000        |NG                |0           |CA              |M           |2020     |Analyst  |2020|0.1805         |17707.5       |Presencial|0.0         |(2,[0],[1.0])|[1.0,0.0]|[1.0,0.0]      |\n",
      "|17179869191|MI              |FT             |Business Data Analyst   |95000 |USD            |95000        |US                |0           |US              |M           |2020     |Analyst  |2020|0.1805         |112147.5      |Presencial|0.0         |(2,[0],[1.0])|[1.0,0.0]|[1.0,0.0]      |\n",
      "|17179869192|EN              |FT             |Data Analyst            |20000 |EUR            |22809        |PT                |100         |PT              |M           |2020     |Analyst  |2020|0.1805         |26926.02      |Remoto    |1.0         |(2,[1],[1.0])|[0.0,1.0]|[0.0,1.0]      |\n",
      "|17179869193|EN              |FT             |Data Scientist          |43200 |EUR            |49268        |DE                |0           |DE              |S           |2020     |Scientist|2020|0.1805         |58160.87      |Presencial|0.0         |(2,[0],[1.0])|[1.0,0.0]|[1.0,0.0]      |\n",
      "|17179869194|SE              |FT             |Machine Learning Manager|157000|CAD            |117104       |CA                |50          |CA              |L           |2020     |Manager  |2020|0.1805         |138241.27     |Híbrido   |2.0         |(2,[],[])    |(2,[],[])|(2,[],[])      |\n",
      "|17179869195|EN              |FT             |Data Engineer           |48000 |EUR            |54742        |PK                |100         |DE              |L           |2020     |Engineer |2020|0.1805         |64622.93      |Remoto    |1.0         |(2,[1],[1.0])|[0.0,1.0]|[0.0,1.0]      |\n",
      "|17179869196|MI              |FT             |Product Data Analyst    |20000 |USD            |20000        |HN                |0           |HN              |S           |2020     |Analyst  |2020|0.1805         |23610.0       |Presencial|0.0         |(2,[0],[1.0])|[1.0,0.0]|[1.0,0.0]      |\n",
      "|17179869197|MI              |FT             |Data Engineer           |51999 |EUR            |59303        |DE                |100         |DE              |S           |2020     |Engineer |2020|0.1805         |70007.19      |Remoto    |1.0         |(2,[1],[1.0])|[0.0,1.0]|[0.0,1.0]      |\n",
      "|17179869198|EN              |FT             |Big Data Engineer       |70000 |USD            |70000        |US                |100         |US              |L           |2020     |Engineer |2020|0.1805         |82635.0       |Remoto    |1.0         |(2,[1],[1.0])|[0.0,1.0]|[0.0,1.0]      |\n",
      "|17179869199|SE              |FT             |Data Scientist          |60000 |EUR            |68428        |GR                |100         |US              |L           |2020     |Scientist|2020|0.1805         |80779.25      |Remoto    |1.0         |(2,[1],[1.0])|[0.0,1.0]|[0.0,1.0]      |\n",
      "|17179869200|MI              |FT             |Research Scientist      |450000|USD            |450000       |US                |0           |US              |M           |2020     |Scientist|2020|0.1805         |531225.0      |Presencial|0.0         |(2,[0],[1.0])|[1.0,0.0]|[1.0,0.0]      |\n",
      "|17179869201|MI              |FT             |Data Analyst            |41000 |EUR            |46759        |FR                |50          |FR              |L           |2020     |Analyst  |2020|0.1805         |55199.0       |Híbrido   |2.0         |(2,[],[])    |(2,[],[])|(2,[],[])      |\n",
      "|17179869202|MI              |FT             |Data Engineer           |65000 |EUR            |74130        |AT                |50          |AT              |L           |2020     |Engineer |2020|0.1805         |87510.47      |Híbrido   |2.0         |(2,[],[])    |(2,[],[])|(2,[],[])      |\n",
      "|17179869203|MI              |FT             |Data Scientist          |103000|USD            |103000       |US                |100         |US              |L           |2020     |Scientist|2020|0.1805         |121591.5      |Remoto    |1.0         |(2,[1],[1.0])|[0.0,1.0]|[0.0,1.0]      |\n",
      "+-----------+----------------+---------------+------------------------+------+---------------+-------------+------------------+------------+----------------+------------+---------+---------+----+---------------+--------------+----------+------------+-------------+---------+---------------+\n",
      "only showing top 20 rows\n",
      "\n"
     ]
    }
   ],
   "source": [
    "indexer.show(truncate=False)"
   ]
  },
  {
   "cell_type": "code",
   "execution_count": 64,
   "metadata": {},
   "outputs": [],
   "source": [
    "rfr = RandomForestRegressor(featuresCol=\"indexedFeatures\", labelCol=\"updated_salary\")"
   ]
  },
  {
   "cell_type": "code",
   "execution_count": 65,
   "metadata": {},
   "outputs": [],
   "source": [
    "model = rfr.fit(indexer)"
   ]
  },
  {
   "cell_type": "code",
   "execution_count": null,
   "metadata": {},
   "outputs": [
    {
     "data": {
      "text/plain": [
       "RandomForestRegressionModel: uid=RandomForestRegressor_f182bc60685f, numTrees=20, numFeatures=2"
      ]
     },
     "execution_count": 66,
     "metadata": {},
     "output_type": "execute_result"
    }
   ],
   "source": [
    "model"
   ]
  },
  {
   "cell_type": "code",
   "execution_count": 70,
   "metadata": {},
   "outputs": [],
   "source": [
    "result = model.transform(indexer)"
   ]
  },
  {
   "cell_type": "code",
   "execution_count": null,
   "metadata": {},
   "outputs": [
    {
     "name": "stdout",
     "output_type": "stream",
     "text": [
      "+-----------+----------------+---------------+------------------------+------+---------------+-------------+------------------+------------+----------------+------------+---------+---------+----+---------------+--------------+----------+------------+-------------+---------+---------------+------------------+\n",
      "|id         |experience_level|employment_type|job_title               |salary|salary_currency|salary_in_usd|employee_residence|remote_ratio|company_location|company_size|work_year|job_focus|year|cumulative_rate|updated_salary|job_type  |job_type_cat|job_type_vec |features |indexedFeatures|prediction        |\n",
      "+-----------+----------------+---------------+------------------------+------+---------------+-------------+------------------+------------+----------------+------------+---------+---------+----+---------------+--------------+----------+------------+-------------+---------+---------------+------------------+\n",
      "|17179869184|EN              |FT             |Azure Data Engineer     |100000|USD            |100000       |MU                |0           |MU              |S           |2020     |Engineer |2020|0.1805         |118050.0      |Presencial|0.0         |(2,[0],[1.0])|[1.0,0.0]|[1.0,0.0]      |162741.1222013876 |\n",
      "|17179869185|EN              |CT             |Staff Data Analyst      |60000 |CAD            |44753        |CA                |50          |CA              |L           |2020     |Analyst  |2020|0.1805         |52830.92      |Híbrido   |2.0         |(2,[],[])    |(2,[],[])|(2,[],[])      |117186.38761150709|\n",
      "|17179869186|SE              |FT             |Staff Data Scientist    |164000|USD            |164000       |US                |50          |US              |M           |2020     |Scientist|2020|0.1805         |193602.0      |Híbrido   |2.0         |(2,[],[])    |(2,[],[])|(2,[],[])      |117186.38761150709|\n",
      "|17179869187|EN              |FT             |Data Analyst            |42000 |EUR            |47899        |DE                |0           |DE              |L           |2020     |Analyst  |2020|0.1805         |56544.77      |Presencial|0.0         |(2,[0],[1.0])|[1.0,0.0]|[1.0,0.0]      |162741.1222013876 |\n",
      "|17179869188|EX              |FT             |Data Scientist          |300000|USD            |300000       |US                |100         |US              |L           |2020     |Scientist|2020|0.1805         |354150.0      |Remoto    |1.0         |(2,[1],[1.0])|[0.0,1.0]|[0.0,1.0]      |151282.35525378675|\n",
      "|17179869189|MI              |CT             |Sales Data Analyst      |60000 |USD            |60000        |NG                |0           |NG              |M           |2020     |Analyst  |2020|0.1805         |70830.0       |Presencial|0.0         |(2,[0],[1.0])|[1.0,0.0]|[1.0,0.0]      |162741.1222013876 |\n",
      "|17179869190|EX              |FT             |Staff Data Analyst      |15000 |USD            |15000        |NG                |0           |CA              |M           |2020     |Analyst  |2020|0.1805         |17707.5       |Presencial|0.0         |(2,[0],[1.0])|[1.0,0.0]|[1.0,0.0]      |162741.1222013876 |\n",
      "|17179869191|MI              |FT             |Business Data Analyst   |95000 |USD            |95000        |US                |0           |US              |M           |2020     |Analyst  |2020|0.1805         |112147.5      |Presencial|0.0         |(2,[0],[1.0])|[1.0,0.0]|[1.0,0.0]      |162741.1222013876 |\n",
      "|17179869192|EN              |FT             |Data Analyst            |20000 |EUR            |22809        |PT                |100         |PT              |M           |2020     |Analyst  |2020|0.1805         |26926.02      |Remoto    |1.0         |(2,[1],[1.0])|[0.0,1.0]|[0.0,1.0]      |151282.35525378675|\n",
      "|17179869193|EN              |FT             |Data Scientist          |43200 |EUR            |49268        |DE                |0           |DE              |S           |2020     |Scientist|2020|0.1805         |58160.87      |Presencial|0.0         |(2,[0],[1.0])|[1.0,0.0]|[1.0,0.0]      |162741.1222013876 |\n",
      "|17179869194|SE              |FT             |Machine Learning Manager|157000|CAD            |117104       |CA                |50          |CA              |L           |2020     |Manager  |2020|0.1805         |138241.27     |Híbrido   |2.0         |(2,[],[])    |(2,[],[])|(2,[],[])      |117186.38761150709|\n",
      "|17179869195|EN              |FT             |Data Engineer           |48000 |EUR            |54742        |PK                |100         |DE              |L           |2020     |Engineer |2020|0.1805         |64622.93      |Remoto    |1.0         |(2,[1],[1.0])|[0.0,1.0]|[0.0,1.0]      |151282.35525378675|\n",
      "|17179869196|MI              |FT             |Product Data Analyst    |20000 |USD            |20000        |HN                |0           |HN              |S           |2020     |Analyst  |2020|0.1805         |23610.0       |Presencial|0.0         |(2,[0],[1.0])|[1.0,0.0]|[1.0,0.0]      |162741.1222013876 |\n",
      "|17179869197|MI              |FT             |Data Engineer           |51999 |EUR            |59303        |DE                |100         |DE              |S           |2020     |Engineer |2020|0.1805         |70007.19      |Remoto    |1.0         |(2,[1],[1.0])|[0.0,1.0]|[0.0,1.0]      |151282.35525378675|\n",
      "|17179869198|EN              |FT             |Big Data Engineer       |70000 |USD            |70000        |US                |100         |US              |L           |2020     |Engineer |2020|0.1805         |82635.0       |Remoto    |1.0         |(2,[1],[1.0])|[0.0,1.0]|[0.0,1.0]      |151282.35525378675|\n",
      "|17179869199|SE              |FT             |Data Scientist          |60000 |EUR            |68428        |GR                |100         |US              |L           |2020     |Scientist|2020|0.1805         |80779.25      |Remoto    |1.0         |(2,[1],[1.0])|[0.0,1.0]|[0.0,1.0]      |151282.35525378675|\n",
      "|17179869200|MI              |FT             |Research Scientist      |450000|USD            |450000       |US                |0           |US              |M           |2020     |Scientist|2020|0.1805         |531225.0      |Presencial|0.0         |(2,[0],[1.0])|[1.0,0.0]|[1.0,0.0]      |162741.1222013876 |\n",
      "|17179869201|MI              |FT             |Data Analyst            |41000 |EUR            |46759        |FR                |50          |FR              |L           |2020     |Analyst  |2020|0.1805         |55199.0       |Híbrido   |2.0         |(2,[],[])    |(2,[],[])|(2,[],[])      |117186.38761150709|\n",
      "|17179869202|MI              |FT             |Data Engineer           |65000 |EUR            |74130        |AT                |50          |AT              |L           |2020     |Engineer |2020|0.1805         |87510.47      |Híbrido   |2.0         |(2,[],[])    |(2,[],[])|(2,[],[])      |117186.38761150709|\n",
      "|17179869203|MI              |FT             |Data Scientist          |103000|USD            |103000       |US                |100         |US              |L           |2020     |Scientist|2020|0.1805         |121591.5      |Remoto    |1.0         |(2,[1],[1.0])|[0.0,1.0]|[0.0,1.0]      |151282.35525378675|\n",
      "+-----------+----------------+---------------+------------------------+------+---------------+-------------+------------------+------------+----------------+------------+---------+---------+----+---------------+--------------+----------+------------+-------------+---------+---------------+------------------+\n",
      "only showing top 20 rows\n",
      "\n"
     ]
    }
   ],
   "source": [
    "result.show(truncate=False)"
   ]
  },
  {
   "cell_type": "code",
   "execution_count": null,
   "metadata": {},
   "outputs": [
    {
     "name": "stdout",
     "output_type": "stream",
     "text": [
      "+----------+------------------+\n",
      "|job_type  |prediction        |\n",
      "+----------+------------------+\n",
      "|Remoto    |151282.35525378675|\n",
      "|Presencial|162741.1222013876 |\n",
      "|Híbrido   |117186.38761150709|\n",
      "+----------+------------------+\n",
      "\n"
     ]
    }
   ],
   "source": [
    "result.select(\"job_type\", \"prediction\").distinct().show(truncate=False)"
   ]
  },
  {
   "cell_type": "code",
   "execution_count": null,
   "metadata": {},
   "outputs": [],
   "source": []
  }
 ],
 "metadata": {
  "kernelspec": {
   "display_name": "Python 3 (ipykernel)",
   "language": "python",
   "name": "python3"
  },
  "language_info": {
   "codemirror_mode": {
    "name": "ipython",
    "version": 3
   },
   "file_extension": ".py",
   "mimetype": "text/x-python",
   "name": "python",
   "nbconvert_exporter": "python",
   "pygments_lexer": "ipython3",
   "version": "3.11.10"
  }
 },
 "nbformat": 4,
 "nbformat_minor": 2
}
